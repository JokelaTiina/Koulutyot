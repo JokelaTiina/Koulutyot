{
 "cells": [
  {
   "cell_type": "markdown",
   "metadata": {
    "collapsed": true
   },
   "source": [
    "# Datan analysointi K2021 - Tehtävät kerta 6\n",
    "\n",
    "Palauta ratkaisusi Moodleen, kun olet ensin testannut ratkaisusi toimivuuden Notebookilla tai omalla koneellasi. Kun olet palauttanut tehtäväsi Moodleen, ne arvioidaan pistein:\n",
    "* 1,0 p. Vastaus oikein ensimmäisellä yrityksellä.\n",
    "* 0,5 p. Vastaus oikein toisella yrityksellä.\n",
    "* 0 p. Vastaus on annettu kolmannella yrityksellä.\n",
    "\n",
    "**Tee tehtävät ilman for-silmukoita tms.**"
   ]
  },
  {
   "cell_type": "markdown",
   "metadata": {},
   "source": [
    "## 1. Säädatan aikaleimojen muodostaminen\n",
    "\n",
    "Tee funktio saa(url), joka tekee seuraavaa:\n",
    "* lataa datan DataFrameen [url:sta](https://student.labranet.jamk.fi/~huoptu/datananal_s20/kerta6/harjoitukset/saatiedot.csv),\n",
    "* laskee DataFrameen uuden sarakkeen 'From start, s' riveille kuinka paljon aikaa on kulunut sekunteina aikajärjestyksessä ensimmäisestä mittaustapahtumasta,\n",
    "* asettaa DataFramelle indeksin sarakkeesta 'From start, s' muodossa 'tuntia.minuuttia.sekuntia' [Pandasin aikaleimana](https://pandas.pydata.org/pandas-docs/stable/reference/api/pandas.to_datetime.html),\n",
    "* tulostaa vastaukseen viisi ensimmäistä riviä sarakkeista 'From start, s' ja 'Pressure (msl), hPa', kun mittauksien alusta oli kulunut aikaa enemmän kuin '09.59.45'.\n",
    "\n",
    "Tässä tehtävässä:\n",
    "* url='https://student.labranet.jamk.fi/~huoptu/datananal_s20/kerta6/harjoitukset/saatiedot.csv'\n",
    "\n",
    "**Esimerkiksi, saa(url) tulostaa:**\n",
    "<img src=\"https://student.labranet.jamk.fi/~huoptu/datananal_s20/kerta6/harjoitukset/h6t1.png\" width=\"300\"/>"
   ]
  },
  {
   "cell_type": "code",
   "execution_count": 30,
   "metadata": {
    "scrolled": true
   },
   "outputs": [
    {
     "name": "stdout",
     "output_type": "stream",
     "text": [
      "          From start, s  Pressure (msl), hPa\n",
      "hh.mm.ss                                    \n",
      "10.00.00        36000.0               1007.6\n",
      "10.01.00        36060.0               1007.6\n",
      "10.02.00        36120.0               1007.7\n",
      "10.03.00        36180.0               1007.6\n",
      "10.04.00        36240.0               1007.6\n"
     ]
    }
   ],
   "source": [
    "def saa(url):\n",
    "    # Kirjoita vastauksesi tähän alle:\n",
    "    import pandas as pd\n",
    "    \n",
    "    df = pd.read_csv(url, sep=',', decimal='.')\n",
    "    df['Unnamed: 0'] = pd.to_datetime(df['Unnamed: 0'])\n",
    "    #laskee DataFrameen uuden sarakkeen 'From start, s' riveille kuinka paljon aikaa on kulunut sekunteina aikajärjestyksessä \n",
    "    #ensimmäisestä mittaustapahtumasta\n",
    "    df = df.sort_values(by=('Unnamed: 0'))\n",
    "    df.reset_index(inplace=True)\n",
    "    df['From start, s'] =  (df.shift(0)['Unnamed: 0'] - df['Unnamed: 0'][0]).dt.total_seconds()\n",
    "    # vaihtoehtoinen tapa:\n",
    "    #df['From start, s'] =  df['Unnamed: 0'].diff(1).dt.total_seconds().cumsum()\n",
    "    # asettaa DataFramelle indeksin sarakkeesta 'From start, s' muodossa 'tuntia.minuuttia.sekuntia' Pandasin aikaleimana\n",
    "    df['hh.mm.ss'] = pd.to_datetime(df['From start, s'], unit='s')\n",
    "    df['hh.mm.ss'] = df['hh.mm.ss'].dt.strftime(date_format=\"%H.%M.%S\")\n",
    "    df.index = df['hh.mm.ss']\n",
    "    # tulostaa vastaukseen viisi ensimmäistä riviä sarakkeista 'From start, s' ja 'Pressure (msl), hPa', kun mittauksien alusta \n",
    "    #oli kulunut aikaa enemmän kuin '09.59.45'.\n",
    "    df = df[['From start, s', 'Pressure (msl), hPa']]\n",
    "    tulos =df[df.index>'09.59.45'].head()\n",
    "    # Älä kirjoita tähän muita print komentoja ennen viimeistä print(tulos) komentoa, koska tällöin vastauksesi saatetaan tulkita väärin.\n",
    "    # Lopuksi vastauksesi tulostetaan tulos muuttujassa\n",
    "    print(tulos)\n",
    "\n",
    "url='https://student.labranet.jamk.fi/~huoptu/datananal_s20/kerta6/harjoitukset/saatiedot.csv' \n",
    "saa(url)\n",
    "\n"
   ]
  },
  {
   "cell_type": "markdown",
   "metadata": {},
   "source": [
    "## 2. Säädatan aikaleimojen muodostaminen (2)\n",
    "\n",
    "Tee funktio saa(url), joka tekee seuraavaa:\n",
    "* lataa datan DataFrameen [url:sta](https://student.labranet.jamk.fi/~huoptu/datananal_s20/kerta6/harjoitukset/saatiedot.csv),\n",
    "* laskee DataFrameen uuden sarakkeen 'From start, s' riveille kuinka paljon aikaa on kulunut sekunteina aikajärjestyksessä ensimmäisestä mittaustapahtumasta,\n",
    "* asettaa DataFramelle indeksin sarakkeesta 'From start, s' muodossa 'tuntia.minuuttia.sekuntia' [Pandasin aikaleimana](https://pandas.pydata.org/pandas-docs/stable/reference/api/pandas.to_datetime.html),\n",
    "* tallentaa uuteen DataFrameen sarakkeet 'Air temperature, degC' ja 'Pressure (msl), hPa',\n",
    "* laskee edelleen uuteen DataFrameen sarakkeiden 'Air temperature, degC' ja 'Pressure (msl), hPa' riveillä olevien arvojen tuntikohtaiset keskiarvot,\n",
    "* pyöristää ja esittää DataFramen lukuarvot yhden desimaalin tarkkuudella,\n",
    "* tulostaa vastaukseen viisi ensimmäistä riviä sarakkeista 'Air temperature, degC' ja 'Pressure (msl), hPa', kun mittauksien alusta oli kulunut aikaa vähintään '07.00.00'.\n",
    "\n",
    "Tässä tehtävässä:\n",
    "* url='https://student.labranet.jamk.fi/~huoptu/datananal_s20/kerta6/harjoitukset/saatiedot.csv'\n",
    "\n",
    "**Esimerkiksi saa(url) tulostaa:**\n",
    "<img src=\"https://student.labranet.jamk.fi/~huoptu/datananal_s20/kerta6/harjoitukset/h6t2.png\" width=\"325\"/>"
   ]
  },
  {
   "cell_type": "code",
   "execution_count": 54,
   "metadata": {},
   "outputs": [
    {
     "name": "stdout",
     "output_type": "stream",
     "text": [
      "         Air temperature, degC Pressure (msl), hPa\n",
      "hh.mm.ss                                          \n",
      "07.00.00                   5.2              1008.9\n",
      "08.00.00                   4.8              1008.2\n",
      "09.00.00                   4.8              1007.9\n",
      "10.00.00                   5.0              1007.7\n",
      "11.00.00                   5.1              1007.3\n"
     ]
    }
   ],
   "source": [
    "def saa(url):\n",
    "    # Kirjoita vastauksesi tähän alle:\n",
    "    import pandas as pd\n",
    "    \n",
    "    df = pd.read_csv(url, sep=',', decimal='.')\n",
    "    df['Unnamed: 0'] = pd.to_datetime(df['Unnamed: 0'])\n",
    "    #laskee DataFrameen uuden sarakkeen 'From start, s' riveille kuinka paljon aikaa on kulunut sekunteina aikajärjestyksessä \n",
    "    #ensimmäisestä mittaustapahtumasta\n",
    "    df = df.sort_values(by=('Unnamed: 0'))\n",
    "    df.reset_index(inplace=True)\n",
    "    df['From start, s'] =  (df.shift(0)['Unnamed: 0'] - df['Unnamed: 0'][0]).dt.total_seconds()\n",
    "    # asettaa DataFramelle indeksin sarakkeesta 'From start, s' muodossa 'tuntia.minuuttia.sekuntia' Pandasin aikaleimana\n",
    "    df['hh.mm.ss'] = pd.to_datetime(df['From start, s'], unit='s')\n",
    "    df.index = df['hh.mm.ss']\n",
    "    # laskee edelleen uuteen DataFrameen sarakkeiden 'Air temperature, degC' ja 'Pressure (msl), hPa' riveillä olevien arvojen \n",
    "    # tuntikohtaiset keskiarvot,\n",
    "    df = df.resample(rule = 'H', kind='period').mean()\n",
    "    df.index  = (df.index).strftime(date_format='%H.%M.%S')\n",
    "    # tallentaa uuteen DataFrameen sarakkeet 'Air temperature, degC' ja 'Pressure (msl), hPa',\n",
    "    df = df[['Air temperature, degC', 'Pressure (msl), hPa']]\n",
    "    # pyöristää ja esittää DataFramen lukuarvot yhden desimaalin tarkkuudella,\n",
    "    df = df.applymap('{:.1f}'.format)\n",
    "    # tulostaa vastaukseen viisi ensimmäistä riviä sarakkeista 'Air temperature, degC' ja 'Pressure (msl), hPa', kun \n",
    "    # mittauksien alusta oli kulunut aikaa vähintään '07.00.00'.\n",
    "    tulos =df[df.index>='07.00.00'].head()\n",
    "    # Älä kirjoita tähän muita print komentoja ennen viimeistä print(tulos) komentoa, koska tällöin vastauksesi saatetaan tulkita väärin.\n",
    "    \n",
    "    # Lopuksi vastauksesi tulostetaan tulos muuttujassa\n",
    "    print(tulos)\n",
    "     \n",
    "url='https://student.labranet.jamk.fi/~huoptu/datananal_s20/kerta6/harjoitukset/saatiedot.csv' \n",
    "saa(url)"
   ]
  },
  {
   "cell_type": "markdown",
   "metadata": {},
   "source": [
    "## 3. Aikasarjadatan generointia\n",
    "\n",
    "Eräässä sovelluksessa tarvitaan tieto kappaleen paikasta $xy$ - koordinaatistossa tunnetulla ajanhetkellä. Kappaleen lähtiessä liikkeelle levosta ajanhetkellä $t$ on 0 sekuntia, kappaleen paikka $xy$ - tasolla metreinä on\n",
    "$$\n",
    "x=\\frac{t\\cdot v_0}{\\sqrt{2}}\\ \\text{ja}\n",
    "$$\n",
    "$$\n",
    "y=\\frac{t\\cdot v_0}{\\sqrt{2}} - \\frac{9.82\\ \\text{m}/\\text{s}^2\\cdot t^2}{2},\n",
    "$$\n",
    "missä kappaleen lähtönopeus $v_0$ on 600 m/s ja $t$ on aika sekunteina. Kappaleen liikeyhtälö pätee, jos kappale lähtee liikkeelle 45-asteen kulmassa $x$-akseliin nähden ja väliaineen vastausvoimat oletetaan olemattomiksi.\n",
    "\n",
    "Tätä varten tee funktio timedata(start, end), joka tekee seuraavaa:\n",
    "* muodostaa DataFramen indeksiksi [Pandasin aikaleiman](https://pandas.pydata.org/pandas-docs/stable/reference/api/pandas.to_datetime.html) muodossa **tuntia:minuuttia:sekuntia** 20 sekunnin välein alkaen ajanhetkestä '2019-12-31 23:59:00' hetkeen '2020-01-01 00:00:30',\n",
    "* esittää uudessa DataFramessa kappaleen lentoajan $t$ sekunteina sarakkeessa 't, s', \n",
    "* laskee DataFrameen kappaleen paikan x-akselin suunnassa metreinä sarakkeeseen 'x, m',\n",
    "* laskee DataFrameen kappaleen paikan y-akselin suunnassa metreinä sarakkeeseen 'y, m',\n",
    "* pyöristää ja esittää DataFramessa lukuarvot kokonaislukujen tarkkuuteen,\n",
    "* tulostaa vastaukseen viisi ensimmäistä riviä ajanhetkestä 0 sekuntia (sarake 't, s') eteenpäin.\n",
    "\n",
    "Tässä tehtävässä:\n",
    "* start='2019-12-31 23:59:00'\n",
    "* end='2020-01-01 00:00:30'\n",
    "\n",
    "**Esimerkiksi timedata(start, end) tulostaa:**\n",
    "<img src=\"https://student.labranet.jamk.fi/~huoptu/datananal_s20/kerta6/harjoitukset/h6t3.png\" width=\"190\"/>\n"
   ]
  },
  {
   "cell_type": "code",
   "execution_count": null,
   "metadata": {},
   "outputs": [],
   "source": [
    "def timedata(start, end):\n",
    "    # Kirjoita vastauksesi tähän alle:\n",
    "    \n",
    "    # ...\n",
    "    # Älä kirjoita tähän muita print komentoja ennen viimeistä print(tulos) komentoa, koska tällöin vastauksesi saatetaan tulkita väärin.\n",
    "    \n",
    "    # Lopuksi vastauksesi tulostetaan tulos muuttujassa\n",
    "    print(tulos) \n"
   ]
  },
  {
   "cell_type": "markdown",
   "metadata": {},
   "source": [
    "## 4. Aikasarjadatan lineaarinen interpolointi\n",
    "\n",
    "Tämän tehtävän datassa esiintyvät sarakkeet 'hh:mm:ss', 'aika, s' ja 'y, m', mitkä edustavat kellonaikaa mittauksian alusta, aikaa mittauksien alusta sekunteina ja kappaleen paikkaa metreinä. Tee funktio interp_times(url), joka tekee seuraavaa:\n",
    "* lataa datan [url:sta](https://student.labranet.jamk.fi/~huoptu/datananal_s20/kerta6/harjoitukset/motion.csv) DataFrameen,\n",
    "* täyttää mittauksien alusta lähtien uuden DataFramen indekseihin puuttuvat kellonajan arvot ja puuttuvat ajan arvot sarakkeeseen 't_tot, s' 5 sekunnin aikavälein,\n",
    "* täyttää mittauksien alusta lähtien uuteen DataFrameen puuttuvat kappaleen paikan arvot sarakkeeseen 'int_y, m' lineaarisen approksimaation mukaan 5 sekunnin välein,\n",
    "* pyöristää DataFramen lukuarvot kokonaislukujen tarkkuuteen,\n",
    "* tulostaa vastaukseen sarakkeet 't_tot, s' ja 'int_y, m', kun mittauksien alusta lukien kellonaika on '00:00:45'-'00:01:31'.\n",
    "\n",
    "Tässä tehtävässä lineaarinen approksimaatio tarkoittaa kahden eri pisteen väliin jäävien paikan $y$ arvojen laskemista suoran yhtälön avulla\n",
    "$$\n",
    "y=\\left(\\frac{y_{i+1}-y_{i}}{t_{i+1}-t_{i}}\\right)\\cdot(t-t_{i})+y_{i},\n",
    "$$\n",
    "missä $y_i$ ja $y_{i+1}$ ovat alkuperäisen datasetin peräkkäiset kappaleen paikat (metreinä) sekä $t_i$ ja $t_{i+1}$ ovat alkuperäisen datasetin peräkkäiset ajanhetket sekunteina. Kappaleen paikka $y$ on metreinä ja tunnettujen pisteiden välissä oleva ajanhetki $t$ on sekunteina. Indeksi $i$ tarkoittaa alkuperäisen datan rivi-indeksiä ja $i+1$ tarkoittaa seuraavaa rivi-indeksiä.\n",
    "\n",
    "**Huom! Älä käytä tehtävässä for - silmukoita.**\n",
    "\n",
    "Tässä tehtävässä:\n",
    "* url='https://student.labranet.jamk.fi/~huoptu/datananal_s20/kerta6/harjoitukset/motion.csv'\n",
    "\n",
    "**Esimerkiksi interp_times(url) tulostaa:**\n",
    "<img src=\"https://student.labranet.jamk.fi/~huoptu/datananal_s20/kerta6/harjoitukset/h6t5.png\" width=\"190\"/>"
   ]
  },
  {
   "cell_type": "code",
   "execution_count": null,
   "metadata": {},
   "outputs": [],
   "source": [
    "def interp_times(url):\n",
    "    # Kirjoita vastauksesi tähän alle:\n",
    "    \n",
    "    # ...\n",
    "    # Älä kirjoita tähän muita print komentoja ennen viimeistä print(tulos) komentoa, koska tällöin vastauksesi saatetaan tulkita väärin.\n",
    "    \n",
    "    # Lopuksi vastauksesi tulostetaan tulos muuttujassa\n",
    "    print(tulos)"
   ]
  },
  {
   "cell_type": "markdown",
   "metadata": {},
   "source": [
    "## 5. Aikasarjojen yhdistäminen\n",
    "\n",
    "Tässä tehtävässä yhdistetään kaksi eri aikasarjadatasettiä niiden aikaleimojen perusteella. \n",
    "* [Datasetissä](https://student.labranet.jamk.fi/~huoptu/datananal_s20/kerta6/harjoitukset/saatiedot_kumpula_1d.csv) nro 1. aikainformaatio on sisällytetty ensimmäiseen ensimmäiseen nimeämättömään sarakkeeseen muodossa 'vuosi-kuukausi-päivä tunnit:minuutit:sekunnit'. Datasetissä nro 1. tarvitaan jatkolaskuja varten sarakkeen 'Air temperature, degC' lämpötilainformaatio.\n",
    "* [Datasetissä](https://student.labranet.jamk.fi/~huoptu/datananal_s20/kerta6/harjoitukset/indoormeas.csv) nro 2. aikainformaatio on sisällytetty ensimmäiseen sarakkeeseen 'time, s' sekunteina. Datasetissä nro 2. tarvitaan jatkolaskuja varten sarakkeen 'Temp, C-deg' lämpötilainformaatio.\n",
    "\n",
    "Tee funktio tempdiff(url1, url2), joka tekee seuraavaa:\n",
    "* lataa aikasarjadatan nro 1. DataFrameen [url:sta](https://student.labranet.jamk.fi/~huoptu/datananal_s20/kerta6/harjoitukset/saatiedot_kumpula_1d.csv) ja aikasarjadatan nro 2. toiseen DataFrameen [url:sta](https://student.labranet.jamk.fi/~huoptu/datananal_s20/kerta6/harjoitukset/indoormeas.csv),\n",
    "* muodostaa datan nro 2. DataFrameen aikaleiman indeksiksi muodossa 'vuosi-kuukausi-päivä tunnit:minuutit:sekunnit', kun mittaukset ovat alkaneet '2020-11-05 08:40:00' ja sarake 'time, s' kertoo ajan mittausten alusta sekunteina,\n",
    "* yhdistää aikasarjadatojen nro 1. ja nro 2. kaikki lämpötilat 'Air temperature, degC' ja 'Temp, C-deg' yhteen DataFrameen aikaleimojen perusteella kasvavaan aikajärjestykseen siten, että yhdistetyssä DataFramessa indeksi kertoo mittaustapahtumien ajanhetken,\n",
    "* puuttuvien lämpötilojen arvot täytetään DataFrameen em. aikajärjestyksessä edellisillä lämpötilan arvoilla,\n",
    "* laskee uuteen DataFrameen sarakkeeseen 'Temp_diff, C-deg' kuinka paljon lämpötila 'Temp, C-deg' on suurempi kuin lämpötila 'Air temperature, degC',\n",
    "* laskee DataFrameen lämpötilojen erotuksen 'Temp_diff, C-deg' liukuvan keskiarvon kolmen tunnin aikaikkunalla sarakkeeseen 'Temp_roll, C-deg',\n",
    "* pyöristää ja esittää DataFramen lukuarvot kolmen desimaalin tarkkuudella,\n",
    "* tulostaa lopputulokseen viisi ensimmäistä riviä sarakkeista 'Temp_diff, C-deg' ja 'Temp_roll, C-deg' ajanhetkestä '2020-11-05 12:59:00' eteenpäin.\n",
    "\n",
    "**Esimerkiksi tempdiff(url1, url2) tulostaa:**\n",
    "<img src=\"https://student.labranet.jamk.fi/~huoptu/datananal_s20/kerta6/harjoitukset/h6t4.png\" width=\"350\"/>"
   ]
  },
  {
   "cell_type": "code",
   "execution_count": null,
   "metadata": {},
   "outputs": [],
   "source": [
    "def tempdiff(url1, url2):\n",
    "    # Kirjoita vastauksesi tähän alle:\n",
    "    \n",
    "    # ...\n",
    "    # Älä kirjoita tähän muita print komentoja ennen viimeistä print(tulos) komentoa, koska tällöin vastauksesi saatetaan tulkita väärin.\n",
    "    \n",
    "    # Lopuksi vastauksesi tulostetaan tulos muuttujassa\n",
    "    print(tulos)\n",
    "\n",
    "# Voit kokeillä funktiosi toimivuutta:\n",
    "url1 = 'https://student.labranet.jamk.fi/~huoptu/datananal_s20/kerta6/harjoitukset/saatiedot_kumpula_1d.csv'    \n",
    "url2 = 'https://student.labranet.jamk.fi/~huoptu/datananal_s20/kerta6/harjoitukset/indoormeas.csv'\n",
    "tempdiff(url1, url2)"
   ]
  }
 ],
 "metadata": {
  "kernelspec": {
   "display_name": "Python 3",
   "language": "python",
   "name": "python3"
  },
  "language_info": {
   "codemirror_mode": {
    "name": "ipython",
    "version": 3
   },
   "file_extension": ".py",
   "mimetype": "text/x-python",
   "name": "python",
   "nbconvert_exporter": "python",
   "pygments_lexer": "ipython3",
   "version": "3.8.5"
  }
 },
 "nbformat": 4,
 "nbformat_minor": 2
}
