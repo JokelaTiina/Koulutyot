{
 "cells": [
  {
   "cell_type": "markdown",
   "metadata": {},
   "source": [
    "# Datan analysointi K2021 - Tehtävät kerta 2\n",
    "\n",
    "Palauta ratkaisusi Moodleen, kun olet ensin testannut ratkaisusi toimivuuden Notebookilla tai omalla koneellasi. Kun olet palauttanut tehtäväsi Moodleen, ne arvioidaan pistein:\n",
    "* 1,0 p. Vastaus oikein ensimmäisellä yrityksellä.\n",
    "* 0,5 p. Vastaus oikein toisella yrityksellä.\n",
    "* 0 p. Vastaus annettu kolmannella yrityksellä.\n",
    "\n",
    "**Tee tehtävät ilman for-silmukoita tms.**"
   ]
  },
  {
   "cell_type": "markdown",
   "metadata": {},
   "source": [
    "## 1. Kunnat\n",
    "\n",
    "Tee funktio kunnat(url), joka tekee seuraavaa:\n",
    "* lataa datan DataFrameen url:sta (sarakkeiden erotinmerkki on puolipiste ja desimaalimerkki on pilkku),\n",
    "* kopioi uuteen DataFrameen kaikki sarakkeet ja rivit, joissa sarakkeessa 'maakunta' esiintyvät merkkijonot 'Uusimaa', 'Keski-Pohjanmaa' tai 'Keski-Suomi' ja sarakkeen 'Väkiluku' arvo on pienempi kuin 10 000,\n",
    "* kopioi edellisen DataFramen uuteen DataFrameen siten, että ensin on lajiteltu sarake 'maakunta' ja sitten sarake 'kunta' aakkosissa nousevaan järjestykseen,\n",
    "* tulostaa lopputulokseen viisi ensimmäistä riviä.\n",
    "\n",
    "Tehtävän url=https://student.labranet.jamk.fi/~huoptu/datananal_s20/kerta2/harjoitukset/kunnat.csv\n",
    "\n",
    "Esimerkiksi kunnat(url) tulostaa:\n",
    "\n",
    "| |maakunta |      \tkunta  \t\t\t|Väkiluku|\n",
    "|:---|:---|:---|:---|\n",
    "|22       \t|Keski-Pohjanmaa|      \tHalsua      \t|1165    |\n",
    "|75       \t|Keski-Pohjanmaa|      \tKannus      \t|5502    |\n",
    "|84       \t|Keski-Pohjanmaa|   \tKaustinen      \t|4273    |\n",
    "|136      \t|Keski-Pohjanmaa|  \t\tLestijärvi      |737     |\n",
    "|191      \t|Keski-Pohjanmaa|       Perho      \t\t|2825    |\n",
    "\n",
    "**Huom!** Rivi-indeksi on esitetty ensimmäisessä sarakkeessa."
   ]
  },
  {
   "cell_type": "code",
   "execution_count": 17,
   "metadata": {},
   "outputs": [
    {
     "name": "stdout",
     "output_type": "stream",
     "text": [
      "            maakunta       kunta  Väkiluku\n",
      "22   Keski-Pohjanmaa      Halsua      1165\n",
      "75   Keski-Pohjanmaa      Kannus      5502\n",
      "84   Keski-Pohjanmaa   Kaustinen      4273\n",
      "136  Keski-Pohjanmaa  Lestijärvi       737\n",
      "191  Keski-Pohjanmaa       Perho      2825\n"
     ]
    }
   ],
   "source": [
    "def kunnat(url):\n",
    "    # Kirjoita vastauksesi tähän alle:\n",
    "    import pandas as pd\n",
    "    \n",
    "    df = pd.read_csv(url, sep=';', decimal=',')\n",
    "    df2 = df[((df['maakunta']=='Uusimaa') | (df['maakunta']=='Keski-Pohjanmaa') | (df['maakunta']=='Keski-Suomi')) & (df['Väkiluku']<10000)]\n",
    "    tulos = df2[['maakunta', 'kunta', 'Väkiluku']].sort_values(['maakunta', 'kunta'])\n",
    "    tulos = tulos.head()\n",
    "    # Lopuksi vastauksesi tulostetaan tulos muuttujassa\n",
    "    print(tulos)\n",
    "\n",
    "# Palautuksesi päättyy tähän.\n",
    "# Voit lopuksi testata tekemääsi funktiota:\n",
    "url=\"https://student.labranet.jamk.fi/~huoptu/datananal_s20/kerta2/harjoitukset/kunnat.csv\"\n",
    "kunnat(url)\n"
   ]
  },
  {
   "cell_type": "markdown",
   "metadata": {},
   "source": [
    "## 2. Sähkön hintatietojen luokittelua\n",
    "\n",
    "Tee funktio sahko(url), joka tekee seuraavaa:\n",
    "* Lukee url:stä datan DataFrameen kun sarakkeiden erottimena on pilkku \",\" ja desimaalierottimena piste \",\",\n",
    "* jos sarakkeissa 'Year Total €/MWh' ja 'December €/MWh' niiden välillä on merkki \".\", korvataan merkki numpyn nan arvolla hyödyntäen pandasin isin() metodia,\n",
    "* tekee DataFrameen uuden sarakkeen 'hintaluokka', jossa on viisi hintaluokkaa sarakkeesta 'Year Total €/MWh' siten, että alimman ja ylimmän hintaluokan hinnat ovat 'Year Total €/MWh' sarakkeen pienimmät ja suurimmat arvot,\n",
    "* tulostaa 'hintaluokka' sarakkeen hintaluokkien lukumäärät value_counts()-metodilla.\n",
    "* tarkista lopuksi, että funktio jäjestää tulosteen samoin kuin esimerkkivastauksessa.\n",
    "\n",
    "Tässä tehtävässä url=https://student.labranet.jamk.fi/~huoptu/datananal_s20/kerta2/harjoitukset/ehi_010_2020q2.csv\n",
    "\n",
    "**Esimerkiksi, sahko(url) tulostaa:** \\\n",
    "(12.06, 21.256]     21 \\\n",
    "(21.256, 30.452]    85 \\\n",
    "(30.452, 39.648]    78 \\\n",
    "(39.648, 48.844]    22 \\\n",
    "(48.844, 58.04]     28 \\\n",
    "Name: hintaluokka, dtype: int64"
   ]
  },
  {
   "cell_type": "code",
   "execution_count": 128,
   "metadata": {
    "scrolled": true
   },
   "outputs": [
    {
     "name": "stdout",
     "output_type": "stream",
     "text": [
      "(12.06, 21.256]     21\n",
      "(21.256, 30.452]    85\n",
      "(30.452, 39.648]    78\n",
      "(39.648, 48.844]    22\n",
      "(48.844, 58.04]     28\n",
      "Name: hintaluokka, dtype: int64\n"
     ]
    }
   ],
   "source": [
    "def sahko(url):    \n",
    "    # Kirjoita vastauksesi tähän:\n",
    "    import pandas as pd\n",
    "    import numpy as np \n",
    "    \n",
    "    df = pd.read_csv(url)\n",
    "    df2 = df.loc[:,'Year Total €/MWh':'December €/MWh'].isin(['.']) # True/false -dataframe\n",
    "    df[df2] = np.nan \n",
    "\n",
    "    min = df[\"Year Total €/MWh\"].astype(float).min()\n",
    "    max = df[\"Year Total €/MWh\"].astype(float).max()\n",
    "    df['hintaluokka'] = pd.cut(df['Year Total €/MWh'].astype(float), bins=np.linspace(min, max, num=6))\n",
    "\n",
    "    tulos = df['hintaluokka'].value_counts(sort=False)\n",
    "\n",
    "    # Vastauksesi tulostetaan\n",
    "    print(tulos.head())\n",
    "# Palautuksesi päättyy tähän.\n",
    "\n",
    "\n",
    "url = \"https://student.labranet.jamk.fi/~huoptu/datananal_s20/kerta2/harjoitukset/ehi_010_2020q2.csv\"\n",
    "\n",
    "# Voit kokeilla funktiotasi seuraavasti:\n",
    "sahko(url)"
   ]
  },
  {
   "cell_type": "markdown",
   "metadata": {},
   "source": [
    "## 3. Sähkön hintatietojen luokittelua (2)\n",
    "\n",
    "Tee funktio suomisahko(url), joka tekee seuraavaa:\n",
    "* Lukee url:stä datan DataFrameen kun sarakkeiden erottimena on pilkku \",\" ja desimaalierottimena piste \",\",\n",
    "* jos sarakkeissa 'Year Total €/MWh' ja 'December €/MWh' niiden välillä on merkki \".\", korvataan merkki numpyn nan arvolla hyödyntäen pandasin isin() metodia,\n",
    "* muuntaa sarakkeiden 'Year Total €/MWh' ja 'December €/MWh' ja niiden välissä olevien sarakkaiden tietotyypiksi float,\n",
    "* kopioi DataFramesta kaikki sarakkeet ja ne rivit noiden sarakkeessa 'Price area' on merkkijono 'Finland',\n",
    "* laskee **koko vuoden** sähkön hinnan keskiarvon uuteen sarakkeeseen 'Average €/MWh' kuukausilta ('January €/MWh'-'December €/MWh'),\n",
    "* laskee sarakkeeseen 'Below average price' kuinka monena kuukautena sähkönhinta on ollut alle vuoden keskiarvon,\n",
    "* laskee sarakkeeseen 'Above average price' kuinka monena kuukautena sähkönhinta on ollut yli vuoden keskiarvon tai yhtä paljon kuin keskiarvohinta,\n",
    "* tulostaa vain ne kymmenen riviä (head(10)), jolloin sarakkeiden 'Below average price' ja 'Above average price' summa on 12.\n",
    "\n",
    "\n",
    "Tässä tehtävässä url=https://student.labranet.jamk.fi/~huoptu/datananal_s20/kerta2/harjoitukset/ehi_010_2020q2.csv\n",
    "\n",
    "**Esimerkiksi, suomisahko(url) tulostaa:**\n",
    "\n",
    "|  |Year|  Below average price|  Above average price|\n",
    "|:---|:---|:---|:---|\n",
    "|145|  1998|                    5|                    7|\n",
    "|146|  1999|                    5|                    7|\n",
    "|147|  2000|                    7|                    5|\n",
    "|148|  2001|                    7|                    5|\n",
    "|149|  2002|                    9|                    3|\n",
    "|150|  2003|                    9|                    3|\n",
    "|151|  2004|                    7|                    5|\n",
    "|152|  2005|                    5|                    7|\n",
    "|153|  2006|                    6|                    6|\n",
    "|154|  2007|                    7|                    5|\n",
    "\n",
    "**Huom!** Rivi-indeksi on esitetty ensimmäisessä sarakkeessa."
   ]
  },
  {
   "cell_type": "code",
   "execution_count": 4,
   "metadata": {
    "scrolled": true
   },
   "outputs": [
    {
     "name": "stdout",
     "output_type": "stream",
     "text": [
      "     Year  Below average price  Above average price\n",
      "145  1998                    5                    7\n",
      "146  1999                    5                    7\n",
      "147  2000                    7                    5\n",
      "148  2001                    7                    5\n",
      "149  2002                    9                    3\n",
      "150  2003                    9                    3\n",
      "151  2004                    7                    5\n",
      "152  2005                    5                    7\n",
      "153  2006                    6                    6\n",
      "154  2007                    7                    5\n"
     ]
    }
   ],
   "source": [
    "# Palautuksesi alkaa tästä\n",
    "def suomisahko(url):    \n",
    "    # Kirjoita vastauksesi tähän:\n",
    "    import pandas as pd\n",
    "    import numpy as np\n",
    "    \n",
    "    df = pd.read_csv(url)\n",
    "    df2 = df.iloc[:,2:].isin(['.']) # True/false -dataframe\n",
    "    df[df2] = np.nan     \n",
    "    # muuntaa sarakkeiden 'Year Total €/MWh' ja 'December €/MWh' ja niiden välissä olevien sarakkaiden tietotyypiksi float\n",
    "    cols = df.columns[2:] #true/false-taulu\n",
    "    df[cols] = df[cols].astype(float)    \n",
    "    # vaihtoehtoinen tapa\n",
    "    #df[cols] = df[cols].apply(lambda x: x.astype(float))    \n",
    "    df = df.loc[df['Price area'] =='Finland']\n",
    "    cols2 = df.columns[3:]\n",
    "    # laskee koko vuoden sähkön hinnan keskiarvon uuteen sarakkeeseen 'Average €/MWh' kuukausilta ('January €/MWh'-'December €/MWh')\n",
    "    df['Average €/MWh'] = df[cols2].mean(axis=1)\n",
    "    # laskee sarakkeeseen 'Below average price' kuinka monena kuukautena sähkönhinta on ollut alle vuoden keskiarvon\n",
    "    df['Below average price'] = df[cols2].apply(lambda x: x < df[\"Average €/MWh\"]).sum(axis=1)\n",
    "    # laskee sarakkeeseen 'Above average price' kuinka monena kuukautena sähkönhinta on ollut yli vuoden keskiarvon tai yhtä paljon kuin keskiarvohinta\n",
    "    df['Above average price'] = df[cols2].apply(lambda x: x >= df['Average €/MWh']).sum(axis=1)\n",
    "    tulos = df[['Year', 'Below average price', 'Above average price']]\n",
    "    tulos = tulos[tulos[\"Below average price\"] + tulos[\"Above average price\"] == 12]\n",
    "    \n",
    "    # Sama kuin edellinen maski avattuna\n",
    "    #mask = tulos[\"Below average price\"] + tulos[\"Above average price\"] == 12\n",
    "    #tulos = tulos[mask].head(10)\n",
    "    \n",
    "    # Vastauksesi tulostetaan\n",
    "    print(tulos.head(10))\n",
    "\n",
    "# Palautuksesi päättyy tähän.\n",
    "    \n",
    "url = \"https://student.labranet.jamk.fi/~huoptu/datananal_s20/kerta2/harjoitukset/ehi_010_2020q2.csv\"\n",
    "# Voit kokeilla funktiotasi seuraavasti:\n",
    "suomisahko(url)"
   ]
  },
  {
   "cell_type": "markdown",
   "metadata": {},
   "source": [
    "## 4. Henkilötietojen muodostamista merkkijonoista\n",
    "\n",
    "Tee funktio **mail(url)**, joka tekee seuraavaa:\n",
    "* lataa url:stä DataFrameen henkilötietodatan, jossa erotinmerkkinä on tabulaattori ('\\t'),\n",
    "* tallentaa uuteen DataFrameen sarakkeesta 'NameOfContactPerson' sukunimen ja sarakkeesta 'Email' sähköpostiosoitteen,\n",
    "* poistaa rivit, joissa 'NameOfContactPerson' sarakkeessa on samat arvot siten, että järjestyksessä ensimmäinen rivi jätetään,\n",
    "* järjestää yhteystiedot sukunimen mukaan aakkosissa suurimmasta pienimpään(Ö->A),\n",
    "* tulostaa viisi ensimmäistä riviä.\n",
    "\n",
    "Tehtävässä url=https://student.labranet.jamk.fi/~huoptu/datananal_s20/kerta2/harjoitukset/osotteita.csv\n",
    "\n",
    "**Esimerkiksi**, mail(url) tulostaa:\n",
    "\n",
    "| |sukunimi |                      email|\n",
    "|:---|:---|:---|\n",
    "|29  |    Zovko  |         nina.zovko@azo.hr|\n",
    "|173  |  Yotova  |iyotova@moew.government.bg|\n",
    "|73   |  Vitola   |    evita.vitola@lvgmc.lv|\n",
    "|213  |Virgovič   |radoslav.virgovic@sazp.sk|\n",
    "|268  |Virgovic   |radoslav.virgovic@sazp.sk|\n"
   ]
  },
  {
   "cell_type": "code",
   "execution_count": 113,
   "metadata": {
    "scrolled": true
   },
   "outputs": [
    {
     "name": "stdout",
     "output_type": "stream",
     "text": [
      "     sukunimi                       email\n",
      "29      Zovko           nina.zovko@azo.hr\n",
      "173    Yotova  iyotova@moew.government.bg\n",
      "73     Vitola       evita.vitola@lvgmc.lv\n",
      "213  Virgovič   radoslav.virgovic@sazp.sk\n",
      "268  Virgovic   radoslav.virgovic@sazp.sk\n"
     ]
    }
   ],
   "source": [
    "def mail(url):\n",
    "    # Kirjoita vastauksesi tähän alle:\n",
    "    import pandas as pd\n",
    "        \n",
    "    df = pd.read_csv(url, sep = r'\\t', engine=\"python\", encoding=\"utf-8-SIG\", converters = {'\"ID' : (lambda x : x[1:]), 'EMail\"' : (lambda x : x[:-1])})\n",
    "    new_df = df[['NameOfContactPerson', 'EMail\"']]\n",
    "    new_df = new_df.drop_duplicates(['NameOfContactPerson'])\n",
    "    new_df['sukunimi'] = new_df['NameOfContactPerson'].str.split().str.get(-1)\n",
    "    new_df.sort_values('sukunimi', ascending = False, inplace = True)\n",
    "    new_df = new_df.rename(columns={'EMail\"': 'email'})\n",
    "    new_df = new_df[['sukunimi', 'email']]\n",
    "    tulos = new_df.head()\n",
    "    \n",
    "    # Lopuksi vastauksesi tulostetaan tulos muuttujassa\n",
    "    print(tulos)\n",
    "    \n",
    "# Palautuksesi päättyy tähän.    \n",
    "\n",
    "# Testaa funktiotasi:\n",
    "url='https://student.labranet.jamk.fi/~huoptu/datananal_s20/kerta2/harjoitukset/osotteita.csv'\n",
    "mail(url)\n"
   ]
  },
  {
   "cell_type": "markdown",
   "metadata": {},
   "source": [
    "## 5. Henkilötietojen muodostamista merkkijonoista (2)\n",
    "\n",
    "Tee funktio **mail(url)**, joka tekee **järjestyksessä** seuraavaa:\n",
    "* lataa url:stä DataFrameen henkilötietodatan, jossa erotinmerkkinä on tabulaattori ('\\t'),\n",
    "* poistaa rivit, joissa 'NameOfContactPerson' sarakkeessa on samat arvot siten, että järjestyksessä ensimmäinen rivi jätetään,\n",
    "* poistaa sarakkeen 'NameOfContactPerson' kaikilta riveiltä kaarisulkeet ja niiden sisällä olevat merkkijonot,\n",
    "* tallentaa uuteen DataFrameen sarakkeesta 'NameOfContactPerson' sukunimen ja sarakkeesta 'Email' sähköpostiosoitteen,\n",
    "* tallentaa uuteen DataFramen sarakkeeseen ('surname') vain ne rivit, joissa sukunimi sarakkeessa esiintyy aakkosia tai yhdysviiva \"-\" osana sukunimeä,\n",
    "* tallentaa uuteen DataFrameen sarakkeen ('domainend'), jossa on sähköpostiosoitteen domainin loppuosa (esim. **fi**),\n",
    "* poistaa sarakkeesta 'domainend' tyhjät merkkijonot,\n",
    "* järjestää DataFramen rivit sarakkeen 'surname' mukaan aakkosittain nousevaan järjestykseen (A -> Ö),\n",
    "* tulostaa DataFramesta viisi ensimmäistä riviä sarakkeista 'surname' ja 'domainend'.\n",
    "\n",
    "Tehtävässä url=https://student.labranet.jamk.fi/~huoptu/datananal_s20/kerta2/harjoitukset/osotteita.csv\n",
    "\n",
    "**Esimerkiksi**, mail(url) tulostaa:\n",
    "\n",
    "| | surname| domainend|\n",
    "|:---|:---|:---|\n",
    "|327|  Al-Hanbali|        se|\n",
    "|163|   Alexandru|        ro|\n",
    "|287|  Berzinskas|        lt|\n",
    "|330|     Brennan|        uk|\n",
    "|257|      Cassar|        mt|\n"
   ]
  },
  {
   "cell_type": "code",
   "execution_count": 178,
   "metadata": {},
   "outputs": [
    {
     "name": "stdout",
     "output_type": "stream",
     "text": [
      "         surname domainend\n",
      "327   Al-Hanbali        se\n",
      "163    Alexandru        ro\n",
      "287   Berzinskas        lt\n",
      "330      Brennan        uk\n",
      "257       Cassar        mt\n",
      "290       Cassar        mt\n",
      "193      Cordero        es\n",
      "247        Duffy        ie\n",
      "113    Dvořáková        cz\n",
      "328       Fašing        si\n",
      "143   Grzybowski        pl\n",
      "153       Jardim        pt\n",
      "43        Jensen        dk\n",
      "10         Kludt        de\n",
      "93           Kun        hu\n",
      "296       Kvasič        si\n",
      "286         LENA        it\n",
      "123          Laé        fr\n",
      "63          Lena        it\n",
      "217     Lunskutė        lt\n",
      "19        Mandel        ee\n",
      "33      Morfeldt        se\n",
      "297   Ogunbadejo        uk\n",
      "294    Paraschiv        ro\n",
      "83           PhD        lu\n",
      "322    Piccinino        mt\n",
      "237  Prendergast        uk\n",
      "274     REICHARD        at\n",
      "280         Raud        ee\n",
      "0       Reichard        at\n",
      "298    Restelica       net\n",
      "227         Roth        si\n",
      "203     Saarinen        fi\n",
      "320      Schuman        lu\n",
      "267    Situation        de\n",
      "308    Situation        de\n",
      "103    Vanpoucke        be\n",
      "183    Vassiliou        cy\n",
      "268     Virgovic        sk\n",
      "213     Virgovič        sk\n",
      "73        Vitola        lv\n",
      "173       Yotova        bg\n",
      "29         Zovko        hr\n"
     ]
    }
   ],
   "source": [
    "def mail(url):\n",
    "    # Kirjoita vastauksesi tähän alle:\n",
    "    import pandas as pd\n",
    "   \n",
    "    df = pd.read_csv(url, sep = r'\\t', engine=\"python\", encoding=\"utf-8-SIG\", converters = {'\"ID' : (lambda x : x[1:]), 'EMail\"' : (lambda x : x[:-1])})\n",
    "    df_new = df[['NameOfContactPerson', 'EMail\"']]\n",
    "    df_new = df_new.drop_duplicates(['NameOfContactPerson'])\n",
    "    df_new['NameOfContactPerson'] = df_new['NameOfContactPerson'].str.replace('[(,)]', '')\n",
    "    df_new = df_new[df_new['NameOfContactPerson'].str.contains('\\D')==True]    \n",
    "    df_new['surname'] = df_new['NameOfContactPerson'].str.split().str.get(-1)        \n",
    "    df_new['domainend'] = df['EMail\"'].str.split('@').str.get(1).str.split('.').str.get(-1)\n",
    "    df_new = df_new.dropna() \n",
    "    df_new = df_new[['surname', 'domainend']]\n",
    "    df_new.sort_values('surname', inplace = True) \n",
    "    tulos = df_new.head()\n",
    "    \n",
    "    #Lopuksi vastauksesi tulostetaan tulos muuttujassa    \n",
    "    print(tulos)\n",
    "\n",
    "# Palautuksesi päättyy tähän.\n",
    "\n",
    "# Testaa funktiotasi:\n",
    "url='https://student.labranet.jamk.fi/~huoptu/datananal_s20/kerta2/harjoitukset/osotteita.csv'\n",
    "mail(url)"
   ]
  }
 ],
 "metadata": {
  "kernelspec": {
   "display_name": "Python 3",
   "language": "python",
   "name": "python3"
  },
  "language_info": {
   "codemirror_mode": {
    "name": "ipython",
    "version": 3
   },
   "file_extension": ".py",
   "mimetype": "text/x-python",
   "name": "python",
   "nbconvert_exporter": "python",
   "pygments_lexer": "ipython3",
   "version": "3.8.5"
  }
 },
 "nbformat": 4,
 "nbformat_minor": 2
}
