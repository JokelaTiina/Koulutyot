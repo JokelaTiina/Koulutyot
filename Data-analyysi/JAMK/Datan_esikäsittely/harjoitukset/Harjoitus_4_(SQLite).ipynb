{
 "cells": [
  {
   "cell_type": "markdown",
   "metadata": {},
   "source": [
    "## SQLite-tehtävät"
   ]
  },
  {
   "cell_type": "markdown",
   "metadata": {},
   "source": [
    "#### Tehtävä 1. Lisää tarvittavat kirjastot ja tee `testi.db` niminen tietokanta (SQLite3)"
   ]
  },
  {
   "cell_type": "code",
   "execution_count": 237,
   "metadata": {},
   "outputs": [],
   "source": [
    "import sqlite3\n",
    "import pandas as pd\n",
    "\n",
    "database_connection = sqlite3.connect('testi.db')"
   ]
  },
  {
   "cell_type": "markdown",
   "metadata": {},
   "source": [
    "#### Tehtävä 2. Luo yhteys tietokantaan"
   ]
  },
  {
   "cell_type": "code",
   "execution_count": 238,
   "metadata": {},
   "outputs": [],
   "source": [
    "c = database_connection.cursor()"
   ]
  },
  {
   "cell_type": "markdown",
   "metadata": {},
   "source": [
    "#### Tehtävä 3. Tee tietokantaan seuraavanlainen taulu, jonka nimi on `henkilotaulu`:\n",
    "    \n",
    "| Nimi        | Ika           | Kengankoko  |\n",
    "| ------------- |-------------| -----|\n",
    "| Teppo      | 88 | 47 |\n",
    "| Matti      | 34     | 39 |\n",
    "| Ilona | 41      |    36 |\n",
    "| Sonja | 32      |    37 |"
   ]
  },
  {
   "cell_type": "code",
   "execution_count": 239,
   "metadata": {},
   "outputs": [],
   "source": [
    "# c.execute('''CREATE TABLE henkilotaulu (Nimi, Ika, Kengankoko)''')\n",
    "# data_rows = [('Teppo', 88, 47), ('Matti', 34, 39), ('Ilona', 41, 36), ('Sonja', 32, 37)]\n",
    "\n",
    "# for row in data_rows:\n",
    "#    c.execute('''INSERT INTO henkilotaulu VALUES {0}'''.format(row))\n",
    "\n",
    "# database_connection.commit()"
   ]
  },
  {
   "cell_type": "code",
   "execution_count": 240,
   "metadata": {},
   "outputs": [
    {
     "data": {
      "text/plain": [
       "[('Teppo', 88, 47), ('Matti', 34, 39), ('Ilona', 41, 36), ('Sonja', 32, 37)]"
      ]
     },
     "execution_count": 240,
     "metadata": {},
     "output_type": "execute_result"
    }
   ],
   "source": [
    "data = c.execute('''SELECT * FROM henkilotaulu''')\n",
    "retrieved_data = data.fetchall()\n",
    "retrieved_data"
   ]
  },
  {
   "cell_type": "markdown",
   "metadata": {},
   "source": [
    "#### Tehtävä 4. Kun Taulu on tehty, niin hae taulu Pandasin DataFrame-objektiin ja lisää siihen sarake `Hatunkoko`, jonka jälkeen täytä se valitsemillasi arvoilla"
   ]
  },
  {
   "cell_type": "code",
   "execution_count": 241,
   "metadata": {},
   "outputs": [
    {
     "data": {
      "text/html": [
       "<div>\n",
       "<style scoped>\n",
       "    .dataframe tbody tr th:only-of-type {\n",
       "        vertical-align: middle;\n",
       "    }\n",
       "\n",
       "    .dataframe tbody tr th {\n",
       "        vertical-align: top;\n",
       "    }\n",
       "\n",
       "    .dataframe thead th {\n",
       "        text-align: right;\n",
       "    }\n",
       "</style>\n",
       "<table border=\"1\" class=\"dataframe\">\n",
       "  <thead>\n",
       "    <tr style=\"text-align: right;\">\n",
       "      <th></th>\n",
       "      <th>Nimi</th>\n",
       "      <th>Ika</th>\n",
       "      <th>Kengankoko</th>\n",
       "      <th>Hatunkoko</th>\n",
       "    </tr>\n",
       "  </thead>\n",
       "  <tbody>\n",
       "    <tr>\n",
       "      <th>0</th>\n",
       "      <td>Teppo</td>\n",
       "      <td>88</td>\n",
       "      <td>47</td>\n",
       "      <td>58</td>\n",
       "    </tr>\n",
       "    <tr>\n",
       "      <th>1</th>\n",
       "      <td>Matti</td>\n",
       "      <td>34</td>\n",
       "      <td>39</td>\n",
       "      <td>59</td>\n",
       "    </tr>\n",
       "    <tr>\n",
       "      <th>2</th>\n",
       "      <td>Ilona</td>\n",
       "      <td>41</td>\n",
       "      <td>36</td>\n",
       "      <td>56</td>\n",
       "    </tr>\n",
       "    <tr>\n",
       "      <th>3</th>\n",
       "      <td>Sonja</td>\n",
       "      <td>32</td>\n",
       "      <td>37</td>\n",
       "      <td>57</td>\n",
       "    </tr>\n",
       "  </tbody>\n",
       "</table>\n",
       "</div>"
      ],
      "text/plain": [
       "    Nimi  Ika  Kengankoko  Hatunkoko\n",
       "0  Teppo   88          47         58\n",
       "1  Matti   34          39         59\n",
       "2  Ilona   41          36         56\n",
       "3  Sonja   32          37         57"
      ]
     },
     "execution_count": 241,
     "metadata": {},
     "output_type": "execute_result"
    }
   ],
   "source": [
    "# sql_query = '''SELECT * FROM henkilotaulu'''\n",
    "# dataframe_from_sqlite = pd.read_sql(sql_query, database_connection)\n",
    "\n",
    "#koot = [58, 59, 56, 57]\n",
    "#dataframe_from_sqlite['Hatunkoko'] = koot\n",
    "dataframe_from_sqlite\n",
    "#dataframe_from_sqlite.to_sql(name='henkilotaulu', con=database_connection, if_exists='fail', index=False)"
   ]
  },
  {
   "cell_type": "markdown",
   "metadata": {},
   "source": [
    "#### Tehtävä 5. Tee taulusta kopio, jonka nimi on `henkilotaulukopio` ja lisää siihen rivi valitsemillasi arvoilla"
   ]
  },
  {
   "cell_type": "code",
   "execution_count": 242,
   "metadata": {},
   "outputs": [
    {
     "data": {
      "text/html": [
       "<div>\n",
       "<style scoped>\n",
       "    .dataframe tbody tr th:only-of-type {\n",
       "        vertical-align: middle;\n",
       "    }\n",
       "\n",
       "    .dataframe tbody tr th {\n",
       "        vertical-align: top;\n",
       "    }\n",
       "\n",
       "    .dataframe thead th {\n",
       "        text-align: right;\n",
       "    }\n",
       "</style>\n",
       "<table border=\"1\" class=\"dataframe\">\n",
       "  <thead>\n",
       "    <tr style=\"text-align: right;\">\n",
       "      <th></th>\n",
       "      <th>Nimi</th>\n",
       "      <th>Ika</th>\n",
       "      <th>Kengankoko</th>\n",
       "      <th>Hatunkoko</th>\n",
       "    </tr>\n",
       "  </thead>\n",
       "  <tbody>\n",
       "    <tr>\n",
       "      <th>0</th>\n",
       "      <td>Teppo</td>\n",
       "      <td>88</td>\n",
       "      <td>47</td>\n",
       "      <td>NaN</td>\n",
       "    </tr>\n",
       "    <tr>\n",
       "      <th>1</th>\n",
       "      <td>Matti</td>\n",
       "      <td>34</td>\n",
       "      <td>39</td>\n",
       "      <td>NaN</td>\n",
       "    </tr>\n",
       "    <tr>\n",
       "      <th>2</th>\n",
       "      <td>Ilona</td>\n",
       "      <td>41</td>\n",
       "      <td>36</td>\n",
       "      <td>NaN</td>\n",
       "    </tr>\n",
       "    <tr>\n",
       "      <th>3</th>\n",
       "      <td>Sonja</td>\n",
       "      <td>32</td>\n",
       "      <td>37</td>\n",
       "      <td>NaN</td>\n",
       "    </tr>\n",
       "    <tr>\n",
       "      <th>0</th>\n",
       "      <td>Tiina</td>\n",
       "      <td>52</td>\n",
       "      <td>39</td>\n",
       "      <td>57.0</td>\n",
       "    </tr>\n",
       "  </tbody>\n",
       "</table>\n",
       "</div>"
      ],
      "text/plain": [
       "    Nimi  Ika  Kengankoko  Hatunkoko\n",
       "0  Teppo   88          47        NaN\n",
       "1  Matti   34          39        NaN\n",
       "2  Ilona   41          36        NaN\n",
       "3  Sonja   32          37        NaN\n",
       "0  Tiina   52          39       57.0"
      ]
     },
     "execution_count": 242,
     "metadata": {},
     "output_type": "execute_result"
    }
   ],
   "source": [
    "# sql_query2 = '''SELECT * FROM henkilotaulu'''\n",
    "# dataframe_from_sqlite2 = pd.read_sql(sql_query2, database_connection)\n",
    "# dataframe_from_sqlite2 = dataframe_from_sqlite2.append(pd.DataFrame({'Nimi':['Tiina'], 'Ika':[52], 'Kengankoko':[39], 'Hatunkoko': [57]}))\n",
    "# dataframe_from_sqlite2.to_sql(name='henkilotaulukopio', con=database_connection, if_exists='fail', index=False)\n",
    "\n",
    "dataframe_from_sqlite2"
   ]
  },
  {
   "cell_type": "markdown",
   "metadata": {},
   "source": [
    "#### Tehtävä 6. Tallenna lopuksi tietokannan muutokset ja sulje yhteys"
   ]
  },
  {
   "cell_type": "code",
   "execution_count": 243,
   "metadata": {},
   "outputs": [],
   "source": [
    "# database_connection.commit()\n",
    "# database_connection.close()"
   ]
  }
 ],
 "metadata": {
  "kernelspec": {
   "display_name": "Python 3",
   "language": "python",
   "name": "python3"
  },
  "language_info": {
   "codemirror_mode": {
    "name": "ipython",
    "version": 3
   },
   "file_extension": ".py",
   "mimetype": "text/x-python",
   "name": "python",
   "nbconvert_exporter": "python",
   "pygments_lexer": "ipython3",
   "version": "3.8.5"
  }
 },
 "nbformat": 4,
 "nbformat_minor": 4
}
