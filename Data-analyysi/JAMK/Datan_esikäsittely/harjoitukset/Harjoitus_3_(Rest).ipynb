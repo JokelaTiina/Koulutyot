{
 "cells": [
  {
   "cell_type": "markdown",
   "metadata": {},
   "source": [
    "## Rest-tehtävät"
   ]
  },
  {
   "cell_type": "markdown",
   "metadata": {},
   "source": [
    "Ensimmäisessä tehtäväosiossa rajapintaa pääkaupunkiseudun palveluista. Tämä rajapinta on myös käytössä esimerkeissä.\n",
    "\n",
    "Tietoa palvelusta löytyy: https://www.hel.fi/palvelukarttaws/restpages/palvelurekisteri.html\n",
    "\n",
    "---\n",
    "\n",
    "Toisessa tehtäväosiossa on käytössä Digitrafficin rest-rajapinta, johon on tarkoitus soveltaa osaamista. \n",
    "\n",
    "Tietoa palvelusta löytyy: https://www.digitraffic.fi/rautatieliikenne/#dataa-tukevat-rajapinnat--ty%C3%B6kalut"
   ]
  },
  {
   "cell_type": "markdown",
   "metadata": {},
   "source": [
    "### Pääkaupunkiseudun palveluiden rajapinnan tehtävät"
   ]
  },
  {
   "cell_type": "markdown",
   "metadata": {},
   "source": [
    "Url-osoite rajapinnalle: http://www.hel.fi/palvelukarttaws/rest/vpalvelurekisteri"
   ]
  },
  {
   "cell_type": "markdown",
   "metadata": {},
   "source": [
    "#### Tehtävä 1. Lisää käytettävät kirjastot ja muodosta rajapinnan url-osoite päätteellä `/description/`"
   ]
  },
  {
   "cell_type": "code",
   "execution_count": 10,
   "metadata": {},
   "outputs": [],
   "source": [
    "import requests\n",
    "import pandas as pd\n",
    "import json\n",
    "\n",
    "endpoint = '/description/'\n",
    "url = 'http://www.hel.fi/palvelukarttaws/rest/vpalvelurekisteri'\n",
    "#"
   ]
  },
  {
   "cell_type": "markdown",
   "metadata": {},
   "source": [
    "#### Tehtävä 2. Tee get-pyyntö osoitteeseen ja varmista, että haku onnistuu ja vastauskoodina on 200"
   ]
  },
  {
   "cell_type": "code",
   "execution_count": 11,
   "metadata": {},
   "outputs": [],
   "source": [
    "url = url + endpoint\n",
    "req = requests.get(url=url)\n",
    "#req.url\n",
    "#req.status_code"
   ]
  },
  {
   "cell_type": "markdown",
   "metadata": {},
   "source": [
    "#### Tehtävä 3. Tallenna vastaus muuttujaan listana, joiden elementit ovat json-muodossa"
   ]
  },
  {
   "cell_type": "code",
   "execution_count": 12,
   "metadata": {},
   "outputs": [],
   "source": [
    "json_list = req.json()\n",
    "#json_list"
   ]
  },
  {
   "cell_type": "markdown",
   "metadata": {},
   "source": [
    "#### Tehtävä 4. Valitse list-objektista viimeisin json-tietue, jonka `service_id`-avaimen arvo on 10473 (10473 arvoja on kolme) ja sijoita kyseisen json-tietueen `id`-avaimen arvo muuttujaan."
   ]
  },
  {
   "cell_type": "code",
   "execution_count": 13,
   "metadata": {},
   "outputs": [
    {
     "name": "stdout",
     "output_type": "stream",
     "text": [
      "Viimeinen service_id-avaimen 10473 arvolla esiintyvän tietueen id-avain on: 4892\n"
     ]
    }
   ],
   "source": [
    "for i in json_list:\n",
    "    if i['service_id'] == 10473:        \n",
    "        id_variable = i['id']        \n",
    "\n",
    "print('Viimeinen service_id-avaimen 10473 arvolla esiintyvän tietueen id-avain on:', id_variable)"
   ]
  },
  {
   "cell_type": "markdown",
   "metadata": {},
   "source": [
    "#### Tehtävä 5. Tee uusi get-pyyntö samaan osoitteeseen kuin aiemmin (myös päätepiste pysyy samana), mutta ota edellisessä kohdassa valittu muuttuja (muuttuja joka sisältää `id`:n arvon) huomioon pyynnössä"
   ]
  },
  {
   "cell_type": "code",
   "execution_count": 14,
   "metadata": {},
   "outputs": [
    {
     "data": {
      "text/plain": [
       "{'id': 4892,\n",
       " 'main_description': False,\n",
       " 'service_id': 10473,\n",
       " 'title': 'Itämerihaaste',\n",
       " 'name_synonyms': 'Itämeren suojelu',\n",
       " 'description_short': 'Itämerihaaste on verkostoaloite, joka kutsuu organisaatiot sitoutumaan Itämeren suojeluun, tekemään oman Itämeri-toimenpideohjelmansa ja alkavan toteuttaa sitä.',\n",
       " 'description_long': 'Itämerihaaste on ilmainen palvelu kaikille organisaatioille, jotka haluavat tehdä vesiensuojelutyötä. \\n\\nItämerihaasteessa on mukana yli 300 kumppania: kaupunkeja, yrityksiä, oppilaitoksia, kansalais- ja etujärjestöjä, alueellisia viranomaisia sekä kansallisia tutkimuslaitoksia Suomesta ja muista Itämeren maista. \\n\\nHelsingin kaupunki tarjoaa yhdessä Turun kaupungin kanssa Itämerihaasteeseen sitoutuville organisaatioille: \\n\\n- Tukea ja vinkkejä omien vesiensuojelutoimien suunnitteluun\\n- Verkostoitumista ja näkyvyyttä\\n- Alueellisia, valtakunnallisia ja kansainvälisiä tapahtumia\\n- Hyvien käytäntöjen jakoa, esimerkiksi Toimenpidepankki\\n- Viestintämateriaaleja, esimerkiksi Kuulumisia-kirje ja Newsletter\\n- Kokemusten vaihtoa ja uusien käytäntöjen oppimista \\n- Yhteyksien luomista erilaisten organisaatiokulttuurien ja toimintamallien välille: yksityiset ja julkiset, pienet ja suuret, paikalliset ja valtakunnalliset\\n- Mahdollisuuksia yhteisten erillishankkeiden toteuttamiseen\\n',\n",
       " 'provided_languages': ['en', 'fi', 'sv'],\n",
       " 'responsible_depts': ['85080572-9a95-4a18-be6b-5bc306eb3d85'],\n",
       " 'target_groups': [],\n",
       " 'life_events': [],\n",
       " 'errand_services': [],\n",
       " 'exact_errand_services': [],\n",
       " 'links': [{'type': 'INTERNET',\n",
       "   'title': 'Itämerihaasteen verkkosivut',\n",
       "   'url': 'http://www.itamerihaaste.net'}],\n",
       " 'availabilities': [],\n",
       " 'unit_ids': [8234, 53155]}"
      ]
     },
     "execution_count": 14,
     "metadata": {},
     "output_type": "execute_result"
    }
   ],
   "source": [
    "url = url + str(id_variable)\n",
    "req2 = requests.get(url)\n",
    "req2.url\n",
    "#req2.json()"
   ]
  },
  {
   "cell_type": "markdown",
   "metadata": {},
   "source": [
    "#### Tehtävä 6. Tulosta vastauksesta `title`-avaimen arvo"
   ]
  },
  {
   "cell_type": "code",
   "execution_count": 15,
   "metadata": {},
   "outputs": [],
   "source": [
    "data_from_api = req2.json()\n",
    "#data_from_api\n",
    "#data_from_api['title']"
   ]
  },
  {
   "cell_type": "markdown",
   "metadata": {},
   "source": [
    "---"
   ]
  },
  {
   "cell_type": "markdown",
   "metadata": {},
   "source": [
    "### Digitrafficin rajapinnan tehtävät"
   ]
  },
  {
   "cell_type": "markdown",
   "metadata": {},
   "source": [
    "#### Tehtävä 7. Hae Digitrafficin rajapinnasta palvelun ohjeiden mukaan tiedot junalle päivältä 06.06.2018, jonka numero on 1"
   ]
  },
  {
   "cell_type": "code",
   "execution_count": 16,
   "metadata": {},
   "outputs": [
    {
     "data": {
      "text/plain": [
       "'https://rata.digitraffic.fi/api/v1/trains/2018-06-06/1'"
      ]
     },
     "execution_count": 16,
     "metadata": {},
     "output_type": "execute_result"
    }
   ],
   "source": [
    "url = 'https://rata.digitraffic.fi/api/v1/trains/'\n",
    "pvm = '2018-06-06/'\n",
    "train = '1'\n",
    "new_url = url + pvm + train\n",
    "req3 = requests.get(new_url)\n",
    "\n",
    "train_list = req3.json()\n",
    "req3.url\n",
    "#train_list"
   ]
  },
  {
   "cell_type": "markdown",
   "metadata": {},
   "source": [
    "#### Tehtävä 8. Muodosta edellisen tehtävän get-pyynnön tuloksesta DataFrame (koko Junan 1 päivän 06.06.2018 datasta), jos yksikin `scheduledTime`-avaimen arvo on ennen aikaleimaa '2018-06-06T06:00:00.000Z'."
   ]
  },
  {
   "cell_type": "code",
   "execution_count": 17,
   "metadata": {},
   "outputs": [],
   "source": [
    "for i in train_list[0][\"timeTableRows\"]:\n",
    "    if i[\"scheduledTime\"] < '2018-06-06T06:00:00.000Z':\n",
    "        exercise3_dataframe = pd.DataFrame(train_list)            "
   ]
  },
  {
   "cell_type": "markdown",
   "metadata": {},
   "source": [
    "#### Tehtävä 9. Tulosta ainoa rivi generoidusta DataFrame-objektista, jos sellainen muodostetaan."
   ]
  },
  {
   "cell_type": "code",
   "execution_count": 18,
   "metadata": {},
   "outputs": [
    {
     "data": {
      "text/html": [
       "<div>\n",
       "<style scoped>\n",
       "    .dataframe tbody tr th:only-of-type {\n",
       "        vertical-align: middle;\n",
       "    }\n",
       "\n",
       "    .dataframe tbody tr th {\n",
       "        vertical-align: top;\n",
       "    }\n",
       "\n",
       "    .dataframe thead th {\n",
       "        text-align: right;\n",
       "    }\n",
       "</style>\n",
       "<table border=\"1\" class=\"dataframe\">\n",
       "  <thead>\n",
       "    <tr style=\"text-align: right;\">\n",
       "      <th></th>\n",
       "      <th>trainNumber</th>\n",
       "      <th>departureDate</th>\n",
       "      <th>operatorUICCode</th>\n",
       "      <th>operatorShortCode</th>\n",
       "      <th>trainType</th>\n",
       "      <th>trainCategory</th>\n",
       "      <th>commuterLineID</th>\n",
       "      <th>runningCurrently</th>\n",
       "      <th>cancelled</th>\n",
       "      <th>version</th>\n",
       "      <th>timetableType</th>\n",
       "      <th>timetableAcceptanceDate</th>\n",
       "      <th>timeTableRows</th>\n",
       "    </tr>\n",
       "  </thead>\n",
       "  <tbody>\n",
       "    <tr>\n",
       "      <th>0</th>\n",
       "      <td>1</td>\n",
       "      <td>2018-06-06</td>\n",
       "      <td>10</td>\n",
       "      <td>vr</td>\n",
       "      <td>IC</td>\n",
       "      <td>Long-distance</td>\n",
       "      <td></td>\n",
       "      <td>False</td>\n",
       "      <td>False</td>\n",
       "      <td>270528660210</td>\n",
       "      <td>REGULAR</td>\n",
       "      <td>2018-03-05T10:02:10.000Z</td>\n",
       "      <td>[{'stationShortCode': 'HKI', 'stationUICCode':...</td>\n",
       "    </tr>\n",
       "  </tbody>\n",
       "</table>\n",
       "</div>"
      ],
      "text/plain": [
       "   trainNumber departureDate  operatorUICCode operatorShortCode trainType  \\\n",
       "0            1    2018-06-06               10                vr        IC   \n",
       "\n",
       "   trainCategory commuterLineID  runningCurrently  cancelled       version  \\\n",
       "0  Long-distance                            False      False  270528660210   \n",
       "\n",
       "  timetableType   timetableAcceptanceDate  \\\n",
       "0       REGULAR  2018-03-05T10:02:10.000Z   \n",
       "\n",
       "                                       timeTableRows  \n",
       "0  [{'stationShortCode': 'HKI', 'stationUICCode':...  "
      ]
     },
     "execution_count": 18,
     "metadata": {},
     "output_type": "execute_result"
    }
   ],
   "source": [
    "exercise3_dataframe"
   ]
  }
 ],
 "metadata": {
  "kernelspec": {
   "display_name": "Python 3",
   "language": "python",
   "name": "python3"
  },
  "language_info": {
   "codemirror_mode": {
    "name": "ipython",
    "version": 3
   },
   "file_extension": ".py",
   "mimetype": "text/x-python",
   "name": "python",
   "nbconvert_exporter": "python",
   "pygments_lexer": "ipython3",
   "version": "3.8.5"
  }
 },
 "nbformat": 4,
 "nbformat_minor": 4
}
