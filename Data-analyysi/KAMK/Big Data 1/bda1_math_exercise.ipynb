{
 "cells": [
  {
   "cell_type": "markdown",
   "metadata": {},
   "source": [
    "# Big Data Analysis 1\n",
    "### Exercise: Data Analytics Mathematics 1 (statistics and distribution) in Jupyter\n",
    "\n",
    "In this exercise we change to new ping file `google2_ping.txt`. And we'll do some more analysis about it's ping delay values."
   ]
  },
  {
   "cell_type": "markdown",
   "metadata": {},
   "source": [
    "#### Step 1: Read the data \n",
    "**Task 1:** Read `/bda1/data/google2_ping.txt` to pandas dataframe `google2_df`. \n",
    "\n",
    "File is saved with command: `ping -c 100  www.google.com > google2_ping.txt`\n",
    "\n",
    "**Hint.** You can copy your solutions from Pandas exercise."
   ]
  },
  {
   "cell_type": "code",
   "execution_count": 106,
   "metadata": {},
   "outputs": [
    {
     "data": {
      "text/html": [
       "<div>\n",
       "<style scoped>\n",
       "    .dataframe tbody tr th:only-of-type {\n",
       "        vertical-align: middle;\n",
       "    }\n",
       "\n",
       "    .dataframe tbody tr th {\n",
       "        vertical-align: top;\n",
       "    }\n",
       "\n",
       "    .dataframe thead th {\n",
       "        text-align: right;\n",
       "    }\n",
       "</style>\n",
       "<table border=\"1\" class=\"dataframe\">\n",
       "  <thead>\n",
       "    <tr style=\"text-align: right;\">\n",
       "      <th></th>\n",
       "      <th>0</th>\n",
       "    </tr>\n",
       "  </thead>\n",
       "  <tbody>\n",
       "    <tr>\n",
       "      <th>0</th>\n",
       "      <td>21.046</td>\n",
       "    </tr>\n",
       "    <tr>\n",
       "      <th>1</th>\n",
       "      <td>21.106</td>\n",
       "    </tr>\n",
       "    <tr>\n",
       "      <th>2</th>\n",
       "      <td>21.680</td>\n",
       "    </tr>\n",
       "    <tr>\n",
       "      <th>3</th>\n",
       "      <td>NaN</td>\n",
       "    </tr>\n",
       "    <tr>\n",
       "      <th>4</th>\n",
       "      <td>20.835</td>\n",
       "    </tr>\n",
       "    <tr>\n",
       "      <th>5</th>\n",
       "      <td>23.113</td>\n",
       "    </tr>\n",
       "    <tr>\n",
       "      <th>6</th>\n",
       "      <td>23.078</td>\n",
       "    </tr>\n",
       "    <tr>\n",
       "      <th>7</th>\n",
       "      <td>22.396</td>\n",
       "    </tr>\n",
       "    <tr>\n",
       "      <th>8</th>\n",
       "      <td>21.617</td>\n",
       "    </tr>\n",
       "    <tr>\n",
       "      <th>9</th>\n",
       "      <td>0.287</td>\n",
       "    </tr>\n",
       "  </tbody>\n",
       "</table>\n",
       "</div>"
      ],
      "text/plain": [
       "        0\n",
       "0  21.046\n",
       "1  21.106\n",
       "2  21.680\n",
       "3     NaN\n",
       "4  20.835\n",
       "5  23.113\n",
       "6  23.078\n",
       "7  22.396\n",
       "8  21.617\n",
       "9   0.287"
      ]
     },
     "execution_count": 106,
     "metadata": {},
     "output_type": "execute_result"
    }
   ],
   "source": [
    "## Task 1:\n",
    "## Your code here\n",
    "import pandas as pd\n",
    "import numpy as np\n",
    "\n",
    "!sed -i '1d' google2_ping.txt\n",
    "!sed -i \"$(( $(wc -l <google2_ping.txt)-3 )),$ d\" google2_ping.txt\n",
    "\n",
    "!sed -i -e 's/[0-9]\\{1,3\\}\\.[0-9]\\{1,3\\}\\.[0-9]\\{1,3\\}\\.[0-9]\\{1,3\\}//g' google2_ping.txt\n",
    "!sed -i -e 's/Request timeout for icmp_seq 3/NaN/g' google2_ping.txt\n",
    "!sed -i -e 's/ ms//g' google2_ping.txt\n",
    "!sed -i -e 's/64 bytes from : icmp_seq=//g' google2_ping.txt\n",
    "!sed -i -e 's/ttl=106 time=//g' google2_ping.txt\n",
    "!sed -i -e 's/[0-9]\\{1,2\\} //g' google2_ping.txt\n",
    "\n",
    "ping_data = !cat google2_ping.txt\n",
    "ping_list = list(np.float_(ping_data))\n",
    "google2_df = pd.DataFrame(ping_list)\n",
    "google2_df.head(10)"
   ]
  },
  {
   "cell_type": "markdown",
   "metadata": {},
   "source": [
    "#### Step 2: Check if the dataframe is correct \n",
    "**Task 2:** Plot 'google2_df' dafaframe to see if it is ok. And print it's length. \n",
    "\n",
    "(**Hint.** The length should be 100.)"
   ]
  },
  {
   "cell_type": "code",
   "execution_count": 156,
   "metadata": {},
   "outputs": [
    {
     "name": "stdout",
     "output_type": "stream",
     "text": [
      "google2_df length is: 100\n"
     ]
    },
    {
     "data": {
      "text/plain": [
       "<AxesSubplot:>"
      ]
     },
     "execution_count": 156,
     "metadata": {},
     "output_type": "execute_result"
    },
    {
     "data": {
      "image/png": "[encoded data removed]",
      "text/plain": [
       "<Figure size 432x288 with 1 Axes>"
      ]
     },
     "metadata": {
      "needs_background": "light"
     },
     "output_type": "display_data"
    }
   ],
   "source": [
    "## Task 2:\n",
    "## Your code here\n",
    "\n",
    "# print length\n",
    "## Note. make sure your answer type is integer\n",
    "\n",
    "google2_df_length = int(len(google2_df))\n",
    "print(\"google2_df length is:\", google2_df_length)\n",
    "\n",
    "# plot data\n",
    "google2_df.plot()"
   ]
  },
  {
   "cell_type": "markdown",
   "metadata": {},
   "source": [
    "#### Step 3: Data statistics \n",
    "Now this 'google2_df' is our dataset. \n",
    "\n",
    "**Task 3:** Let's now print following dataset parameters:\n",
    "1. Count\n",
    "2. Mean\n",
    "3. Median\n",
    "4. Standard deviation\n",
    "5. IQR\n",
    "6. Min-value\n",
    "7. Max-value\n",
    "\n",
    "With these parameters and data plot you should be able to get fair good understanding about the data.\n",
    "\n",
    "**Hint for IQR:** https://www.statology.org/interquartile-range-python/ "
   ]
  },
  {
   "cell_type": "code",
   "execution_count": 225,
   "metadata": {
    "tags": []
   },
   "outputs": [
    {
     "name": "stdout",
     "output_type": "stream",
     "text": [
      "Count: 99\n",
      "Mean: 27.66\n",
      "Median: 22.08\n",
      "Std: 38.77\n",
      "IRQ: 1.86\n",
      "Min: 0.29\n",
      "Max: 312.62\n"
     ]
    }
   ],
   "source": [
    "## Task 3:\n",
    "## Your code here\n",
    "# Note 1. Round all results to 2 decimals\n",
    "# Note 2. Use np.around() to avoid floating point number rounding problems\n",
    "# see https://numpy.org/doc/stable/reference/generated/numpy.around.html\n",
    "google2_df.rename({0: 'X'}, axis=1, inplace=True)\n",
    "q3, q1 = np.nanpercentile(google2_outl2_df, [75 ,25])\n",
    "\n",
    "google2_count = np.around(google2_df[\"X\"].count(), 2)\n",
    "google2_mean = np.around(np.mean(google2_df[\"X\"]), 2)\n",
    "google2_median = np.around(np.nanmedian(google2_df[\"X\"]), 2)\n",
    "google2_std = np.around(google2_df[\"X\"].std(), 2)\n",
    "google2_IQR = np.around(np.nanquantile(google2_df[\"X\"], .75) - \\\n",
    "np.nanquantile(google2_df[\"X\"], .25), 2)\n",
    "google2_min = np.around(np.min(google2_df[\"X\"]), 2)\n",
    "google2_max = np.around(np.max(google2_df[\"X\"]), 2) \n",
    "\n",
    "print(\"Count:\", google2_count)\n",
    "print(\"Mean:\", google2_mean)\n",
    "print(\"Median:\", google2_median)\n",
    "print(\"Std:\", google2_std)\n",
    "print(\"IRQ:\", google2_IQR)\n",
    "print(\"Min:\", google2_min)\n",
    "print(\"Max:\", google2_max)"
   ]
  },
  {
   "cell_type": "markdown",
   "metadata": {},
   "source": [
    "#### Step 4: Statistics in a figure  \n",
    "You can plot data histogram with `df.plot.hist(bins=)` command. \n",
    "\n",
    "**Task 4:** Plot histogram with 20 bins. Can you estimate mean value from histogram?"
   ]
  },
  {
   "cell_type": "code",
   "execution_count": 226,
   "metadata": {},
   "outputs": [
    {
     "data": {
      "text/plain": [
       "<AxesSubplot:ylabel='Frequency'>"
      ]
     },
     "execution_count": 226,
     "metadata": {},
     "output_type": "execute_result"
    },
    {
     "data": {
      "image/png": "[encoded data removed]",
      "text/plain": [
       "<Figure size 432x288 with 1 Axes>"
      ]
     },
     "metadata": {
      "needs_background": "light"
     },
     "output_type": "display_data"
    }
   ],
   "source": [
    "## Task 4:\n",
    "## Your code here\n",
    "google2_df.plot.hist(bins=20)"
   ]
  },
  {
   "cell_type": "markdown",
   "metadata": {},
   "source": [
    "#### Step 5: Outliers - Visual detection\n",
    "The data seems to be ok, but not quite. Can you visually spot the outliers? How many did you find?\n",
    "\n",
    "**Task 5:** Remove outliers you visually noticed from dataset, calculate statistics again and plot modified data. "
   ]
  },
  {
   "cell_type": "code",
   "execution_count": 221,
   "metadata": {},
   "outputs": [
    {
     "name": "stdout",
     "output_type": "stream",
     "text": [
      "Count: 96\n",
      "Mean: 22.37\n",
      "Median: 22.07\n",
      "Std: 1.71\n",
      "IRQ: 1.83\n",
      "Min: 19.56\n",
      "Max: 31.21\n"
     ]
    },
    {
     "data": {
      "text/plain": [
       "<AxesSubplot:>"
      ]
     },
     "execution_count": 221,
     "metadata": {},
     "output_type": "execute_result"
    },
    {
     "data": {
      "image/png": "[encoded data removed]",
      "text/plain": [
       "<Figure size 432x288 with 1 Axes>"
      ]
     },
     "metadata": {
      "needs_background": "light"
     },
     "output_type": "display_data"
    }
   ],
   "source": [
    "## Task 5:\n",
    "## Your code here\n",
    "google2_outl_df = google2_df.copy()\n",
    "google2_outl_df.rename({0: 'X'}, axis=1, inplace=True)\n",
    "\n",
    "## Remove outliers you visually noticed from 'google2_outl_df'\n",
    "google2_outl_df.drop( google2_outl_df[ google2_outl_df['X'] <= 10 ].index, inplace=True)\n",
    "google2_outl_df.drop( google2_outl_df[ google2_outl_df['X'] >= 250 ].index, inplace=True)\n",
    "\n",
    "## Calculate statistics again\n",
    "# Note 1. Round all results to 2 decimals\n",
    "# Note 2. Use np.around() to avoid floating point number rounding problems\n",
    "# see https://numpy.org/doc/stable/reference/generated/numpy.around.html\n",
    "\n",
    "google2_outl_count = np.around(google2_outl_df[\"X\"].count(), 2)\n",
    "google2_outl_mean = np.around(np.mean(google2_outl_df[\"X\"]), 2)\n",
    "google2_outl_median = np.around(np.nanmedian(google2_outl_df[\"X\"]), 2)\n",
    "google2_outl_std = np.around(google2_outl_df[\"X\"].std(), 2) \n",
    "google2_outl_IQR = np.around(np.nanquantile(google2_outl_df[\"X\"], .75) - \\\n",
    "np.nanquantile(google2_outl_df[\"X\"], .25), 2)\n",
    "google2_outl_min = np.around(np.min(google2_outl_df[\"X\"]), 2)\n",
    "google2_outl_max = np.around(np.max(google2_outl_df[\"X\"]), 2) \n",
    "\n",
    "print(\"Count:\", google2_outl_count)\n",
    "print(\"Mean:\", google2_outl_mean)\n",
    "print(\"Median:\", google2_outl_median)\n",
    "print(\"Std:\", google2_outl_std)\n",
    "print(\"IRQ:\", google2_outl_IQR)\n",
    "print(\"Min:\", google2_outl_min)\n",
    "print(\"Max:\", google2_outl_max)\n",
    "\n",
    "## Plot out the signal\n",
    "google2_outl_df.plot()"
   ]
  },
  {
   "cell_type": "markdown",
   "metadata": {},
   "source": [
    "**Task 6:** Plot data histogram again without outliers. What do you notice?"
   ]
  },
  {
   "cell_type": "code",
   "execution_count": 188,
   "metadata": {},
   "outputs": [
    {
     "data": {
      "text/plain": [
       "<AxesSubplot:ylabel='Frequency'>"
      ]
     },
     "execution_count": 188,
     "metadata": {},
     "output_type": "execute_result"
    },
    {
     "data": {
      "image/png": "[encoded data removed]",
      "text/plain": [
       "<Figure size 432x288 with 1 Axes>"
      ]
     },
     "metadata": {
      "needs_background": "light"
     },
     "output_type": "display_data"
    }
   ],
   "source": [
    "## Task 6:\n",
    "## Your code here\n",
    "google2_outl_df.plot.hist(bins=20)"
   ]
  },
  {
   "cell_type": "markdown",
   "metadata": {},
   "source": [
    "You should see something like this:\n",
    "\n",
    "<img src=\".//bda1_math_answers/ping_distribution.png\" width=400px>"
   ]
  },
  {
   "cell_type": "markdown",
   "metadata": {},
   "source": [
    "***Btw,*** *this is typical ping delay distribution. As you can see, it is not a normal distribution (https://en.wikipedia.org/wiki/Normal_distribution) as white noise distribution. In low end the minimum time is optimal network travel time for IP-packet. And as there is more traffic in the network, there will delayed ping packets that you can see as long tail in the high end.*"
   ]
  },
  {
   "cell_type": "markdown",
   "metadata": {},
   "source": [
    "#### Step 6: Outliers - Detection with IQR Method \n",
    "\n",
    "Get familiar with IQR outlier detection through this article: \n",
    "https://towardsdatascience.com/why-1-5-in-iqr-method-of-outlier-detection-5d07fdc82097\n",
    "\n",
    "***Task 7:*** Now use the IQR method (with scale 1.5) and remove outliers from dataset and calculate statistics again. Yes, AGAIN. Sorry..."
   ]
  },
  {
   "cell_type": "code",
   "execution_count": 222,
   "metadata": {},
   "outputs": [
    {
     "name": "stdout",
     "output_type": "stream",
     "text": [
      "low_limit: 18.4645\n",
      "high_limit: 25.9165\n",
      "Count: 96\n",
      "Mean: 22.37\n",
      "Median: 22.0\n",
      "Std: 1.25\n",
      "IRQ: 1.86\n",
      "Min: 19.56\n",
      "Max: 25.68\n"
     ]
    }
   ],
   "source": [
    "## Task 7:\n",
    "## Your code here\n",
    "google2_outl2_df = google2_df.copy()\n",
    "google2_outl2_df.rename({0: 'X'}, axis=1, inplace=True)\n",
    "\n",
    "## Calculate IQR limits\n",
    "q3, q1 = np.nanpercentile(google2_outl2_df, [75 ,25])\n",
    "IQR = q3 - q1\n",
    "low_limit = q1 - 1.5 * IQR\n",
    "print('low_limit:', low_limit)\n",
    "high_limit = q3 + 1.5 * IQR \n",
    "print('high_limit:', high_limit)\n",
    "\n",
    "## Remove outliers from 'google2_outl2_df'\n",
    "google2_outl2_df.drop( google2_outl2_df[ google2_outl2_df['X'] <= 18.4645 ].index, inplace=True)\n",
    "google2_outl2_df.drop( google2_outl2_df[ google2_outl2_df['X'] >= 25.9165 ].index, inplace=True)\n",
    "\n",
    "## Calculate statistics again\n",
    "# Note 1. Round all results to 2 decimals\n",
    "# Note 2. Use np.around() to avoid floating point number rounding problems\n",
    "# see https://numpy.org/doc/stable/reference/generated/numpy.around.html\n",
    "\n",
    "google2_outl2_count = np.around(google2_outl2_df[\"X\"].count(), 2)\n",
    "google2_outl2_mean = np.around(np.mean(google2_outl2_df[\"X\"]), 2)\n",
    "google2_outl2_median = np.around(np.nanmedian(google2_outl2_df[\"X\"]), 2)\n",
    "google2_outl2_std = np.around(google2_outl2_df[\"X\"].std(), 2) \n",
    "google2_outl_IQR = np.around(np.nanquantile(google2_outl2_df[\"X\"], .75) - \\\n",
    "np.nanquantile(google2_outl2_df[\"X\"], .25), 2)\n",
    "google2_outl2_min = np.around(np.min(google2_outl2_df[\"X\"]), 2)\n",
    "google2_outl2_max = np.around(np.max(google2_outl2_df[\"X\"]), 2) \n",
    "\n",
    "print(\"Count:\", google2_outl_count)\n",
    "print(\"Mean:\", google2_outl_mean)\n",
    "print(\"Median:\", google2_outl2_median)\n",
    "print(\"Std:\", google2_outl2_std)\n",
    "print(\"IRQ:\", google2_outl2_IQR)\n",
    "print(\"Min:\", google2_outl2_min)\n",
    "print(\"Max:\", google2_outl2_max)"
   ]
  },
  {
   "cell_type": "markdown",
   "metadata": {},
   "source": [
    "***Task 8:*** And print also the data plot and histogram for continuity."
   ]
  },
  {
   "cell_type": "code",
   "execution_count": 190,
   "metadata": {},
   "outputs": [
    {
     "data": {
      "text/plain": [
       "<AxesSubplot:ylabel='Frequency'>"
      ]
     },
     "execution_count": 190,
     "metadata": {},
     "output_type": "execute_result"
    },
    {
     "data": {
      "image/png": "[encoded data removed]",
      "text/plain": [
       "<Figure size 432x288 with 1 Axes>"
      ]
     },
     "metadata": {
      "needs_background": "light"
     },
     "output_type": "display_data"
    },
    {
     "data": {
      "image/png": "[encoded data removed]",
      "text/plain": [
       "<Figure size 432x288 with 1 Axes>"
      ]
     },
     "metadata": {
      "needs_background": "light"
     },
     "output_type": "display_data"
    }
   ],
   "source": [
    "## Task 8:\n",
    "## Print data plot and histogram\n",
    "google2_outl2_df.plot()\n",
    "google2_outl2_df.plot.hist(bins=20)"
   ]
  },
  {
   "cell_type": "markdown",
   "metadata": {},
   "source": [
    "### Reflection\n",
    "\n",
    "Answer following questions:\n",
    "1. What is the challenge with mean and std, when you do data analysis? \n",
    "2. What is IQR?\n",
    "3. What is outlier?\n",
    "4. Compare these 3 different datasets:\n",
    "    - How you should calculate mean?\n",
    "    - What about deviation?\n",
    "    - And when you can say that this value is outlier?\n"
   ]
  },
  {
   "cell_type": "markdown",
   "metadata": {},
   "source": [
    "2. IQR on datan jakautumisen mittari, eli missä datasetin keskipiste ja neljännekset sijaitsevat. \n",
    "3. Datapiste, joka eroaa huomattavasti muista datapisteistä.\n"
   ]
  },
  {
   "cell_type": "markdown",
   "metadata": {},
   "source": [
    "### Check your answers by running following cell:"
   ]
  },
  {
   "cell_type": "code",
   "execution_count": 224,
   "metadata": {},
   "outputs": [
    {
     "name": "stdout",
     "output_type": "stream",
     "text": [
      "Results:\n",
      "PART 'google2_df_length':\n",
      "\t Correct answers 1 / 1.\n",
      "PART 'check_google2_df':\n",
      "\t 'google2_IQR' is not correct. Please check your answer.\n",
      "\t Correct answers 6 / 7.\n",
      "PART 'check_google2_outl_df':\n",
      "\t 'google2_outl_IQR' is not correct. Please check your answer.\n",
      "\t Correct answers 6 / 7.\n",
      "PART 'check_google2_outl2_df':\n",
      "\t 'google2_outl2_IQR' is not correct. Please check your answer.\n",
      "\t Correct answers 6 / 7.\n"
     ]
    }
   ],
   "source": [
    "# Do not change this code!\n",
    "\n",
    "import importlib\n",
    "import bda1_math1_check\n",
    "importlib.reload(bda1_math1_check)\n",
    "\n",
    "print(\"Results:\")\n",
    "\n",
    "print(\"PART 'google2_df_length':\")\n",
    "correct = bda1_math1_check.check_length(google2_df_length)\n",
    "print(\"\\t Correct answers\", correct, \"/ 1.\")\n",
    "\n",
    "print(\"PART 'check_google2_df':\")\n",
    "correct = bda1_math1_check.check_google2(google2_count, \n",
    "         google2_mean, google2_median, google2_std, google2_IQR, google2_min, google2_max)\n",
    "print(\"\\t Correct answers\", correct, \"/ 7.\")\n",
    "\n",
    "print(\"PART 'check_google2_outl_df':\")\n",
    "correct = bda1_math1_check.check_google2_outl(google2_outl_count, google2_outl_mean, google2_outl_median, google2_outl_std, \n",
    "         google2_outl_IQR, google2_outl_min, google2_outl_max)\n",
    "print(\"\\t Correct answers\", correct, \"/ 7.\")\n",
    "\n",
    "print(\"PART 'check_google2_outl2_df':\")\n",
    "correct = bda1_math1_check.check_google2_outl2(google2_outl2_count, google2_outl2_mean, google2_outl2_median, google2_outl2_std,\n",
    "         google2_outl2_IQR, google2_outl2_min, google2_outl2_max)\n",
    "print(\"\\t Correct answers\", correct, \"/ 7.\")\n",
    "\n",
    "\n"
   ]
  },
  {
   "cell_type": "markdown",
   "metadata": {},
   "source": [
    "### Nice work! "
   ]
  },
  {
   "cell_type": "code",
   "execution_count": null,
   "metadata": {},
   "outputs": [],
   "source": []
  }
 ],
 "metadata": {
  "kernelspec": {
   "display_name": "Python 3 (ipykernel)",
   "language": "python",
   "name": "python3"
  },
  "language_info": {
   "codemirror_mode": {
    "name": "ipython",
    "version": 3
   },
   "file_extension": ".py",
   "mimetype": "text/x-python",
   "name": "python",
   "nbconvert_exporter": "python",
   "pygments_lexer": "ipython3",
   "version": "3.9.6"
  }
 },
 "nbformat": 4,
 "nbformat_minor": 4
}
