{
 "cells": [
  {
   "cell_type": "markdown",
   "metadata": {},
   "source": [
    "# Big Data Analysis 1\n",
    "### Exercise: Pandas in Jupyter"
   ]
  },
  {
   "cell_type": "markdown",
   "metadata": {},
   "source": [
    "#### Step 1: remove unneeded rows and calculate all rows and 'timeout'rows "
   ]
  },
  {
   "cell_type": "code",
   "execution_count": 16,
   "metadata": {},
   "outputs": [],
   "source": [
    "## 1. Copy google_ping.txt file to file temp.txt\n",
    "## 2. Strip first (1) row from the file temp.txt\n",
    "## 3. Strip 4 last rows from the file temp.txt\n",
    "\n",
    "## Your code here\n",
    "!cp google_ping.txt temp.txt\n",
    "!sed -i '1d' temp.txt\n",
    "!sed -i \"$(( $(wc -l <temp.txt)-3 )),$ d\" temp.txt"
   ]
  },
  {
   "cell_type": "code",
   "execution_count": 19,
   "metadata": {},
   "outputs": [
    {
     "name": "stdout",
     "output_type": "stream",
     "text": [
      "64 bytes from 74.125.205.138: icmp_seq=0 ttl=106 time=22.476 ms\n",
      "64 bytes from 74.125.205.138: icmp_seq=1 ttl=106 time=24.295 ms\n",
      "64 bytes from 74.125.205.138: icmp_seq=2 ttl=106 time=89.301 ms\n",
      "Request timeout for icmp_seq 3\n",
      "64 bytes from 74.125.205.138: icmp_seq=3 ttl=106 time=149.829 ms\n",
      "64 bytes from 74.125.205.138: icmp_seq=4 ttl=106 time=66.600 ms\n",
      "64 bytes from 74.125.205.138: icmp_seq=5 ttl=106 time=143.979 ms\n"
     ]
    }
   ],
   "source": [
    "## 1. Print file temp.txt to see if it looks as it should (below you can see 7 first rows in correct format) \n",
    "\n",
    "## Your code here\n",
    "!head -7 temp.txt"
   ]
  },
  {
   "cell_type": "code",
   "execution_count": 84,
   "metadata": {},
   "outputs": [
    {
     "name": "stdout",
     "output_type": "stream",
     "text": [
      "95\n",
      "0\n"
     ]
    }
   ],
   "source": [
    "## 1. calculate all rows in the file 'temp.txt' and save the result as variable 'ping_count' \n",
    "## 2. calculate rows with text 'timeout' in the file 'temp.txt' and save the result  as variable 'timeout_count'\n",
    "\n",
    "ping_count = !wc -l < temp.txt\n",
    "timeout_count = !grep -w -c timeout temp.txt\n",
    "\n",
    "# You might need to change data types   \n",
    "ping_count = int(ping_count[0])\n",
    "print(ping_count)\n",
    "timeout_count = int(timeout_count[0])\n",
    "print(timeout_count)"
   ]
  },
  {
   "cell_type": "markdown",
   "metadata": {},
   "source": [
    "#### Step 2: replace 'timeout'rows with text `NaN` and leave only ping times to other rows (e.g. 22.476). I.e. remove all other texts in the rows. \n",
    "\n",
    "**hint1.** In this cell you need only `sed` command \n",
    "\n",
    "**hint2.** Try first command `!sed -i -e 's/[0-9]\\{1,3\\}\\.[0-9]\\{1,3\\}\\.[0-9]\\{1,3\\}\\.[0-9]\\{1,3\\}//g' temp.txt` and investigate it's results by printing file `temp.txt`"
   ]
  },
  {
   "cell_type": "code",
   "execution_count": 52,
   "metadata": {},
   "outputs": [],
   "source": [
    "## 1. replace rows with 'timeout' with text 'NaN'  \n",
    "## 2. leave only ping times to other rows (e.g. 22.476). I.e. remove all other texts in the rows.\n",
    "\n",
    "## Your code here\n",
    "!sed -i -e 's/[0-9]\\{1,3\\}\\.[0-9]\\{1,3\\}\\.[0-9]\\{1,3\\}\\.[0-9]\\{1,3\\}//g' temp.txt\n",
    "!sed -i -e 's/Request timeout for icmp_seq 3/NaN/g' temp.txt\n",
    "!sed -i -e 's/ ms//g' temp.txt\n",
    "!sed -i -e 's/64 bytes from : icmp_seq=//g' temp.txt\n",
    "!sed -i -e 's/ttl=106 time=//g' temp.txt\n",
    "!sed -i -e 's/[0-9]\\{2\\} //g' temp.txt"
   ]
  },
  {
   "cell_type": "code",
   "execution_count": 53,
   "metadata": {},
   "outputs": [
    {
     "name": "stdout",
     "output_type": "stream",
     "text": [
      "22.476\n",
      "24.295\n",
      "89.301\n",
      "NaN\n",
      "149.829\n",
      "66.600\n",
      "143.979\n"
     ]
    }
   ],
   "source": [
    "## 1. Print file temp.txt to see if it looks as it should (below you can see 7 first rows in correct format)\n",
    "\n",
    "## Your code here\n",
    "!head -7 temp.txt"
   ]
  },
  {
   "cell_type": "markdown",
   "metadata": {},
   "source": [
    "#### Step 3: Read 'temp.txt' to Jupyter  "
   ]
  },
  {
   "cell_type": "code",
   "execution_count": 70,
   "metadata": {},
   "outputs": [],
   "source": [
    "## You can use following code rows to read the ping data from the file.\n",
    "# 1. ping_data = !cat temp.txt\n",
    "# 2. import numpy as np\n",
    "# 3. ping_list = list(np.float_(ping_data))\n",
    "\n",
    "## Your code here\n",
    "ping_data = !cat temp.txt\n",
    "import numpy as np\n",
    "ping_list = list(np.float_(ping_data))"
   ]
  },
  {
   "cell_type": "markdown",
   "metadata": {},
   "source": [
    "#### Step 4: Make Pandas dataframe from the 'ping_list' and investigate it by using pandas describe methods and plotting it.    "
   ]
  },
  {
   "cell_type": "code",
   "execution_count": 68,
   "metadata": {},
   "outputs": [
    {
     "name": "stdout",
     "output_type": "stream",
     "text": [
      "ping_df NaN count is: 1\n"
     ]
    },
    {
     "data": {
      "text/html": [
       "<div>\n",
       "<style scoped>\n",
       "    .dataframe tbody tr th:only-of-type {\n",
       "        vertical-align: middle;\n",
       "    }\n",
       "\n",
       "    .dataframe tbody tr th {\n",
       "        vertical-align: top;\n",
       "    }\n",
       "\n",
       "    .dataframe thead th {\n",
       "        text-align: right;\n",
       "    }\n",
       "</style>\n",
       "<table border=\"1\" class=\"dataframe\">\n",
       "  <thead>\n",
       "    <tr style=\"text-align: right;\">\n",
       "      <th></th>\n",
       "      <th>0</th>\n",
       "    </tr>\n",
       "  </thead>\n",
       "  <tbody>\n",
       "    <tr>\n",
       "      <th>0</th>\n",
       "      <td>22.476</td>\n",
       "    </tr>\n",
       "    <tr>\n",
       "      <th>1</th>\n",
       "      <td>24.295</td>\n",
       "    </tr>\n",
       "    <tr>\n",
       "      <th>2</th>\n",
       "      <td>89.301</td>\n",
       "    </tr>\n",
       "    <tr>\n",
       "      <th>3</th>\n",
       "      <td>NaN</td>\n",
       "    </tr>\n",
       "    <tr>\n",
       "      <th>4</th>\n",
       "      <td>149.829</td>\n",
       "    </tr>\n",
       "    <tr>\n",
       "      <th>5</th>\n",
       "      <td>66.600</td>\n",
       "    </tr>\n",
       "    <tr>\n",
       "      <th>6</th>\n",
       "      <td>143.979</td>\n",
       "    </tr>\n",
       "    <tr>\n",
       "      <th>7</th>\n",
       "      <td>40.057</td>\n",
       "    </tr>\n",
       "    <tr>\n",
       "      <th>8</th>\n",
       "      <td>120.769</td>\n",
       "    </tr>\n",
       "    <tr>\n",
       "      <th>9</th>\n",
       "      <td>25.637</td>\n",
       "    </tr>\n",
       "  </tbody>\n",
       "</table>\n",
       "</div>"
      ],
      "text/plain": [
       "         0\n",
       "0   22.476\n",
       "1   24.295\n",
       "2   89.301\n",
       "3      NaN\n",
       "4  149.829\n",
       "5   66.600\n",
       "6  143.979\n",
       "7   40.057\n",
       "8  120.769\n",
       "9   25.637"
      ]
     },
     "execution_count": 68,
     "metadata": {},
     "output_type": "execute_result"
    }
   ],
   "source": [
    "## 1. import pandas \n",
    "## 2. Make Pandas dataframe 'ping_df' from the 'ping_list' \n",
    "## 3. Calculate NaN values (= timeout rows) in 'ping_df'\n",
    "## 4. Print first 10 rows if 'ping_df'\n",
    "\n",
    "## Your code here\n",
    "import pandas as pd\n",
    "\n",
    "ping_df = pd.DataFrame(ping_list)\n",
    "print('ping_df NaN count is:', ping_df.isnull().sum().sum())\n",
    "ping_df.head(10)"
   ]
  },
  {
   "cell_type": "code",
   "execution_count": 69,
   "metadata": {},
   "outputs": [
    {
     "data": {
      "text/html": [
       "<div>\n",
       "<style scoped>\n",
       "    .dataframe tbody tr th:only-of-type {\n",
       "        vertical-align: middle;\n",
       "    }\n",
       "\n",
       "    .dataframe tbody tr th {\n",
       "        vertical-align: top;\n",
       "    }\n",
       "\n",
       "    .dataframe thead th {\n",
       "        text-align: right;\n",
       "    }\n",
       "</style>\n",
       "<table border=\"1\" class=\"dataframe\">\n",
       "  <thead>\n",
       "    <tr style=\"text-align: right;\">\n",
       "      <th></th>\n",
       "      <th>0</th>\n",
       "    </tr>\n",
       "  </thead>\n",
       "  <tbody>\n",
       "    <tr>\n",
       "      <th>count</th>\n",
       "      <td>94.000000</td>\n",
       "    </tr>\n",
       "    <tr>\n",
       "      <th>mean</th>\n",
       "      <td>44.663734</td>\n",
       "    </tr>\n",
       "    <tr>\n",
       "      <th>std</th>\n",
       "      <td>40.234384</td>\n",
       "    </tr>\n",
       "    <tr>\n",
       "      <th>min</th>\n",
       "      <td>21.390000</td>\n",
       "    </tr>\n",
       "    <tr>\n",
       "      <th>25%</th>\n",
       "      <td>23.411750</td>\n",
       "    </tr>\n",
       "    <tr>\n",
       "      <th>50%</th>\n",
       "      <td>24.754500</td>\n",
       "    </tr>\n",
       "    <tr>\n",
       "      <th>75%</th>\n",
       "      <td>37.386000</td>\n",
       "    </tr>\n",
       "    <tr>\n",
       "      <th>max</th>\n",
       "      <td>153.979000</td>\n",
       "    </tr>\n",
       "  </tbody>\n",
       "</table>\n",
       "</div>"
      ],
      "text/plain": [
       "                0\n",
       "count   94.000000\n",
       "mean    44.663734\n",
       "std     40.234384\n",
       "min     21.390000\n",
       "25%     23.411750\n",
       "50%     24.754500\n",
       "75%     37.386000\n",
       "max    153.979000"
      ]
     },
     "execution_count": 69,
     "metadata": {},
     "output_type": "execute_result"
    }
   ],
   "source": [
    "## 1. Investigate 'ping_df' statistics with pandas 'describe' function\n",
    "\n",
    "## Your code here\n",
    "ping_df.describe()"
   ]
  },
  {
   "cell_type": "code",
   "execution_count": 72,
   "metadata": {},
   "outputs": [
    {
     "data": {
      "text/plain": [
       "<AxesSubplot:>"
      ]
     },
     "execution_count": 72,
     "metadata": {},
     "output_type": "execute_result"
    },
    {
     "data": {
      "image/png": "[encoded data removed]",
      "text/plain": [
       "<Figure size 432x288 with 1 Axes>"
      ]
     },
     "metadata": {
      "needs_background": "light"
     },
     "output_type": "display_data"
    }
   ],
   "source": [
    "## 1. Use matplotlib inline to plot 'ping_df' data\n",
    "\n",
    "## Your code here\n",
    "%matplotlib inline\n",
    "\n",
    "ping_df.plot()"
   ]
  },
  {
   "cell_type": "markdown",
   "metadata": {},
   "source": [
    "You should get something like this:\n",
    "\n",
    "<img src=\"./bda1_pandas_answers/plot.png\" width=400px>"
   ]
  },
  {
   "cell_type": "markdown",
   "metadata": {},
   "source": [
    "### Check your answers by running following cell:"
   ]
  },
  {
   "cell_type": "code",
   "execution_count": 85,
   "metadata": {},
   "outputs": [
    {
     "name": "stdout",
     "output_type": "stream",
     "text": [
      "Results:\n",
      "2. 'timeout_count' is not correct. Please check your answer.\n",
      "Correct answers 2 / 3.\n"
     ]
    }
   ],
   "source": [
    "# Do not change this code!\n",
    "\n",
    "import importlib\n",
    "import bda1_pandas_check\n",
    "importlib.reload(bda1_pandas_check)\n",
    "\n",
    "print(\"Results:\")\n",
    "correct = bda1_pandas_check.check_ping(ping_count, timeout_count, ping_df)\n",
    "print(\"Correct answers\", correct, \"/ 3.\")\n"
   ]
  },
  {
   "cell_type": "markdown",
   "metadata": {},
   "source": [
    "### Nice work! \n",
    "\n",
    "It is easy to use Pandas. Isn't it? :)"
   ]
  }
 ],
 "metadata": {
  "kernelspec": {
   "display_name": "Python 3 (ipykernel)",
   "language": "python",
   "name": "python3"
  },
  "language_info": {
   "codemirror_mode": {
    "name": "ipython",
    "version": 3
   },
   "file_extension": ".py",
   "mimetype": "text/x-python",
   "name": "python",
   "nbconvert_exporter": "python",
   "pygments_lexer": "ipython3",
   "version": "3.9.6"
  }
 },
 "nbformat": 4,
 "nbformat_minor": 4
}
