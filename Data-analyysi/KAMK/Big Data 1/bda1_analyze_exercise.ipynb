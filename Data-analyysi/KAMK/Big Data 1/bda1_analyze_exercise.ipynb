{
 "cells": [
  {
   "cell_type": "markdown",
   "metadata": {},
   "source": [
    "# Big Data Analysis 1\n",
    "### Exercise: Data Analyze ping file in Jupyter\n",
    "\n",
    "Now you should have all needed tools to make full analysis for a PING file. In this exercise we use a bit longer PING file with > 1 million rows. Even if the file is only 66MB, it can cause problems in docker container CLI operations (e.g. sed). If you are not able to run CLI commands inside container in your own computer, use ai.dclabra.fi environment. :) \n"
   ]
  },
  {
   "cell_type": "markdown",
   "metadata": {},
   "source": [
    "#### Step 1: Preprosess the data and read it to Pandas dataframe \n",
    "**Task 1.** Copy `/bda1/data/google_big.txt` to your working file\n",
    "\n",
    "**Task 2.** Remove duplicate lines (indicated with DUP)\n",
    "```\n",
    "DUPLICATE AND DAMAGED PACKETS         top\n",
    "       ping will report duplicate and damaged packets. Duplicate packets\n",
    "       should never occur, and seem to be caused by inappropriate\n",
    "       link-level retransmissions. Duplicates may occur in many\n",
    "       situations and are rarely (if ever) a good sign, although the\n",
    "       presence of low levels of duplicates may not always be cause for\n",
    "       alarm.\n",
    "\n",
    "       Damaged packets are obviously serious cause for alarm and often\n",
    "       indicate broken hardware somewhere in the ping packet's path (in\n",
    "       the network or in the hosts).\n",
    "```\n",
    "\n",
    "**Task 3.** Replace timeout lines with NaN (`Request timeout for icmp_seq xxx`)\n",
    "\n",
    "**Task 4.** Remove first header line (`PING google.com (74.125.205.101): 56 data bytes`)\n",
    "\n",
    "**Task 5.** Remove PING statistics from the end \n",
    "```\n",
    "--- google.com ping statistics ---\n",
    "1047670 packets transmitted, 981599 packets received, +2 duplicates, 6.3% packet loss\n",
    "round-trip min/avg/max/stddev = -311.263/102.099/4834947.358/16183.947 ms\n",
    "````\n",
    "**Task 6.** Read ping times and NaNs to pandas dataframe `google_big`.\n",
    "\n",
    "**Task 7.** Use `plot()` and `hist(bins=50)` to visualize `google_big` data.\n",
    "\n",
    "**Task 8.** Print dataframe length.\n",
    "\n",
    "**Task 9.** Print dataframe statistics with `describe()`. \n",
    "\n",
    "**Task 10.** Save dataframe min and max values to variables `google_big_min` and `google_big_max`. \n",
    "\n",
    "\n"
   ]
  },
  {
   "cell_type": "code",
   "execution_count": 40,
   "metadata": {},
   "outputs": [
    {
     "data": {
      "text/html": [
       "<div>\n",
       "<style scoped>\n",
       "    .dataframe tbody tr th:only-of-type {\n",
       "        vertical-align: middle;\n",
       "    }\n",
       "\n",
       "    .dataframe tbody tr th {\n",
       "        vertical-align: top;\n",
       "    }\n",
       "\n",
       "    .dataframe thead th {\n",
       "        text-align: right;\n",
       "    }\n",
       "</style>\n",
       "<table border=\"1\" class=\"dataframe\">\n",
       "  <thead>\n",
       "    <tr style=\"text-align: right;\">\n",
       "      <th></th>\n",
       "      <th>X</th>\n",
       "      <th>Y</th>\n",
       "    </tr>\n",
       "  </thead>\n",
       "  <tbody>\n",
       "    <tr>\n",
       "      <th>0</th>\n",
       "      <td>64 bytes from 74.125.205.101: icmp_seq=0 ttl=1...</td>\n",
       "      <td>29.519</td>\n",
       "    </tr>\n",
       "    <tr>\n",
       "      <th>1</th>\n",
       "      <td>64 bytes from 74.125.205.101: icmp_seq=1 ttl=1...</td>\n",
       "      <td>22.034</td>\n",
       "    </tr>\n",
       "    <tr>\n",
       "      <th>2</th>\n",
       "      <td>64 bytes from 74.125.205.101: icmp_seq=2 ttl=1...</td>\n",
       "      <td>22.955</td>\n",
       "    </tr>\n",
       "    <tr>\n",
       "      <th>3</th>\n",
       "      <td>64 bytes from 74.125.205.101: icmp_seq=3 ttl=1...</td>\n",
       "      <td>22.593</td>\n",
       "    </tr>\n",
       "    <tr>\n",
       "      <th>4</th>\n",
       "      <td>64 bytes from 74.125.205.101: icmp_seq=4 ttl=1...</td>\n",
       "      <td>24.818</td>\n",
       "    </tr>\n",
       "    <tr>\n",
       "      <th>5</th>\n",
       "      <td>64 bytes from 74.125.205.101: icmp_seq=5 ttl=1...</td>\n",
       "      <td>28.309</td>\n",
       "    </tr>\n",
       "    <tr>\n",
       "      <th>6</th>\n",
       "      <td>64 bytes from 74.125.205.101: icmp_seq=6 ttl=1...</td>\n",
       "      <td>21.774</td>\n",
       "    </tr>\n",
       "    <tr>\n",
       "      <th>7</th>\n",
       "      <td>64 bytes from 74.125.205.101: icmp_seq=7 ttl=1...</td>\n",
       "      <td>23.278</td>\n",
       "    </tr>\n",
       "    <tr>\n",
       "      <th>8</th>\n",
       "      <td>64 bytes from 74.125.205.101: icmp_seq=8 ttl=1...</td>\n",
       "      <td>20.909</td>\n",
       "    </tr>\n",
       "    <tr>\n",
       "      <th>9</th>\n",
       "      <td>64 bytes from 74.125.205.101: icmp_seq=9 ttl=1...</td>\n",
       "      <td>22.757</td>\n",
       "    </tr>\n",
       "    <tr>\n",
       "      <th>10</th>\n",
       "      <td>64 bytes from 74.125.205.101: icmp_seq=10 ttl=...</td>\n",
       "      <td>24.254</td>\n",
       "    </tr>\n",
       "    <tr>\n",
       "      <th>11</th>\n",
       "      <td>64 bytes from 74.125.205.101: icmp_seq=11 ttl=...</td>\n",
       "      <td>22.207</td>\n",
       "    </tr>\n",
       "    <tr>\n",
       "      <th>12</th>\n",
       "      <td>64 bytes from 74.125.205.101: icmp_seq=12 ttl=...</td>\n",
       "      <td>23.159</td>\n",
       "    </tr>\n",
       "    <tr>\n",
       "      <th>13</th>\n",
       "      <td>64 bytes from 74.125.205.101: icmp_seq=13 ttl=...</td>\n",
       "      <td>26.637</td>\n",
       "    </tr>\n",
       "    <tr>\n",
       "      <th>14</th>\n",
       "      <td>64 bytes from 74.125.205.101: icmp_seq=14 ttl=...</td>\n",
       "      <td>21.131</td>\n",
       "    </tr>\n",
       "    <tr>\n",
       "      <th>15</th>\n",
       "      <td>64 bytes from 74.125.205.101: icmp_seq=15 ttl=...</td>\n",
       "      <td>23.952</td>\n",
       "    </tr>\n",
       "    <tr>\n",
       "      <th>16</th>\n",
       "      <td>64 bytes from 74.125.205.101: icmp_seq=16 ttl=...</td>\n",
       "      <td>21.981</td>\n",
       "    </tr>\n",
       "    <tr>\n",
       "      <th>17</th>\n",
       "      <td>64 bytes from 74.125.205.101: icmp_seq=17 ttl=...</td>\n",
       "      <td>21.868</td>\n",
       "    </tr>\n",
       "    <tr>\n",
       "      <th>18</th>\n",
       "      <td>64 bytes from 74.125.205.101: icmp_seq=18 ttl=...</td>\n",
       "      <td>23.831</td>\n",
       "    </tr>\n",
       "    <tr>\n",
       "      <th>19</th>\n",
       "      <td>64 bytes from 74.125.205.101: icmp_seq=19 ttl=...</td>\n",
       "      <td>22.058</td>\n",
       "    </tr>\n",
       "    <tr>\n",
       "      <th>20</th>\n",
       "      <td>64 bytes from 74.125.205.101: icmp_seq=20 ttl=...</td>\n",
       "      <td>22.995</td>\n",
       "    </tr>\n",
       "    <tr>\n",
       "      <th>21</th>\n",
       "      <td>64 bytes from 74.125.205.101: icmp_seq=21 ttl=...</td>\n",
       "      <td>21.011</td>\n",
       "    </tr>\n",
       "    <tr>\n",
       "      <th>22</th>\n",
       "      <td>64 bytes from 74.125.205.101: icmp_seq=22 ttl=...</td>\n",
       "      <td>23.928</td>\n",
       "    </tr>\n",
       "    <tr>\n",
       "      <th>23</th>\n",
       "      <td>NaN</td>\n",
       "      <td>NaN</td>\n",
       "    </tr>\n",
       "    <tr>\n",
       "      <th>24</th>\n",
       "      <td>64 bytes from 74.125.205.101: icmp_seq=23 ttl=...</td>\n",
       "      <td>125.032</td>\n",
       "    </tr>\n",
       "  </tbody>\n",
       "</table>\n",
       "</div>"
      ],
      "text/plain": [
       "                                                    X        Y\n",
       "0   64 bytes from 74.125.205.101: icmp_seq=0 ttl=1...   29.519\n",
       "1   64 bytes from 74.125.205.101: icmp_seq=1 ttl=1...   22.034\n",
       "2   64 bytes from 74.125.205.101: icmp_seq=2 ttl=1...   22.955\n",
       "3   64 bytes from 74.125.205.101: icmp_seq=3 ttl=1...   22.593\n",
       "4   64 bytes from 74.125.205.101: icmp_seq=4 ttl=1...   24.818\n",
       "5   64 bytes from 74.125.205.101: icmp_seq=5 ttl=1...   28.309\n",
       "6   64 bytes from 74.125.205.101: icmp_seq=6 ttl=1...   21.774\n",
       "7   64 bytes from 74.125.205.101: icmp_seq=7 ttl=1...   23.278\n",
       "8   64 bytes from 74.125.205.101: icmp_seq=8 ttl=1...   20.909\n",
       "9   64 bytes from 74.125.205.101: icmp_seq=9 ttl=1...   22.757\n",
       "10  64 bytes from 74.125.205.101: icmp_seq=10 ttl=...   24.254\n",
       "11  64 bytes from 74.125.205.101: icmp_seq=11 ttl=...   22.207\n",
       "12  64 bytes from 74.125.205.101: icmp_seq=12 ttl=...   23.159\n",
       "13  64 bytes from 74.125.205.101: icmp_seq=13 ttl=...   26.637\n",
       "14  64 bytes from 74.125.205.101: icmp_seq=14 ttl=...   21.131\n",
       "15  64 bytes from 74.125.205.101: icmp_seq=15 ttl=...   23.952\n",
       "16  64 bytes from 74.125.205.101: icmp_seq=16 ttl=...   21.981\n",
       "17  64 bytes from 74.125.205.101: icmp_seq=17 ttl=...   21.868\n",
       "18  64 bytes from 74.125.205.101: icmp_seq=18 ttl=...   23.831\n",
       "19  64 bytes from 74.125.205.101: icmp_seq=19 ttl=...   22.058\n",
       "20  64 bytes from 74.125.205.101: icmp_seq=20 ttl=...   22.995\n",
       "21  64 bytes from 74.125.205.101: icmp_seq=21 ttl=...   21.011\n",
       "22  64 bytes from 74.125.205.101: icmp_seq=22 ttl=...   23.928\n",
       "23                                                NaN      NaN\n",
       "24  64 bytes from 74.125.205.101: icmp_seq=23 ttl=...  125.032"
      ]
     },
     "execution_count": 40,
     "metadata": {},
     "output_type": "execute_result"
    }
   ],
   "source": [
    "## Task 1-6\n",
    "## Your code here\n",
    "import pandas as pd\n",
    "import numpy as np\n",
    "\n",
    "!cp ../data/google_big.txt google_big.txt\n",
    "dup = 'DUP'\n",
    "\n",
    "a_file = open(\"google_big.txt\", \"r\")\n",
    "lines = a_file.readlines()\n",
    "a_file.close()\n",
    "\n",
    "new_file = open(\"google_big2.txt\", \"w\")\n",
    "for line in lines:\n",
    "    if not(dup in line):\n",
    "        new_file.write(line)\n",
    "new_file.close()\n",
    "\n",
    "!sed -i -e 's/Request timeout for icmp_seq.*/NaN/g' google_big2.txt\n",
    "!sed -i '1d' google_big2.txt\n",
    "!sed -i \"$(( $(wc -l < google_big2.txt)-3 )),$ d\" google_big2.txt\n",
    "\n",
    "ping_data = !cat google_big2.txt\n",
    "ping_list = list(ping_data)\n",
    "google_big = pd.DataFrame(ping_data)\n",
    "google_big.rename({0: 'X'}, axis=1, inplace=True)\n",
    "google_big['Y'] =  google_big['X'].apply(lambda x: x[x.rfind('=')+1:-3] if \"=\" in x else 'NaN') \n",
    "google_big['Y'] = pd.to_numeric(google_big['Y'], errors = 'coerce')\n",
    "google_big.head(25)"
   ]
  },
  {
   "cell_type": "code",
   "execution_count": 41,
   "metadata": {},
   "outputs": [
    {
     "name": "stdout",
     "output_type": "stream",
     "text": [
      "google_big min is: -311.26\n",
      "google_big max is: 4834947.36\n",
      "Dataframen pituus on 1047670\n"
     ]
    },
    {
     "data": {
      "text/plain": [
       "count    9.815990e+05\n",
       "mean     1.020991e+02\n",
       "std      1.618397e+04\n",
       "min     -3.112630e+02\n",
       "25%      2.279900e+01\n",
       "50%      2.487500e+01\n",
       "75%      4.124700e+01\n",
       "max      4.834947e+06\n",
       "Name: Y, dtype: float64"
      ]
     },
     "execution_count": 41,
     "metadata": {},
     "output_type": "execute_result"
    },
    {
     "data": {
      "image/png": "[encoded data removed]",
      "text/plain": [
       "<Figure size 432x288 with 1 Axes>"
      ]
     },
     "metadata": {
      "needs_background": "light"
     },
     "output_type": "display_data"
    },
    {
     "data": {
      "image/png": "[encoded data removed]",
      "text/plain": [
       "<Figure size 432x288 with 1 Axes>"
      ]
     },
     "metadata": {
      "needs_background": "light"
     },
     "output_type": "display_data"
    }
   ],
   "source": [
    "## Task 7-10\n",
    "## Your code here\n",
    "# Note 1. Round all results to 2 decimals\n",
    "# Note 2. Use np.around() to avoid floating point number rounding problems\n",
    "# see https://numpy.org/doc/stable/reference/generated/numpy.around.html\n",
    "\n",
    "google_big.plot()\n",
    "google_big.hist(bins=50)\n",
    "\n",
    "google_big_min = np.around(np.min(google_big[\"Y\"]), 2)\n",
    "google_big_max = np.around(np.max(google_big[\"Y\"]), 2)\n",
    "print(\"google_big min is:\", google_big_min)\n",
    "print(\"google_big max is:\", google_big_max)\n",
    "\n",
    "print('Dataframen pituus on', len(google_big[\"Y\"]))\n",
    "google_big[\"Y\"].describe()\n"
   ]
  },
  {
   "cell_type": "markdown",
   "metadata": {},
   "source": [
    "#### Step 2: Erroneous data points\n",
    "\n",
    "We are using PING to measure IP-packet round-trip-time to google server and back. So values should always be positive. And let's assume that also values > 10s are not correct. As we noticed in Task 10 there are data points < 0ms and > 10 000ms in the dataframe. Let's remove those line. \n",
    "\n",
    "***Task 11:*** Remove negative data points\n",
    "\n",
    "***Task 12:*** Remove data points > 10s\n",
    "\n",
    "**Task 13.** Use `plot()` and `hist(bins=50)` to visualize `google_big` data.\n",
    "\n",
    "**Task 14.** Print dataframe length.\n",
    "***Hint.*** *You should get* `google_big length is: 1047670`\n",
    "\n",
    "**Task 15.** Print dataframe statistics with describe(). \n",
    "\n",
    "**Task 16.** Save dataframe min and max values to variables `google_big_min2` and `google_big_max2`. \n",
    "\n"
   ]
  },
  {
   "cell_type": "code",
   "execution_count": 42,
   "metadata": {},
   "outputs": [
    {
     "name": "stdout",
     "output_type": "stream",
     "text": [
      "google_big length is: 1047629\n",
      "google_big min2 is: 17.97\n",
      "google_big max2 is: 5614.72\n"
     ]
    },
    {
     "data": {
      "text/html": [
       "<div>\n",
       "<style scoped>\n",
       "    .dataframe tbody tr th:only-of-type {\n",
       "        vertical-align: middle;\n",
       "    }\n",
       "\n",
       "    .dataframe tbody tr th {\n",
       "        vertical-align: top;\n",
       "    }\n",
       "\n",
       "    .dataframe thead th {\n",
       "        text-align: right;\n",
       "    }\n",
       "</style>\n",
       "<table border=\"1\" class=\"dataframe\">\n",
       "  <thead>\n",
       "    <tr style=\"text-align: right;\">\n",
       "      <th></th>\n",
       "      <th>Y</th>\n",
       "    </tr>\n",
       "  </thead>\n",
       "  <tbody>\n",
       "    <tr>\n",
       "      <th>count</th>\n",
       "      <td>981558.000000</td>\n",
       "    </tr>\n",
       "    <tr>\n",
       "      <th>mean</th>\n",
       "      <td>47.531631</td>\n",
       "    </tr>\n",
       "    <tr>\n",
       "      <th>std</th>\n",
       "      <td>111.149551</td>\n",
       "    </tr>\n",
       "    <tr>\n",
       "      <th>min</th>\n",
       "      <td>17.973000</td>\n",
       "    </tr>\n",
       "    <tr>\n",
       "      <th>25%</th>\n",
       "      <td>22.799000</td>\n",
       "    </tr>\n",
       "    <tr>\n",
       "      <th>50%</th>\n",
       "      <td>24.875000</td>\n",
       "    </tr>\n",
       "    <tr>\n",
       "      <th>75%</th>\n",
       "      <td>41.246000</td>\n",
       "    </tr>\n",
       "    <tr>\n",
       "      <th>max</th>\n",
       "      <td>5614.719000</td>\n",
       "    </tr>\n",
       "  </tbody>\n",
       "</table>\n",
       "</div>"
      ],
      "text/plain": [
       "                   Y\n",
       "count  981558.000000\n",
       "mean       47.531631\n",
       "std       111.149551\n",
       "min        17.973000\n",
       "25%        22.799000\n",
       "50%        24.875000\n",
       "75%        41.246000\n",
       "max      5614.719000"
      ]
     },
     "execution_count": 42,
     "metadata": {},
     "output_type": "execute_result"
    },
    {
     "data": {
      "image/png": "[encoded data removed]",
      "text/plain": [
       "<Figure size 432x288 with 1 Axes>"
      ]
     },
     "metadata": {
      "needs_background": "light"
     },
     "output_type": "display_data"
    },
    {
     "data": {
      "image/png": "[encoded data removed]",
      "text/plain": [
       "<Figure size 432x288 with 1 Axes>"
      ]
     },
     "metadata": {
      "needs_background": "light"
     },
     "output_type": "display_data"
    }
   ],
   "source": [
    "## Task 11-16\n",
    "## Your code here\n",
    "# Note 1. Round all results to 2 decimals\n",
    "# Note 2. Use np.around() to avoid floating point number rounding problems\n",
    "# see https://numpy.org/doc/stable/reference/generated/numpy.around.html\n",
    "google_big.drop(google_big[ google_big['Y'] < 0 ].index, inplace=True)\n",
    "google_big.drop(google_big[ google_big['Y'] > 10000 ].index, inplace=True)\n",
    "\n",
    "google_big.plot() \n",
    "google_big.plot.hist(bins=50)\n",
    "\n",
    "google_big_min2 = np.around(np.min(google_big[\"Y\"]), 2)\n",
    "google_big_max2 = np.around(np.max(google_big[\"Y\"]), 2)\n",
    "\n",
    "print('google_big length is:', len(google_big))\n",
    "print(\"google_big min2 is:\", google_big_min2)\n",
    "print(\"google_big max2 is:\", google_big_max2)\n",
    "\n",
    "google_big.describe()"
   ]
  },
  {
   "cell_type": "markdown",
   "metadata": {},
   "source": [
    "#### Step 3: Dataframe split to Wifi and LTE dataframes \n",
    "\n",
    "You should be able to see from the dataset that it consists of two different parts (i.e. Wifi part and LTE part). Do visual split to Wifi part and LTE part and calculate statistics for those.\n",
    "\n",
    "***Task 17:*** Split data visually to Wifi dataset and LTE dataset\n",
    "\n",
    "```\n",
    "Hint1. There is ping timeout block, when connection is changed from Wifi to LTE.\n",
    "Hint2. You can zoom plot image with command \"plt.axis([x_min, x_max, y_min, y_max])\"\n",
    "```\n",
    "\n",
    "***Task 18:*** Print dataframe statistics for both datasets\n",
    "\n",
    "***Task 19:*** Use plot() and hist(bins=50) to visualize both datasets\n",
    "\n"
   ]
  },
  {
   "cell_type": "code",
   "execution_count": 57,
   "metadata": {},
   "outputs": [
    {
     "name": "stdout",
     "output_type": "stream",
     "text": [
      "Wifi\n",
      "Count: 611728\n",
      "Mean: 25.48\n",
      "Std: 16.42\n",
      "IQR: 2.44\n",
      "Min: 17.97\n",
      "Max: 1214.53\n",
      "Median: 23.24\n",
      "Availability: 0.98\n",
      "LTE\n",
      "Count: 369830\n",
      "Mean: 84.01\n",
      "Std: 173.81\n",
      "IQR: 22.84\n",
      "Min: 21.24\n",
      "Max: 5614.72\n",
      "Median: 45.2\n",
      "Availability: 0.87\n"
     ]
    },
    {
     "data": {
      "text/plain": [
       "<AxesSubplot:title={'center':'LTE'}, ylabel='Frequency'>"
      ]
     },
     "execution_count": 57,
     "metadata": {},
     "output_type": "execute_result"
    },
    {
     "data": {
      "image/png": "[encoded data removed]",
      "text/plain": [
       "<Figure size 432x288 with 1 Axes>"
      ]
     },
     "metadata": {
      "needs_background": "light"
     },
     "output_type": "display_data"
    },
    {
     "data": {
      "image/png": "[encoded data removed]",
      "text/plain": [
       "<Figure size 432x288 with 1 Axes>"
      ]
     },
     "metadata": {
      "needs_background": "light"
     },
     "output_type": "display_data"
    },
    {
     "data": {
      "image/png": "[encoded data removed]",
      "text/plain": [
       "<Figure size 432x288 with 1 Axes>"
      ]
     },
     "metadata": {
      "needs_background": "light"
     },
     "output_type": "display_data"
    },
    {
     "data": {
      "image/png": "[encoded data removed]",
      "text/plain": [
       "<Figure size 432x288 with 1 Axes>"
      ]
     },
     "metadata": {
      "needs_background": "light"
     },
     "output_type": "display_data"
    },
    {
     "data": {
      "image/png": "[encoded data removed]",
      "text/plain": [
       "<Figure size 432x288 with 1 Axes>"
      ]
     },
     "metadata": {
      "needs_background": "light"
     },
     "output_type": "display_data"
    }
   ],
   "source": [
    "## Task 17-19\n",
    "## Your code here\n",
    "\n",
    "# Print dataframe statistics for both datasets\n",
    "# Note 1. Round all results to 2 decimals\n",
    "# Note 2. Use np.around() to avoid floating point number rounding problems\n",
    "# see https://numpy.org/doc/stable/reference/generated/numpy.around.html\n",
    "\n",
    "import matplotlib.pyplot as plt\n",
    "\n",
    "lst = []\n",
    "lst2 = []\n",
    "successful_pings = 0\n",
    "bad_pings = 0\n",
    "all_pings = 0\n",
    "successful_pings2 = 0\n",
    "bad_pings2 = 0\n",
    "all_pings2 = 0\n",
    "\n",
    "fig = plt.figure()\n",
    "plt.axis([622000, 633000, 0, 1000]) \n",
    "plt.plot(google_big.index, google_big[\"Y\"])\n",
    "fig.suptitle('Connection is changed') \n",
    "\n",
    "wifi_df = google_big[:622500]\n",
    "lte_df = google_big[622500:]\n",
    "\n",
    "google_wifi_count = np.around(wifi_df[\"Y\"].count(), 2)\n",
    "google_wifi_mean = np.around(np.mean(wifi_df[\"Y\"]), 2)\n",
    "google_wifi_std = np.around(wifi_df[\"Y\"].std(), 2)\n",
    "google_wifi_IQR = np.around(np.nanquantile(wifi_df[\"Y\"], .75) - \\\n",
    "np.nanquantile(wifi_df[\"Y\"], .25), 2)\n",
    "google_wifi_min = np.around(np.min(wifi_df[\"Y\"]), 2)\n",
    "google_wifi_max = np.around(np.max(wifi_df[\"Y\"]), 2)\n",
    "google_wifi_median = np.around(np.nanmedian(wifi_df[\"Y\"]), 2) \n",
    "    \n",
    "lst = map(lambda x: x.startswith(\"64\"), wifi_df['X'])\n",
    "\n",
    "for i in lst:\n",
    "    if i == True:\n",
    "        successful_pings = successful_pings + 1\n",
    "    else:\n",
    "        bad_pings = bad_pings + 1\n",
    "\n",
    "all_pings = successful_pings + bad_pings\n",
    "google_wifi_availability = np.around(successful_pings/all_pings, 2)\n",
    "\n",
    "google_lte_count = np.around(lte_df[\"Y\"].count(), 2)\n",
    "google_lte_mean = np.around(np.mean(lte_df[\"Y\"]), 2)\n",
    "google_lte_std = np.around(lte_df[\"Y\"].std(), 2)\n",
    "google_lte_IQR = np.around(np.nanquantile(lte_df[\"Y\"], .75) - \\\n",
    "np.nanquantile(lte_df[\"Y\"], .25), 2)\n",
    "google_lte_min = np.around(np.min(lte_df[\"Y\"]), 2)\n",
    "google_lte_max = np.around(np.max(lte_df[\"Y\"]), 2)\n",
    "google_lte_median = np.around(np.nanmedian(lte_df[\"Y\"]), 2)\n",
    "\n",
    "lst2 = map(lambda x: x.startswith(\"64\"), lte_df['X'])\n",
    "\n",
    "for i in lst2:\n",
    "    if i == True:\n",
    "        successful_pings2 = successful_pings2 + 1\n",
    "    else:\n",
    "        bad_pings2 = bad_pings2 + 1\n",
    "\n",
    "all_pings2 = successful_pings2 + bad_pings2\n",
    "google_lte_availability = np.around(successful_pings2/all_pings2, 2)\n",
    "\n",
    "print(\"Wifi\")\n",
    "print(\"Count:\", google_wifi_count)\n",
    "print(\"Mean:\", google_wifi_mean)\n",
    "print(\"Std:\", google_wifi_std)\n",
    "print(\"IQR:\", google_wifi_IQR)\n",
    "print(\"Min:\", google_wifi_min)\n",
    "print(\"Max:\", google_wifi_max)\n",
    "print(\"Median:\", google_wifi_median)\n",
    "print(\"Availability:\", google_wifi_availability)\n",
    "\n",
    "print(\"LTE\")\n",
    "print(\"Count:\", google_lte_count)\n",
    "print(\"Mean:\", google_lte_mean)\n",
    "print(\"Std:\", google_lte_std)\n",
    "print(\"IQR:\", google_lte_IQR)\n",
    "print(\"Min:\", google_lte_min)\n",
    "print(\"Max:\", google_lte_max)\n",
    "print(\"Median:\", google_lte_median)\n",
    "print(\"Availability:\", google_lte_availability)\n",
    "\n",
    "wifi_df.plot(title='Wifi') \n",
    "wifi_df.plot.hist(bins=50, title='Wifi')\n",
    "                            \n",
    "lte_df.plot(title='LTE') \n",
    "lte_df.plot.hist(bins=50, title='LTE')"
   ]
  },
  {
   "cell_type": "markdown",
   "metadata": {},
   "source": [
    "### Reflection\n",
    "Based on your results, compare Wifi dataset and LTE datasets. (Compare at least connection speed, connection availability and connection stability.) Which one is better?"
   ]
  },
  {
   "cell_type": "markdown",
   "metadata": {},
   "source": [
    "Yhteyden nopeus on parempi LTE:llä. Saatavuus ja stabiilisuus on parempi wifi-yhteydellä."
   ]
  },
  {
   "cell_type": "markdown",
   "metadata": {},
   "source": [
    "### Check your answers by running following cell:"
   ]
  },
  {
   "cell_type": "code",
   "execution_count": 58,
   "metadata": {},
   "outputs": [
    {
     "name": "stdout",
     "output_type": "stream",
     "text": [
      "Results:\n",
      "Correct answers 20 / 20.\n"
     ]
    }
   ],
   "source": [
    "# Do not change this code!\n",
    "\n",
    "import importlib\n",
    "import bda1_analyze_check\n",
    "importlib.reload(bda1_analyze_check)\n",
    "\n",
    "print(\"Results:\")\n",
    "correct = bda1_analyze_check.check_analyze(google_big_min, google_big_max, google_big_min2, \n",
    "        google_big_max2,google_wifi_count, google_wifi_mean, google_wifi_std, google_wifi_IQR, \n",
    "        google_wifi_min, google_wifi_max, google_wifi_median, google_wifi_availability,\n",
    "        google_lte_count, google_lte_mean, google_lte_std, google_lte_IQR, google_lte_min, \n",
    "        google_lte_max, google_lte_median, google_lte_availability)\n",
    "\n",
    "print(\"Correct answers\", correct, \"/ 20.\")\n"
   ]
  },
  {
   "cell_type": "markdown",
   "metadata": {},
   "source": [
    "### Nice work! "
   ]
  },
  {
   "cell_type": "code",
   "execution_count": null,
   "metadata": {},
   "outputs": [],
   "source": []
  }
 ],
 "metadata": {
  "kernelspec": {
   "display_name": "Python 3 (ipykernel)",
   "language": "python",
   "name": "python3"
  },
  "language_info": {
   "codemirror_mode": {
    "name": "ipython",
    "version": 3
   },
   "file_extension": ".py",
   "mimetype": "text/x-python",
   "name": "python",
   "nbconvert_exporter": "python",
   "pygments_lexer": "ipython3",
   "version": "3.9.6"
  }
 },
 "nbformat": 4,
 "nbformat_minor": 4
}
