{
 "cells": [
  {
   "cell_type": "markdown",
   "metadata": {},
   "source": [
    "# Big Data Analysis 2\n",
    "### Exercise: Data Clustering with K-means 1\n",
    "\n",
    "Let's try K-means klustering with PING data to get familiar to klustering methods. In this exercise we use same google_ping.txt data as in BDA1 course. \n",
    "\n",
    "***Hint.*** Check this first:\n",
    "https://scikit-learn.org/stable/modules/generated/sklearn.cluster.KMeans.html\n"
   ]
  },
  {
   "cell_type": "markdown",
   "metadata": {},
   "source": [
    "#### Step 1: Preprosess the data and read it to Pandas dataframe \n",
    "**Task 1.** Copy `/bda1/data/google_ping.txt` to your working file\n",
    "\n",
    "**Task 2.** Remove duplicate lines (indicated with DUP)\n",
    "\n",
    "**Task 3.** Replace timeout lines with NaN (`Request timeout for icmp_seq xxx`)\n",
    "\n",
    "**Task 4.** Remove first header line (`PING google.com (74.125.205.138): 56 data bytes`)\n",
    "\n",
    "**Task 5.** Remove PING statistics from the end \n",
    "```\n",
    "--- google.com ping statistics ---\n",
    "94 packets transmitted, 94 packets received, 0.0% packet loss\n",
    "round-trip min/avg/max/stddev = 21.390/44.664/153.979/40.020 ms\n",
    "````\n",
    "**Task 6.** Remove all other characters except ping times from ping rows\n",
    "\n",
    "----------\n",
    "**Task 7.** Import pandas as pd, numpy as np, matplotlib.pyplot as plt, from sklearn.cluster import KMeans, from sklearn.metrics import silhouette_samples, silhouette_score and inline %matplotlib.\n",
    "\n",
    "------\n",
    "\n",
    "**Task 8.** Read ping times and NaNs to pandas dataframe `google` with column label `ping`.\n",
    "\n",
    "**Task 9.** Use `plot()` and `hist(bins=50)` to visualize `google` data.\n",
    "\n",
    "**Task 10.** Print dataframe length.\n",
    "\n",
    "**Task 11.** Print dataframe statistics with `describe()`. \n"
   ]
  },
  {
   "cell_type": "code",
   "execution_count": 76,
   "metadata": {
    "tags": []
   },
   "outputs": [],
   "source": [
    "## Task 1-6\n",
    "## Your code here\n",
    "\n",
    "!cp ../data/google_ping.txt google_ping.txt\n",
    "\n",
    "dup = 'DUP'\n",
    "\n",
    "a_file = open(\"google_ping.txt\", \"r\")\n",
    "lines = a_file.readlines()\n",
    "a_file.close()\n",
    "\n",
    "new_file = open(\"google_ping2.txt\", \"w\")\n",
    "for line in lines:\n",
    "    if not(dup in line):\n",
    "        new_file.write(line)\n",
    "new_file.close()\n",
    "\n",
    "!sed -i -e 's/Request timeout for icmp_seq.*/NaN/g' google_ping2.txt\n",
    "!sed -i '1d' google_ping2.txt\n",
    "!sed -i \"$(( $(wc -l < google_ping2.txt)-3 )),$ d\" google_ping2.txt\n",
    "!sed -i 's/.*time=\\(.*\\) ms/\\1/g' google_ping2.txt"
   ]
  },
  {
   "cell_type": "code",
   "execution_count": 77,
   "metadata": {},
   "outputs": [],
   "source": [
    "## Task 7\n",
    "## Your code here\n",
    "\n",
    "import pandas as pd\n",
    "import numpy as np\n",
    "import matplotlib.pyplot as plt\n",
    "from sklearn.cluster import KMeans \n",
    "from sklearn.metrics import silhouette_samples, silhouette_score\n",
    "%matplotlib inline"
   ]
  },
  {
   "cell_type": "code",
   "execution_count": 78,
   "metadata": {},
   "outputs": [
    {
     "name": "stdout",
     "output_type": "stream",
     "text": [
      "95\n"
     ]
    },
    {
     "data": {
      "text/html": [
       "<div>\n",
       "<style scoped>\n",
       "    .dataframe tbody tr th:only-of-type {\n",
       "        vertical-align: middle;\n",
       "    }\n",
       "\n",
       "    .dataframe tbody tr th {\n",
       "        vertical-align: top;\n",
       "    }\n",
       "\n",
       "    .dataframe thead th {\n",
       "        text-align: right;\n",
       "    }\n",
       "</style>\n",
       "<table border=\"1\" class=\"dataframe\">\n",
       "  <thead>\n",
       "    <tr style=\"text-align: right;\">\n",
       "      <th></th>\n",
       "      <th>ping</th>\n",
       "    </tr>\n",
       "  </thead>\n",
       "  <tbody>\n",
       "    <tr>\n",
       "      <th>count</th>\n",
       "      <td>94.000000</td>\n",
       "    </tr>\n",
       "    <tr>\n",
       "      <th>mean</th>\n",
       "      <td>44.663734</td>\n",
       "    </tr>\n",
       "    <tr>\n",
       "      <th>std</th>\n",
       "      <td>40.234384</td>\n",
       "    </tr>\n",
       "    <tr>\n",
       "      <th>min</th>\n",
       "      <td>21.390000</td>\n",
       "    </tr>\n",
       "    <tr>\n",
       "      <th>25%</th>\n",
       "      <td>23.411750</td>\n",
       "    </tr>\n",
       "    <tr>\n",
       "      <th>50%</th>\n",
       "      <td>24.754500</td>\n",
       "    </tr>\n",
       "    <tr>\n",
       "      <th>75%</th>\n",
       "      <td>37.386000</td>\n",
       "    </tr>\n",
       "    <tr>\n",
       "      <th>max</th>\n",
       "      <td>153.979000</td>\n",
       "    </tr>\n",
       "  </tbody>\n",
       "</table>\n",
       "</div>"
      ],
      "text/plain": [
       "             ping\n",
       "count   94.000000\n",
       "mean    44.663734\n",
       "std     40.234384\n",
       "min     21.390000\n",
       "25%     23.411750\n",
       "50%     24.754500\n",
       "75%     37.386000\n",
       "max    153.979000"
      ]
     },
     "execution_count": 78,
     "metadata": {},
     "output_type": "execute_result"
    },
    {
     "data": {
      "image/png": "[encoded data removed]",
      "text/plain": [
       "<Figure size 432x288 with 1 Axes>"
      ]
     },
     "metadata": {
      "needs_background": "light"
     },
     "output_type": "display_data"
    },
    {
     "data": {
      "image/png": "[encoded data removed]",
      "text/plain": [
       "<Figure size 432x288 with 1 Axes>"
      ]
     },
     "metadata": {
      "needs_background": "light"
     },
     "output_type": "display_data"
    }
   ],
   "source": [
    "## Task 8-11\n",
    "## Your code here\n",
    "\n",
    "ping_data = !cat google_ping2.txt\n",
    "ping_list = list(np.float_(ping_data))\n",
    "google = pd.DataFrame(ping_list, columns=['ping'])\n",
    "\n",
    "google.plot() \n",
    "google.hist(bins=50)\n",
    "\n",
    "print(len(google))\n",
    "google.describe()"
   ]
  },
  {
   "cell_type": "markdown",
   "metadata": {
    "tags": []
   },
   "source": [
    "### Step 2: K-means\n",
    "**Task 12.** Setup KMeans with 2 clusters\n",
    "\n",
    "**Task 13.** fit Kmeans (***hint.*** *Drop nan values before fit.*)\n",
    "\n",
    "**Task 14.** Plot data clusters as a scatter plot and include cluster_center lines.\n",
    "\n",
    "**Task 15.** Print and save Kmeans cluster_centers to variable `centroids1`.\n"
   ]
  },
  {
   "cell_type": "code",
   "execution_count": 63,
   "metadata": {
    "tags": []
   },
   "outputs": [
    {
     "data": {
      "image/png": "[encoded data removed]",
      "text/plain": [
       "<Figure size 432x288 with 1 Axes>"
      ]
     },
     "metadata": {
      "needs_background": "light"
     },
     "output_type": "display_data"
    },
    {
     "name": "stdout",
     "output_type": "stream",
     "text": [
      "[[127.6235    ]\n",
      " [ 27.64634615]]\n"
     ]
    }
   ],
   "source": [
    "## Task 12-15\n",
    "## Your code here\n",
    "\n",
    "google.dropna(inplace=True)\n",
    "\n",
    "kmeans = KMeans(n_clusters=2)\n",
    "kmeans.fit(google)\n",
    "\n",
    "plt.scatter(google.index, google['ping'], c=kmeans.labels_)\n",
    "centroids1 = kmeans.cluster_centers_\n",
    "\n",
    "plt.axhline(centroids1[1], color='r', linestyle='dashed', linewidth=1)\n",
    "plt.axhline(centroids1[0], color='r', linestyle='dashed', linewidth=1)\n",
    "\n",
    "plt.show()\n",
    "print(centroids1)"
   ]
  },
  {
   "cell_type": "markdown",
   "metadata": {},
   "source": [
    "You should get something like this:\n",
    "\n",
    "<img src=\"./bda2_kmeans_answers/kmeans1.png\" width=300px/>"
   ]
  },
  {
   "cell_type": "markdown",
   "metadata": {},
   "source": [
    "### Step 3: K-means with index values\n",
    "As we see, here clustering is done only with y-axis values. Let's see what happens, if we add indexes to clustering.\n",
    "\n",
    "**Task 16.** Add new column `i` to google dataframe and fill it with indexes 0...94\n",
    "\n",
    "**Task 17.** Repeat steps 12-14. (***Note.*** *Here we are clustering x,y pairs, not just 1 value.*)\n",
    "\n",
    "**Task 18.** Print and save Kmeans cluster_centers to variable `centroids2`.\n"
   ]
  },
  {
   "cell_type": "code",
   "execution_count": 74,
   "metadata": {},
   "outputs": [
    {
     "name": "stdout",
     "output_type": "stream",
     "text": [
      "[[ 25.37106757  56.06756757]\n",
      " [116.0466      15.65      ]]\n"
     ]
    },
    {
     "data": {
      "image/png": "[encoded data removed]",
      "text/plain": [
       "<Figure size 432x288 with 1 Axes>"
      ]
     },
     "metadata": {
      "needs_background": "light"
     },
     "output_type": "display_data"
    }
   ],
   "source": [
    "## Task 16-17\n",
    "## Your code here\n",
    "\n",
    "google.dropna(inplace=True)\n",
    "google['i'] = google.index.values\n",
    "\n",
    "kmeans = KMeans(n_clusters=2)\n",
    "kmeans.fit(google)\n",
    "\n",
    "plt.scatter(google['i'], google['ping'], c=kmeans.labels_) #\n",
    "centroids2 = kmeans.cluster_centers_\n",
    "plt.scatter(kmeans.cluster_centers_[:,1], kmeans.cluster_centers_[:,0], c='red', marker=('*'));\n",
    "\n",
    "print(centroids2)"
   ]
  },
  {
   "cell_type": "markdown",
   "metadata": {},
   "source": [
    "You should get something like this:\n",
    "\n",
    "<img src=\"./bda2_kmeans_answers/kmeans2.png\" width=300px/>"
   ]
  },
  {
   "cell_type": "markdown",
   "metadata": {},
   "source": [
    "### Step 3: Little trick with rolling average\n",
    "As we see, clustering still gives quite odd clusters. Let's try a little trick. Take a 10 number rolling average and calculate clusters ones more.  \n",
    "\n",
    "**Task 18.** Add new column `i` to google dataframe and fill it with indexes 0...94\n",
    "\n",
    "**Task 19.** Repeat steps 12-14 ones more.\n",
    "\n",
    "**Task 20.** Print and save Kmeans cluster_centers to variable `centroids3`.\n"
   ]
  },
  {
   "cell_type": "code",
   "execution_count": 79,
   "metadata": {},
   "outputs": [
    {
     "name": "stdout",
     "output_type": "stream",
     "text": [
      "[[25.05892034 60.5       ]\n",
      " [88.12436522 19.5       ]]\n"
     ]
    },
    {
     "data": {
      "text/html": [
       "<div>\n",
       "<style scoped>\n",
       "    .dataframe tbody tr th:only-of-type {\n",
       "        vertical-align: middle;\n",
       "    }\n",
       "\n",
       "    .dataframe tbody tr th {\n",
       "        vertical-align: top;\n",
       "    }\n",
       "\n",
       "    .dataframe thead th {\n",
       "        text-align: right;\n",
       "    }\n",
       "</style>\n",
       "<table border=\"1\" class=\"dataframe\">\n",
       "  <thead>\n",
       "    <tr style=\"text-align: right;\">\n",
       "      <th></th>\n",
       "      <th>ping</th>\n",
       "      <th>i</th>\n",
       "    </tr>\n",
       "  </thead>\n",
       "  <tbody>\n",
       "    <tr>\n",
       "      <th>13</th>\n",
       "      <td>99.4058</td>\n",
       "      <td>8.5</td>\n",
       "    </tr>\n",
       "    <tr>\n",
       "      <th>14</th>\n",
       "      <td>89.2029</td>\n",
       "      <td>9.5</td>\n",
       "    </tr>\n",
       "    <tr>\n",
       "      <th>15</th>\n",
       "      <td>94.7386</td>\n",
       "      <td>10.5</td>\n",
       "    </tr>\n",
       "    <tr>\n",
       "      <th>16</th>\n",
       "      <td>82.4797</td>\n",
       "      <td>11.5</td>\n",
       "    </tr>\n",
       "    <tr>\n",
       "      <th>17</th>\n",
       "      <td>88.0430</td>\n",
       "      <td>12.5</td>\n",
       "    </tr>\n",
       "    <tr>\n",
       "      <th>...</th>\n",
       "      <td>...</td>\n",
       "      <td>...</td>\n",
       "    </tr>\n",
       "    <tr>\n",
       "      <th>90</th>\n",
       "      <td>23.7743</td>\n",
       "      <td>85.5</td>\n",
       "    </tr>\n",
       "    <tr>\n",
       "      <th>91</th>\n",
       "      <td>23.9135</td>\n",
       "      <td>86.5</td>\n",
       "    </tr>\n",
       "    <tr>\n",
       "      <th>92</th>\n",
       "      <td>24.1358</td>\n",
       "      <td>87.5</td>\n",
       "    </tr>\n",
       "    <tr>\n",
       "      <th>93</th>\n",
       "      <td>24.0736</td>\n",
       "      <td>88.5</td>\n",
       "    </tr>\n",
       "    <tr>\n",
       "      <th>94</th>\n",
       "      <td>23.7198</td>\n",
       "      <td>89.5</td>\n",
       "    </tr>\n",
       "  </tbody>\n",
       "</table>\n",
       "<p>82 rows × 2 columns</p>\n",
       "</div>"
      ],
      "text/plain": [
       "       ping     i\n",
       "13  99.4058   8.5\n",
       "14  89.2029   9.5\n",
       "15  94.7386  10.5\n",
       "16  82.4797  11.5\n",
       "17  88.0430  12.5\n",
       "..      ...   ...\n",
       "90  23.7743  85.5\n",
       "91  23.9135  86.5\n",
       "92  24.1358  87.5\n",
       "93  24.0736  88.5\n",
       "94  23.7198  89.5\n",
       "\n",
       "[82 rows x 2 columns]"
      ]
     },
     "execution_count": 79,
     "metadata": {},
     "output_type": "execute_result"
    },
    {
     "data": {
      "image/png": "[encoded data removed]",
      "text/plain": [
       "<Figure size 432x288 with 1 Axes>"
      ]
     },
     "metadata": {
      "needs_background": "light"
     },
     "output_type": "display_data"
    }
   ],
   "source": [
    "## Task 18-20\n",
    "## Your code here\n",
    "import numpy as np\n",
    "\n",
    "google['i'] = np.arange(0, 95)\n",
    "google = google.rolling(10).mean()\n",
    "google.dropna(inplace=True)\n",
    "\n",
    "kmeans = KMeans(n_clusters=2)\n",
    "kmeans.fit(google)\n",
    "\n",
    "plt.scatter(google['i'], google['ping'], c=kmeans.labels_)\n",
    "plt.scatter(kmeans.cluster_centers_[:,1], kmeans.cluster_centers_[:,0], c='red', marker=('*'));\n",
    "\n",
    "centroids3 = kmeans.cluster_centers_\n",
    "print(centroids3)\n",
    "google"
   ]
  },
  {
   "cell_type": "markdown",
   "metadata": {},
   "source": [
    "You should get something like this:\n",
    "\n",
    "<img src=\"./bda2_kmeans_answers/kmeans3.png\" width=300px/>"
   ]
  },
  {
   "cell_type": "markdown",
   "metadata": {},
   "source": [
    "### Reflection\n",
    "Answer following questions:\n",
    "1. Why clustering didn't find correct clusters at first?\n",
    "2. Why clustering found correct clusters at the end?\n",
    "3. Is K-means a good clustering method for this kind of data?"
   ]
  },
  {
   "cell_type": "markdown",
   "metadata": {},
   "source": [
    "Luultavasti ei ole oikea metodi tällaiselle datalle. Mutta ei K-meansiä varmaan paljon yritetäkään tällaiselle datalle käyttää?"
   ]
  },
  {
   "cell_type": "markdown",
   "metadata": {},
   "source": [
    "### Check your answers by running following cell:"
   ]
  },
  {
   "cell_type": "code",
   "execution_count": 80,
   "metadata": {},
   "outputs": [
    {
     "name": "stdout",
     "output_type": "stream",
     "text": [
      "Results:\n",
      "\t 'centroids1' is not correct. Please check your answer.\n",
      "centroids1\n",
      " [[127.6235    ]\n",
      " [ 27.64634615]]\n",
      "ref\n",
      " [[127.6235    ]\n",
      " [ 27.64634615]]\n",
      "\t 'centroids2' is not correct. Please check your answer.\n",
      "centroids2\n",
      " [[ 25.37106757  56.06756757]\n",
      " [116.0466      15.65      ]]\n",
      "ref\n",
      " [[ 56.06756757  25.37106757]\n",
      " [ 15.65       116.0466    ]]\n",
      "\t 'centroids3' is not correct. Please check your answer.\n",
      "centroids3\n",
      " [[25.05892034 60.5       ]\n",
      " [88.12436522 19.5       ]]\n",
      "ref\n",
      " [[60.5        25.05892034]\n",
      " [19.5        88.12436522]]\n",
      "Correct answers 0 / 3.\n"
     ]
    }
   ],
   "source": [
    "# Do not change this code!\n",
    "\n",
    "import importlib\n",
    "import bda2_kmeans1_check\n",
    "importlib.reload(bda2_kmeans1_check)\n",
    "\n",
    "print(\"Results:\")\n",
    "correct = bda2_kmeans1_check.check_kmeans1(centroids1, centroids2, centroids3)\n",
    "print(\"Correct answers\", correct, \"/ 3.\")"
   ]
  },
  {
   "cell_type": "markdown",
   "metadata": {},
   "source": [
    "### Nice work! "
   ]
  },
  {
   "cell_type": "code",
   "execution_count": null,
   "metadata": {},
   "outputs": [],
   "source": [
    "OISKOHAN TOI TARKISTIN RIKKI...?"
   ]
  }
 ],
 "metadata": {
  "kernelspec": {
   "display_name": "Python 3 (ipykernel)",
   "language": "python",
   "name": "python3"
  },
  "language_info": {
   "codemirror_mode": {
    "name": "ipython",
    "version": 3
   },
   "file_extension": ".py",
   "mimetype": "text/x-python",
   "name": "python",
   "nbconvert_exporter": "python",
   "pygments_lexer": "ipython3",
   "version": "3.9.6"
  }
 },
 "nbformat": 4,
 "nbformat_minor": 4
}
