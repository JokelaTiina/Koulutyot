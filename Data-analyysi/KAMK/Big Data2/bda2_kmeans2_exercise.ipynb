{
 "cells": [
  {
   "cell_type": "markdown",
   "metadata": {},
   "source": [
    "# Big Data Analysis 2\n",
    "### Exercise: Data Clustering with K-means 2\n",
    "\n",
    "In previous notebook we learned how to use k-means clustering. But how to choose optimal cluster count? It is always best, if you have prior information about the data. But if you don't have any prior information, you can try either elbow method or silhouette method. Let's try both!  \n",
    "\n",
    "***Hint.*** Check these first:\n",
    "\n",
    "https://scikit-learn.org/stable/modules/generated/sklearn.cluster.KMeans.html\n",
    "https://scikit-learn.org/stable/modules/generated/sklearn.metrics.silhouette_score.html\n"
   ]
  },
  {
   "cell_type": "markdown",
   "metadata": {},
   "source": [
    "#### Step 1: Preprosess the data and read it to Pandas dataframe \n",
    "**Task 1.** Copy `/bda1/data/google_ping.txt` to your working file\n",
    "\n",
    "**Task 2.** Remove duplicate lines (indicated with DUP)\n",
    "\n",
    "**Task 3.** Replace timeout lines with NaN (`Request timeout for icmp_seq xxx`)\n",
    "\n",
    "**Task 4.** Remove first header line (`PING google.com (74.125.205.138): 56 data bytes`)\n",
    "\n",
    "**Task 5.** Remove PING statistics from the end \n",
    "```\n",
    "--- google.com ping statistics ---\n",
    "94 packets transmitted, 94 packets received, 0.0% packet loss\n",
    "round-trip min/avg/max/stddev = 21.390/44.664/153.979/40.020 ms\n",
    "````\n",
    "**Task 6.** Remove all other characters except ping times from ping rows\n",
    "\n",
    "----------\n",
    "**Task 7.** Import pandas as pd, numpy as np, matplotlib.pyplot as plt, from sklearn.cluster import KMeans, from sklearn.metrics import silhouette_samples, silhouette_score and inline %matplotlib.\n",
    "\n",
    "------\n",
    "\n",
    "**Task 8.** Read ping times and NaNs to pandas dataframe `google` with column label `ping`.\n",
    "\n",
    "**Task 9.** Use `plot()` and `hist(bins=50)` to visualize `google` data.\n",
    "\n",
    "**Task 10.** Print dataframe length.\n",
    "\n",
    "**Task 11.** Print dataframe statistics with `describe()`. \n"
   ]
  },
  {
   "cell_type": "code",
   "execution_count": 1,
   "metadata": {
    "tags": []
   },
   "outputs": [],
   "source": [
    "## Task 1-6\n",
    "## Your code here\n",
    "\n",
    "!cp ../data/google_ping.txt google_ping.txt\n",
    "\n",
    "dup = 'DUP'\n",
    "\n",
    "a_file = open(\"google_ping.txt\", \"r\")\n",
    "lines = a_file.readlines()\n",
    "a_file.close()\n",
    "\n",
    "new_file = open(\"google_ping2.txt\", \"w\")\n",
    "for line in lines:\n",
    "    if not(dup in line):\n",
    "        new_file.write(line)\n",
    "new_file.close()\n",
    "\n",
    "!sed -i -e 's/Request timeout for icmp_seq.*/NaN/g' google_ping2.txt\n",
    "!sed -i '1d' google_ping2.txt\n",
    "!sed -i \"$(( $(wc -l < google_ping2.txt)-3 )),$ d\" google_ping2.txt\n",
    "!sed -i 's/.*time=\\(.*\\) ms/\\1/g' google_ping2.txt\n",
    "#!sed -i -e 's/NaN//g' google_ping2.txt\n",
    "#!sed -i '/^$/d' google_ping2.txt"
   ]
  },
  {
   "cell_type": "code",
   "execution_count": 2,
   "metadata": {},
   "outputs": [],
   "source": [
    "## Task 7\n",
    "## Your code here\n",
    "\n",
    "import pandas as pd\n",
    "import numpy as np\n",
    "import matplotlib.pyplot as plt\n",
    "from sklearn.cluster import KMeans \n",
    "from sklearn.metrics import silhouette_samples, silhouette_score\n",
    "%matplotlib inline"
   ]
  },
  {
   "cell_type": "code",
   "execution_count": 3,
   "metadata": {},
   "outputs": [
    {
     "name": "stdout",
     "output_type": "stream",
     "text": [
      "95\n"
     ]
    },
    {
     "data": {
      "text/html": [
       "<div>\n",
       "<style scoped>\n",
       "    .dataframe tbody tr th:only-of-type {\n",
       "        vertical-align: middle;\n",
       "    }\n",
       "\n",
       "    .dataframe tbody tr th {\n",
       "        vertical-align: top;\n",
       "    }\n",
       "\n",
       "    .dataframe thead th {\n",
       "        text-align: right;\n",
       "    }\n",
       "</style>\n",
       "<table border=\"1\" class=\"dataframe\">\n",
       "  <thead>\n",
       "    <tr style=\"text-align: right;\">\n",
       "      <th></th>\n",
       "      <th>ping</th>\n",
       "    </tr>\n",
       "  </thead>\n",
       "  <tbody>\n",
       "    <tr>\n",
       "      <th>0</th>\n",
       "      <td>22.476</td>\n",
       "    </tr>\n",
       "    <tr>\n",
       "      <th>1</th>\n",
       "      <td>24.295</td>\n",
       "    </tr>\n",
       "    <tr>\n",
       "      <th>2</th>\n",
       "      <td>89.301</td>\n",
       "    </tr>\n",
       "    <tr>\n",
       "      <th>3</th>\n",
       "      <td>NaN</td>\n",
       "    </tr>\n",
       "    <tr>\n",
       "      <th>4</th>\n",
       "      <td>149.829</td>\n",
       "    </tr>\n",
       "    <tr>\n",
       "      <th>...</th>\n",
       "      <td>...</td>\n",
       "    </tr>\n",
       "    <tr>\n",
       "      <th>90</th>\n",
       "      <td>24.603</td>\n",
       "    </tr>\n",
       "    <tr>\n",
       "      <th>91</th>\n",
       "      <td>24.815</td>\n",
       "    </tr>\n",
       "    <tr>\n",
       "      <th>92</th>\n",
       "      <td>25.114</td>\n",
       "    </tr>\n",
       "    <tr>\n",
       "      <th>93</th>\n",
       "      <td>24.758</td>\n",
       "    </tr>\n",
       "    <tr>\n",
       "      <th>94</th>\n",
       "      <td>22.674</td>\n",
       "    </tr>\n",
       "  </tbody>\n",
       "</table>\n",
       "<p>95 rows × 1 columns</p>\n",
       "</div>"
      ],
      "text/plain": [
       "       ping\n",
       "0    22.476\n",
       "1    24.295\n",
       "2    89.301\n",
       "3       NaN\n",
       "4   149.829\n",
       "..      ...\n",
       "90   24.603\n",
       "91   24.815\n",
       "92   25.114\n",
       "93   24.758\n",
       "94   22.674\n",
       "\n",
       "[95 rows x 1 columns]"
      ]
     },
     "execution_count": 3,
     "metadata": {},
     "output_type": "execute_result"
    },
    {
     "data": {
      "image/png": "[encoded data removed]",
      "text/plain": [
       "<Figure size 432x288 with 1 Axes>"
      ]
     },
     "metadata": {
      "needs_background": "light"
     },
     "output_type": "display_data"
    },
    {
     "data": {
      "image/png": "[encoded data removed]",
      "text/plain": [
       "<Figure size 432x288 with 1 Axes>"
      ]
     },
     "metadata": {
      "needs_background": "light"
     },
     "output_type": "display_data"
    }
   ],
   "source": [
    "## Task 8-11\n",
    "## Your code here\n",
    "\n",
    "ping_data = !cat google_ping2.txt\n",
    "ping_list = list(np.float_(ping_data))\n",
    "google = pd.DataFrame(ping_list, columns=['ping'])\n",
    "\n",
    "google.plot() \n",
    "google.hist(bins=50)\n",
    "\n",
    "print(len(google))\n",
    "google.describe()\n",
    "google"
   ]
  },
  {
   "cell_type": "markdown",
   "metadata": {},
   "source": [
    "### Step 2: Add index values\n",
    "\n",
    "**Task 12.** Add new column `i` to google dataframe and fill it with indexes 0...94\n"
   ]
  },
  {
   "cell_type": "code",
   "execution_count": 83,
   "metadata": {
    "tags": []
   },
   "outputs": [
    {
     "name": "stderr",
     "output_type": "stream",
     "text": [
      "/opt/conda/lib/python3.9/site-packages/pandas/util/_decorators.py:311: SettingWithCopyWarning: \n",
      "A value is trying to be set on a copy of a slice from a DataFrame\n",
      "\n",
      "See the caveats in the documentation: https://pandas.pydata.org/pandas-docs/stable/user_guide/indexing.html#returning-a-view-versus-a-copy\n",
      "  return func(*args, **kwargs)\n"
     ]
    },
    {
     "data": {
      "text/html": [
       "<div>\n",
       "<style scoped>\n",
       "    .dataframe tbody tr th:only-of-type {\n",
       "        vertical-align: middle;\n",
       "    }\n",
       "\n",
       "    .dataframe tbody tr th {\n",
       "        vertical-align: top;\n",
       "    }\n",
       "\n",
       "    .dataframe thead th {\n",
       "        text-align: right;\n",
       "    }\n",
       "</style>\n",
       "<table border=\"1\" class=\"dataframe\">\n",
       "  <thead>\n",
       "    <tr style=\"text-align: right;\">\n",
       "      <th></th>\n",
       "      <th>i</th>\n",
       "      <th>ping</th>\n",
       "    </tr>\n",
       "  </thead>\n",
       "  <tbody>\n",
       "    <tr>\n",
       "      <th>0</th>\n",
       "      <td>0</td>\n",
       "      <td>22.476</td>\n",
       "    </tr>\n",
       "    <tr>\n",
       "      <th>1</th>\n",
       "      <td>1</td>\n",
       "      <td>24.295</td>\n",
       "    </tr>\n",
       "    <tr>\n",
       "      <th>2</th>\n",
       "      <td>2</td>\n",
       "      <td>89.301</td>\n",
       "    </tr>\n",
       "    <tr>\n",
       "      <th>4</th>\n",
       "      <td>4</td>\n",
       "      <td>149.829</td>\n",
       "    </tr>\n",
       "    <tr>\n",
       "      <th>5</th>\n",
       "      <td>5</td>\n",
       "      <td>66.600</td>\n",
       "    </tr>\n",
       "    <tr>\n",
       "      <th>6</th>\n",
       "      <td>6</td>\n",
       "      <td>143.979</td>\n",
       "    </tr>\n",
       "    <tr>\n",
       "      <th>7</th>\n",
       "      <td>7</td>\n",
       "      <td>40.057</td>\n",
       "    </tr>\n",
       "    <tr>\n",
       "      <th>8</th>\n",
       "      <td>8</td>\n",
       "      <td>120.769</td>\n",
       "    </tr>\n",
       "    <tr>\n",
       "      <th>9</th>\n",
       "      <td>9</td>\n",
       "      <td>25.637</td>\n",
       "    </tr>\n",
       "    <tr>\n",
       "      <th>10</th>\n",
       "      <td>10</td>\n",
       "      <td>93.705</td>\n",
       "    </tr>\n",
       "  </tbody>\n",
       "</table>\n",
       "</div>"
      ],
      "text/plain": [
       "     i     ping\n",
       "0    0   22.476\n",
       "1    1   24.295\n",
       "2    2   89.301\n",
       "4    4  149.829\n",
       "5    5   66.600\n",
       "6    6  143.979\n",
       "7    7   40.057\n",
       "8    8  120.769\n",
       "9    9   25.637\n",
       "10  10   93.705"
      ]
     },
     "execution_count": 83,
     "metadata": {},
     "output_type": "execute_result"
    }
   ],
   "source": [
    "## Task 12\n",
    "## Your code here\n",
    "\n",
    "google['i'] = np.arange(0,95)\n",
    "google = google[['i', 'ping']]\n",
    "google.dropna(inplace=True)\n",
    "google.head(10)"
   ]
  },
  {
   "cell_type": "code",
   "execution_count": null,
   "metadata": {},
   "outputs": [
    {
     "data": {
      "text/html": [
       "<div>\n",
       "<style scoped>\n",
       "    .dataframe tbody tr th:only-of-type {\n",
       "        vertical-align: middle;\n",
       "    }\n",
       "\n",
       "    .dataframe tbody tr th {\n",
       "        vertical-align: top;\n",
       "    }\n",
       "\n",
       "    .dataframe thead th {\n",
       "        text-align: right;\n",
       "    }\n",
       "</style>\n",
       "<table border=\"1\" class=\"dataframe\">\n",
       "  <thead>\n",
       "    <tr style=\"text-align: right;\">\n",
       "      <th></th>\n",
       "      <th>i</th>\n",
       "      <th>ping</th>\n",
       "    </tr>\n",
       "  </thead>\n",
       "  <tbody>\n",
       "    <tr>\n",
       "      <th>0</th>\n",
       "      <td>0</td>\n",
       "      <td>22.476</td>\n",
       "    </tr>\n",
       "    <tr>\n",
       "      <th>1</th>\n",
       "      <td>1</td>\n",
       "      <td>24.295</td>\n",
       "    </tr>\n",
       "    <tr>\n",
       "      <th>2</th>\n",
       "      <td>2</td>\n",
       "      <td>89.301</td>\n",
       "    </tr>\n",
       "    <tr>\n",
       "      <th>4</th>\n",
       "      <td>4</td>\n",
       "      <td>149.829</td>\n",
       "    </tr>\n",
       "    <tr>\n",
       "      <th>5</th>\n",
       "      <td>5</td>\n",
       "      <td>66.600</td>\n",
       "    </tr>\n",
       "    <tr>\n",
       "      <th>6</th>\n",
       "      <td>6</td>\n",
       "      <td>143.979</td>\n",
       "    </tr>\n",
       "    <tr>\n",
       "      <th>7</th>\n",
       "      <td>7</td>\n",
       "      <td>40.057</td>\n",
       "    </tr>\n",
       "    <tr>\n",
       "      <th>8</th>\n",
       "      <td>8</td>\n",
       "      <td>120.769</td>\n",
       "    </tr>\n",
       "    <tr>\n",
       "      <th>9</th>\n",
       "      <td>9</td>\n",
       "      <td>25.637</td>\n",
       "    </tr>\n",
       "    <tr>\n",
       "      <th>10</th>\n",
       "      <td>10</td>\n",
       "      <td>93.705</td>\n",
       "    </tr>\n",
       "  </tbody>\n",
       "</table>\n",
       "</div>"
      ],
      "text/plain": [
       "     i     ping\n",
       "0    0   22.476\n",
       "1    1   24.295\n",
       "2    2   89.301\n",
       "4    4  149.829\n",
       "5    5   66.600\n",
       "6    6  143.979\n",
       "7    7   40.057\n",
       "8    8  120.769\n",
       "9    9   25.637\n",
       "10  10   93.705"
      ]
     },
     "execution_count": 9,
     "metadata": {},
     "output_type": "execute_result"
    }
   ],
   "source": []
  },
  {
   "cell_type": "markdown",
   "metadata": {},
   "source": [
    "### Step 3: Elbow method\n",
    "\n",
    "Let's try elbow method with cluster values 1...10. In elbow method we try to find point, were sum of squared distances of samples reach near floor level.   \n",
    "\n",
    "***Hint.*** *Check what `kmeans.inertia_` means. :)*\n",
    "\n",
    "**Task 13.** Make a for loop to test K-means inertia value with different cluster counts.\n",
    "\n",
    "**Task 14.** Plot picture \"inertia vs. K-value\" i.e. elbow -picture. \n",
    "\n",
    "**Task 15.** Print and save inertia values to vector `Sum_of_squared_distances`.\n"
   ]
  },
  {
   "cell_type": "code",
   "execution_count": 38,
   "metadata": {
    "tags": []
   },
   "outputs": [
    {
     "data": {
      "image/png": "[encoded data removed]",
      "text/plain": [
       "<Figure size 432x288 with 1 Axes>"
      ]
     },
     "metadata": {
      "needs_background": "light"
     },
     "output_type": "display_data"
    },
    {
     "name": "stdout",
     "output_type": "stream",
     "text": [
      "[220032.33154167017, 64858.551903624306, 31902.62894239839, 19204.65813072136, 12343.195179785418, 9132.856478083693, 7193.757671188455, 5806.878990085281, 4661.4495708096765]\n"
     ]
    }
   ],
   "source": [
    "## Task 13-14\n",
    "## Your code here\n",
    "\n",
    "Sum_of_squared_distances = [] \n",
    "for cluster in range(1, 10): \n",
    "    kmeans = KMeans(n_clusters = cluster, init = 'k-means++')\n",
    "    kmeans.fit(google) \n",
    "    Sum_of_squared_distances.append(kmeans.inertia_)\n",
    "    \n",
    "plt.plot(range(1, 10), Sum_of_squared_distances, marker='x')\n",
    "plt.xlabel('Values of K')\n",
    "plt.ylabel('Sum of squared distances/inertia') \n",
    "plt.title('Elbow Method For Optimal k')\n",
    "plt.show()\n",
    "\n",
    "print(Sum_of_squared_distances)"
   ]
  },
  {
   "cell_type": "code",
   "execution_count": null,
   "metadata": {},
   "outputs": [],
   "source": []
  },
  {
   "cell_type": "markdown",
   "metadata": {},
   "source": [
    "You should get something like this:\n",
    "\n",
    "<img src=\"./bda2_kmeans_answers/elbow.png\" width=300px/>"
   ]
  },
  {
   "cell_type": "markdown",
   "metadata": {},
   "source": [
    "### Step 4. Silhouette method\n",
    "\n",
    "And now silhouette method. Let's calculate silhouette score with clusters 2...10 (1 is not allowed value). In silhouette method we try to find point, were we get maximum score value. \n",
    "\n",
    "***Hint.*** *Check `silhouette_score()`*\n",
    "\n",
    "**Task 16.** Make a for loop to test silhouette score value with different cluster counts.\n",
    "\n",
    "**Task 17.** Plot picture \"silhouette score vs. K-value\". \n",
    "\n",
    "**Task 18.** Print and save silhouette score values to vector `silhouette_avg`.\n"
   ]
  },
  {
   "cell_type": "code",
   "execution_count": 90,
   "metadata": {},
   "outputs": [
    {
     "name": "stdout",
     "output_type": "stream",
     "text": [
      "For n_clusters = 2, silhouette score is 0.6829775884176349)\n",
      "For n_clusters = 3, silhouette score is 0.5480086349308476)\n",
      "For n_clusters = 4, silhouette score is 0.5548816713657364)\n",
      "For n_clusters = 5, silhouette score is 0.5575005269484032)\n",
      "For n_clusters = 6, silhouette score is 0.5335657125059202)\n",
      "For n_clusters = 7, silhouette score is 0.5145240620601629)\n",
      "For n_clusters = 8, silhouette score is 0.5197855745531653)\n",
      "For n_clusters = 9, silhouette score is 0.5004659701636711)\n"
     ]
    },
    {
     "data": {
      "image/png": "[encoded data removed]",
      "text/plain": [
       "<Figure size 432x288 with 1 Axes>"
      ]
     },
     "metadata": {
      "needs_background": "light"
     },
     "output_type": "display_data"
    },
    {
     "name": "stdout",
     "output_type": "stream",
     "text": [
      "[0.6829775884176349, 0.5480086349308476, 0.5548816713657364, 0.5575005269484032, 0.5335657125059202, 0.5145240620601629, 0.5197855745531653, 0.5004659701636711]\n"
     ]
    }
   ],
   "source": [
    "## Task 16-18\n",
    "## Your code here\n",
    "\n",
    "range_n_clusters = [2, 3, 4, 5, 6, 7, 8, 9]\n",
    "silhouettes = []\n",
    "\n",
    "for n_clusters in range_n_clusters:\n",
    "    clusterer = KMeans(n_clusters=n_clusters)\n",
    "    preds = clusterer.fit_predict(google)\n",
    "    #centers = clusterer.cluster_centers_\n",
    "\n",
    "    score = silhouette_score(google, preds)\n",
    "    print(\"For n_clusters = {}, silhouette score is {})\".format(n_clusters, score))\n",
    "    silhouettes.append(score)\n",
    "\n",
    "plt.plot(range(2, 10), silhouettes, marker='x')\n",
    "plt.xlabel('Values of K')\n",
    "plt.ylabel('Silhouette score') \n",
    "plt.title('Silhouette analysis For Optimal k')\n",
    "plt.show()\n",
    "    \n",
    "#silhouette_avg = sum(silhouettes) / len(silhouettes)\n",
    "silhouette_avg = silhouettes\n",
    "print(silhouette_avg)"
   ]
  },
  {
   "cell_type": "code",
   "execution_count": null,
   "metadata": {},
   "outputs": [],
   "source": []
  },
  {
   "cell_type": "markdown",
   "metadata": {},
   "source": [
    "You should get something like this:\n",
    "\n",
    "<img src=\"./bda2_kmeans_answers/silhouette.png\" width=300px/>"
   ]
  },
  {
   "cell_type": "markdown",
   "metadata": {},
   "source": [
    "### Step 5. Automatic cluster count selection\n",
    "\n",
    "Because it's easy to find maximum silhouette score with argmax() function, let's try if we get same result as in previous notebook.   \n",
    "\n",
    "**Task 19.** Find index of maximum silhouette score and use it as a cluster count. \n",
    "\n",
    "**Task 20.** Fit Kmeans \n",
    "\n",
    "**Task 21.** Plot data clusters as a scatter plot and include cluster_cernter lines.\n",
    "\n",
    "**Task 22.** Print and save Kmeans cluster_centers to variable `centroids`."
   ]
  },
  {
   "cell_type": "code",
   "execution_count": 87,
   "metadata": {},
   "outputs": [
    {
     "data": {
      "image/png": "[encoded data removed]",
      "text/plain": [
       "<Figure size 432x288 with 1 Axes>"
      ]
     },
     "metadata": {
      "needs_background": "light"
     },
     "output_type": "display_data"
    },
    {
     "name": "stdout",
     "output_type": "stream",
     "text": [
      "[[ 56.06756757  25.37106757]\n",
      " [ 15.65       116.0466    ]]\n"
     ]
    }
   ],
   "source": [
    "## Task 19-22\n",
    "## Your code here\n",
    "import numpy as np\n",
    "\n",
    "max_sil = silhouettes[np.argmax(silhouettes)]\n",
    "max_sil\n",
    "\n",
    "kmeans = KMeans(n_clusters=2)\n",
    "kmeans.fit(google)\n",
    "\n",
    "plt.scatter(google['i'], google['ping'], c=kmeans.labels_)\n",
    "centroids = kmeans.cluster_centers_\n",
    "plt.scatter(kmeans.cluster_centers_[:,0], kmeans.cluster_centers_[:,1], c='red', marker=('*'))\n",
    "\n",
    "plt.show()\n",
    "print(centroids) "
   ]
  },
  {
   "cell_type": "code",
   "execution_count": null,
   "metadata": {},
   "outputs": [],
   "source": []
  },
  {
   "cell_type": "markdown",
   "metadata": {},
   "source": [
    "You should get same picture as in previous notebook. :)\n",
    "\n",
    "<img src=\"./bda2_kmeans_answers/kmeans2.png\" width=300px/>"
   ]
  },
  {
   "cell_type": "markdown",
   "metadata": {},
   "source": [
    "### Reflection\n",
    "Answer following questions:\n",
    "1. Why we need methods like elbow or silhouette score?\n",
    "2. Which one is better? Why?\n"
   ]
  },
  {
   "cell_type": "markdown",
   "metadata": {},
   "source": [
    "*Your answers here...*"
   ]
  },
  {
   "cell_type": "markdown",
   "metadata": {},
   "source": [
    "1. Elbow ja silhouette score metodien avulla löydetään optimaalisin klusterin arvo tarkan metodin avulla \n",
    "arvuuttelun sijaan.\n",
    "\n",
    "2. Silhouette on parempi, koska sillä löydetään optimaalisin arvo tarkasti ja helposti. Elbow-kuvaajasta \n",
    "optimaalisimman arvon löytäminen on epämääräisempää. Itse ainakin tämän tehtävän kuvaajasta olisin valinnut arvot 3\n",
    "tai 4."
   ]
  },
  {
   "cell_type": "markdown",
   "metadata": {},
   "source": [
    "### Check your answers by running following cell:"
   ]
  },
  {
   "cell_type": "code",
   "execution_count": 91,
   "metadata": {},
   "outputs": [
    {
     "name": "stdout",
     "output_type": "stream",
     "text": [
      "Results:\n",
      "\t 'centroids' is not correct. Please check your answer.\n",
      "centroids\n",
      " [[ 56.06756757  25.37106757]\n",
      " [ 15.65       116.0466    ]]\n",
      "ref\n",
      " [[ 56.06756757  25.37106757]\n",
      " [ 15.65       116.0466    ]]\n",
      "Correct answers 2 / 3.\n"
     ]
    }
   ],
   "source": [
    "# Do not change this code!\n",
    "\n",
    "import importlib\n",
    "import bda2_kmeans2_check\n",
    "importlib.reload(bda2_kmeans2_check)\n",
    "\n",
    "print(\"Results:\")\n",
    "correct = bda2_kmeans2_check.check_kmeans2(Sum_of_squared_distances, silhouette_avg, centroids)\n",
    "print(\"Correct answers\", correct, \"/ 3.\")"
   ]
  },
  {
   "cell_type": "markdown",
   "metadata": {},
   "source": [
    "### Nice work! "
   ]
  },
  {
   "cell_type": "code",
   "execution_count": null,
   "metadata": {},
   "outputs": [],
   "source": [
    "TÄSSÄKIN TAAS SAMA VIKA NOIDEN CENTROIDI-LUKUJEN TARKISTUKSEN KANSSA."
   ]
  }
 ],
 "metadata": {
  "kernelspec": {
   "display_name": "Python 3 (ipykernel)",
   "language": "python",
   "name": "python3"
  },
  "language_info": {
   "codemirror_mode": {
    "name": "ipython",
    "version": 3
   },
   "file_extension": ".py",
   "mimetype": "text/x-python",
   "name": "python",
   "nbconvert_exporter": "python",
   "pygments_lexer": "ipython3",
   "version": "3.9.6"
  }
 },
 "nbformat": 4,
 "nbformat_minor": 4
}
