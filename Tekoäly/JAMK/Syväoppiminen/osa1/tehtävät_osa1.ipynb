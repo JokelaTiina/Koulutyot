{
 "cells": [
  {
   "cell_type": "markdown",
   "metadata": {},
   "source": [
    "# Tehtävä 0.\n",
    "## Aihe: Ympäristön pystytys\n",
    "\n",
    "Luo ohjelmointiympäristö asentamalla syväoppimiseen tarvittavat kirjastot. Seuraa materiaaleista otsikon \"Ympäristön pystytys\" - alla olevat ohjeet.\n",
    "\n",
    "Kun olet asentanut kirjastot, aja alla oleva solu. Jos ei tule virheitä, niin ympäristösi on asennettu oikein."
   ]
  },
  {
   "cell_type": "code",
   "execution_count": 2,
   "metadata": {
    "scrolled": true,
    "tags": [
     "answers_1_0"
    ]
   },
   "outputs": [
    {
     "name": "stdout",
     "output_type": "stream",
     "text": [
      "2.3.0\n"
     ]
    }
   ],
   "source": [
    "import numpy as np\n",
    "import pandas as pd\n",
    "import sklearn\n",
    "import tensorflow as tf\n",
    "\n",
    "print(tf.__version__) # Pitäisi tulostaa tensorflow 2.0 tai uudempi versio"
   ]
  },
  {
   "cell_type": "markdown",
   "metadata": {},
   "source": [
    "Jos olet asentanut Tensorflowin GPU eli näytönohjainversion, aja alla oleva solu. Solun pitäisi tulostaa listan laskentaan saatavilla olevista näytönohjaimista. Jos näytönohjaimia ei löydy, solu tulostaa tyhjän listan. \n",
    "\n",
    "Jos et käytä Tensorflowin GPU versiota, voit jättää solun ajamatta tai kommentoida funktion pois."
   ]
  },
  {
   "cell_type": "code",
   "execution_count": 13,
   "metadata": {},
   "outputs": [],
   "source": [
    "#tf.config.list_physical_devices('GPU')"
   ]
  },
  {
   "cell_type": "markdown",
   "metadata": {},
   "source": [
    "# Tehtävä 1\n",
    "### Aihe: Datan esikäsittely ja ohjattu oppiminen\n",
    "3,3 pistettä\n",
    "\n",
    "1. Katso diabetes - datasetin tiedot Kagglesta https://www.kaggle.com/uciml/pima-indians-diabetes-database ja lataa \"likainen\" versio datasetistä data - kansiosta *diabetes_messy.csv* tiedostosta.\n",
    "\n",
    "2. Lataa csv-tiedosto Pandas DataFrameen, suorita seuraavat datan siivoamisoperaatiot:\n",
    "    * Pudota NaN rivit.\n",
    "    * Pudota identtiset rivit.\n",
    "    * Korvaa suuresti poikkeavat arvot sarakkeen mediaanilla. (Vinkki: Visualisoi sarakkeiden arvot)\n",
    "\n",
    "3. Tutki numeraalisissa sarakkeissa nolla-arvojen määrän suhdetta kaikkiin arvoihin. Jos nolla-arvoja on 20% tai enemmän, pudota koko sarake datasetistä.\n",
    "\n",
    "4. Skaalaa datasetti käyttäen standardisointia tai minimi-maksimi skaalausta.\n",
    "\n",
    "5. Muuta datasetti valvotun oppimisen muotoon, eli erottele data ominaisuuksiin ja ennustettaviin arvoihin.\n",
    "    * Ennustettava arvo on tässä datasetissä Diabetes - sarake, ominaisuudet ovat kaikki muut sarakkeet.\n",
    "\n",
    "6. Jaa datasetti koulutus- ja testidatasettiin, niin että koulutusdatasetissä on 80% datasetistä ja testidatasetissä 20%. \n",
    "\n",
    "7. Aja \"Tehtävän vastaukset\" solu, jossa todistetaan, että DataFrame on siivottu ja valmis koneoppimisen malleille:\n",
    "    * Ei identtisiä rivejä (Funktion df.duplicated().any().sum() tulos on 0)\n",
    "    * Ei NaN rivejä (Funktion df.isna().any().sum() tulos on 0)\n",
    "    * Koulutus- ja testidatasetin jako on 80%/20%"
   ]
  },
  {
   "cell_type": "code",
   "execution_count": 3,
   "metadata": {
    "scrolled": false
   },
   "outputs": [],
   "source": [
    "import matplotlib.pyplot as plt\n",
    "import numpy as np\n",
    "from sklearn.preprocessing import StandardScaler\n",
    "from sklearn.model_selection import train_test_split\n",
    "\n",
    "df = pd.read_csv('data/diabetes_messy.csv')\n",
    "df.drop('Unnamed: 0', inplace=True, axis=1)\n",
    "df.dropna(inplace=True) # Pudota NaN rivit\n",
    "df.drop_duplicates(keep='first', inplace=True) # Pudota identtiset rivit\n",
    "\n",
    "#fig, ax = plt.subplots()\n",
    "#ax.plot(df['Age'])\n",
    "#plt.show()\n",
    "\n",
    "# korvaa suuresti poikkeavat arvot sarakkeen mediaanilla.\n",
    "df.loc[df['Pregnancies'] >= 100, 'Pregnancies'] = np.nan  \n",
    "df['Pregnancies'].fillna(df['Pregnancies'].median(), inplace=True)\n",
    "df.loc[df['SkinThickness'] >= 70, 'SkinThickness'] = np.nan  \n",
    "df['SkinThickness'].fillna(df['SkinThickness'].median(), inplace=True)\n",
    "df.loc[df['Age'] >= 100, 'Age'] = np.nan  \n",
    "df['Age'].fillna(df['Age'].median(), inplace=True)\n",
    "\n",
    "# rivien määrä sarakkeissa\n",
    "number_of_rows = len(df.index)\n",
    "\n",
    "# jos nolla-arvoja on 20% tai enemmän, sarake pudotetaan\n",
    "for column in df:\n",
    "    if column ==\"Outcome\":\n",
    "        continue\n",
    "    if (((df[column] == 0).sum())/number_of_rows)*100 >= 20:\n",
    "        df = df.drop(column, axis=1)\n",
    "\n",
    "# skaalaa datasetti käyttäen standardisointia\n",
    "scaler = StandardScaler()\n",
    "df.iloc[:, :-1] = scaler.fit_transform(df.iloc[:, :-1])\n",
    "df = pd.DataFrame(df)\n",
    "\n",
    "# muuta datasetti valvotun oppimisen muotoon, eli erottele data ominaisuuksiin ja ennustettaviin arvoihin\n",
    "X = df.drop('Outcome', axis=1) \n",
    "y = df['Outcome']\n",
    "\n",
    "# jaa datasetti koulutus- ja testidatasettiin, niin että koulutusdatasetissä on 80% datasetistä ja testidatasetissä 20%\n",
    "train_X, test_X, train_y, test_y = train_test_split(X, y, test_size=0.20, shuffle=True, stratify=y)\n",
    "\n",
    "#print(df.head(50))"
   ]
  },
  {
   "cell_type": "code",
   "execution_count": 18,
   "metadata": {
    "tags": [
     "answers_1_1"
    ]
   },
   "outputs": [
    {
     "name": "stdout",
     "output_type": "stream",
     "text": [
      "Amount of NaN rows in dataframe:  0\n",
      "Amount of duplicate rows in dataframe:  0\n",
      "Training dataset length:  614\n",
      "Test dataset length:  154\n"
     ]
    }
   ],
   "source": [
    "# Tehtävän vastaukset. Huom! Älä muokkaa tätä solua, vaan aja se, kun olet suorittanut tehtävän. Sijoita muokkaamasi dataframe df - muuttujaan.\n",
    "print(\"Amount of NaN rows in dataframe: \",df.isna().any().sum())\n",
    "print(\"Amount of duplicate rows in dataframe: \",df.duplicated().any().sum())\n",
    "print(\"Training dataset length: \", len(train_X))\n",
    "print(\"Test dataset length: \",len(test_X))"
   ]
  },
  {
   "cell_type": "markdown",
   "metadata": {},
   "source": [
    "# Tehtävä 2.\n",
    "### Aihe: Neuroverkko käsin\n",
    "3,3 pistettä\n",
    "\n",
    "Alla on määritelty koordinaattipareja, joiden avulla on piirretty kahta eri värisiä pisteitä. Tavoitteena on luoda neuroverkko, joka jakaa kuvaajan siniseen ja punaiseen alueeseen. Kun kuvaajaan piirretään uusi piste ja pisteen koordinaatit syötetään neuroverkolle, neuroverkon ennuste kertoo sen, minkä värinen piste on.\n",
    "\n",
    "Katso materiaaleista, miten luot neuroverkon käsin käyttäen NumPy - kirjaston taulukoita ja funktioita. \n",
    "\n",
    "1. Luo koulutusdatasetti koordinaattipisteet ja värit ominaisuuksiin ja ennustettaviin arvoihin.\n",
    "2. Luo neuroverkkoluokka, jonka rakenne on:\n",
    "    * Sisääntulokerros, jossa on kaksi neuronia\n",
    "    * Yksi piiloitettua kerros, jossa on 6 neuronia ja aktivaatiofunktiona sigmoid.\n",
    "    * Ulostulokerros, jossa yksi neuroni ja aktivaatiofunktiona sigmoid.\n",
    "3. Luo funktiot, joiden avulla lasket neuroverkon ennustuksen syöttödatalle (forwardpropagation) ja päivität yhteyksien painoarvoja virheen avulla (backpropagation)\n",
    "4. Syötä koulutusdatasetti 1000 kertaa neuroverkon läpi.\n",
    "    * Syötä jokaisella kierroksella koulutusdata rivi riviltä neuroverkon läpi ja päivitä painoarvot.\n",
    "    * Tallenna kierroksen aikana virheet jokaiselle syötölle, ja lisää kierroksen virheistä keskiarvo listaan. Piirrä kuvaaja siitä, kuinka virhe muuttuu koulutuksen aikana\n",
    "5. Ennusta neuroverkolla, minkä värinen on piste: [0.1,-5.8]\n",
    "6. Aja \"Tehtävän vastaukset\" solu\n",
    "\n",
    "Vinkkejä:\n",
    "* Piirrä neuroverkon rakenne piirrustusohjelmalla tai paperille, näät silloin yhteyksien määrän jokaisessa kerroksessa.\n",
    "* Käytä olemassa olevaa ratkaisua materiaaleista, lisää siihen tarvittavat laskut jokaiselle kerrokselle."
   ]
  },
  {
   "cell_type": "code",
   "execution_count": 21,
   "metadata": {},
   "outputs": [
    {
     "data": {
      "text/plain": [
       "<matplotlib.collections.PathCollection at 0x28bc8489a90>"
      ]
     },
     "execution_count": 21,
     "metadata": {},
     "output_type": "execute_result"
    },
    {
     "data": {
      "image/png": "[encoded data removed]",
      "text/plain": [
       "<Figure size 432x288 with 1 Axes>"
      ]
     },
     "metadata": {
      "needs_background": "light"
     },
     "output_type": "display_data"
    }
   ],
   "source": [
    "import matplotlib.pyplot as plt\n",
    "from sklearn.datasets import make_blobs\n",
    "\n",
    "dots, labels = make_blobs(n_samples=90,centers=2,cluster_std = 3,center_box=(-8,8),random_state=131)\n",
    "colors = ['red' if label == 0 else 'blue' for label in labels]\n",
    "plt.scatter(dots[:,0],dots[:,1],color=colors)"
   ]
  },
  {
   "cell_type": "code",
   "execution_count": 25,
   "metadata": {
    "scrolled": false
   },
   "outputs": [
    {
     "name": "stdout",
     "output_type": "stream",
     "text": [
      "Neuroverkon ennuste ensimmäiselle syötteelle: [0.95663409] Neuroverkon virhe: [0.45757439]\n",
      "Epoch 100 Loss: [0.0558732]\n",
      "Epoch 200 Loss: [0.04397464]\n",
      "Epoch 300 Loss: [0.04029307]\n",
      "Epoch 400 Loss: [0.03697165]\n",
      "Epoch 500 Loss: [0.0327314]\n",
      "Epoch 600 Loss: [0.02928247]\n",
      "Epoch 700 Loss: [0.02660436]\n",
      "Epoch 800 Loss: [0.0244337]\n",
      "Epoch 900 Loss: [0.0226303]\n",
      "Epoch 1000 Loss: [0.02110974]\n"
     ]
    },
    {
     "data": {
      "image/png": "[encoded data removed]",
      "text/plain": [
       "<Figure size 432x288 with 1 Axes>"
      ]
     },
     "metadata": {
      "needs_background": "light"
     },
     "output_type": "display_data"
    }
   ],
   "source": [
    "# Tehtävän toteutus jatkuu tästä\n",
    "import numpy as np\n",
    "\n",
    "# luo koulutusdatasetti koordinaattipisteet ja värit ominaisuuksiin ja ennustettaviin arvoihin\n",
    "train_X = dots\n",
    "train_y = labels\n",
    "\n",
    "# luo neuroverkkoluokka, jonka rakenne on:\n",
    "# sisääntulokerros, jossa on kaksi neuronia\n",
    "# yksi piiloitettua kerros, jossa on 6 neuronia ja aktivaatiofunktiona sigmoid.\n",
    "# ulostulokerros, jossa yksi neuroni ja aktivaatiofunktiona sigmoid.\n",
    "\n",
    "class NeuralNetwork:\n",
    "    def __init__(self):\n",
    "        # Alustetaan painoarvot satunaisesti\n",
    "        self.weights1 = np.random.rand(2,6)\n",
    "        self.weights2 = np.random.rand(6,1)\n",
    "        \n",
    "    # Virhefunktio\n",
    "    def loss_function(self,true,prediction):\n",
    "        return 0.5 * (true - prediction)**2\n",
    "    \n",
    "    # Virhefunktion derivaatta\n",
    "    def loss_function_derivative(self,true,prediction):\n",
    "        return true - prediction\n",
    "    \n",
    "    # Sigmoid funktio\n",
    "    def sigmoid(self,x):\n",
    "        return 1 / (1 + np.exp(-x))\n",
    "    \n",
    "    # Sigmoidin derivaatta\n",
    "    def sigmoid_derivative(self,x):\n",
    "        return x * (1 - x)\n",
    "    \n",
    "    # Syöte neuroverkon kerrosten läpi\n",
    "    def forwardpropagation(self,X,y):\n",
    "        # Määritetään ominaisuudet ja halutut arvot NumPy - taulukoiksi sekä lasketaan kerrosten ulostulot\n",
    "        self.X = np.array([X])\n",
    "        self.y = np.array([y])\n",
    "        self.layer1 = self.sigmoid(np.dot(self.X, self.weights1))\n",
    "        self.output = self.sigmoid(np.dot(self.layer1, self.weights2))\n",
    "        self.loss = self.loss_function(self.y, self.output)\n",
    "    \n",
    "    # Painoarvojen päivitys backpropagation - menetelmällä\n",
    "    def backpropagation(self, learning_rate):\n",
    "        output_error = self.loss_function_derivative(self.y, self.output)\n",
    "        output_delta = output_error * self.sigmoid_derivative(self.output)\n",
    "        weights2_adjustment = np.dot(self.layer1.T, output_delta)\n",
    "\n",
    "        layer1_error = np.dot(output_delta, self.weights2.T)\n",
    "        layer1_delta = layer1_error * self.sigmoid_derivative(self.layer1)\n",
    "        weights1_adjustment = np.dot(self.X.T, layer1_delta)\n",
    "        \n",
    "        self.weights2 += learning_rate * weights2_adjustment\n",
    "        self.weights1 += learning_rate * weights1_adjustment\n",
    "        \n",
    "        \n",
    "# luo funktiot, joiden avulla lasket neuroverkon ennustuksen syöttödatalle (forwardpropagation) ja päivität yhteyksien \n",
    "# painoarvoja virheen avulla (backpropagation)        \n",
    "neural_network = NeuralNetwork()\n",
    "neural_network.forwardpropagation(train_X[0],train_y[0])\n",
    "print(f\"Neuroverkon ennuste ensimmäiselle syötteelle: {neural_network.output[0]} Neuroverkon virhe: {neural_network.loss[0]}\")\n",
    "neural_network.backpropagation(learning_rate = 0.01)\n",
    "\n",
    "# syötä koulutusdatasetti 1000 kertaa neuroverkon läpi\n",
    "epoch_losses = []\n",
    "epochs = 1000\n",
    "for epoch in range(1,epochs+1):\n",
    "    batch_losses = [] # Lista, johon lisätään yhden kierroksen virhearvot\n",
    "    for X,y in zip(train_X,train_y):\n",
    "        neural_network.forwardpropagation(X,y)\n",
    "        neural_network.backpropagation(learning_rate = 0.01)\n",
    "        batch_losses.append(neural_network.loss[0])\n",
    "    epoch_losses.append(np.average(batch_losses)) # Otetaan keskiarvo yhden kierroksen virhearvoista\n",
    "    if epoch % 100 == 0:\n",
    "        print(f\"Epoch {epoch} Loss: {neural_network.loss[0]}\")\n",
    "        \n",
    "# piirrä kuvaaja siitä, kuinka virhe muuttuu koulutuksen aikana        \n",
    "fig, ax = plt.subplots()\n",
    "ax.plot(epoch_losses)\n",
    "ax.set_title(\"Neural Network Loss\")\n",
    "ax.set_xlabel('Epochs')\n",
    "ax.set_ylabel('Loss')\n",
    "plt.show()\n",
    "\n",
    "#ennusta neuroverkolla, minkä värinen on piste: [0.1,-5.8]\n",
    "test_X = np.array([[0.1,-5.8]])\n",
    "layer1_output = neural_network.sigmoid(np.dot(test_X, neural_network.weights1))\n",
    "output = neural_network.sigmoid(np.dot(layer1_output, neural_network.weights2))"
   ]
  },
  {
   "cell_type": "code",
   "execution_count": 26,
   "metadata": {
    "tags": [
     "answers_1_2"
    ]
   },
   "outputs": [
    {
     "name": "stdout",
     "output_type": "stream",
     "text": [
      "[[0.97456477]]\n"
     ]
    }
   ],
   "source": [
    "# Tehtävän vastaukset. Huom! Älä muokkaa tätä solua, vaan aja se, kun olet suorittanut tehtävän. Sijoita output - muuttujaan neuroverkon ennuste syötölle [0.1,-5.8]\n",
    "print(output)"
   ]
  },
  {
   "cell_type": "markdown",
   "metadata": {},
   "source": [
    "# Tehtävä 3\n",
    "### Aihe: Yksinkertainen neuroverkko Keras Sequential API:lla\n",
    "3,3 pistettä\n",
    "\n",
    "Koulutetaan yksinkertainen neuroverkko Kerassilla käyttäen tehtävässä 1 puhdistettua diabetes datasettiä. (Jos tehtävän teko ei onnistunut, lataa datasetti Kagglesta)\n",
    "\n",
    "Tehtävästä on löydyttävä vaiheet:\n",
    "1. Luo neuroverkko (käytä tf.keras.Sequential() funktiota)\n",
    "2. Määritä häviöfunktio ja optimisaattori (käytä model.compile() funktiota)\n",
    "3. Kouluta neuroverkko (käytä model.fit() funktiota)\n",
    "4. Vertaa neuroverkon ennustuksia testidataan (käytä model.evaluate() funktiota)\n",
    "5. Aja \"Tehtävän vastaukset\" solu"
   ]
  },
  {
   "cell_type": "code",
   "execution_count": 18,
   "metadata": {
    "scrolled": false
   },
   "outputs": [
    {
     "name": "stdout",
     "output_type": "stream",
     "text": [
      "Epoch 1/5\n",
      "20/20 [==============================] - 0s 4ms/step - loss: 0.6529 - accuracy: 0.6368\n",
      "Epoch 2/5\n",
      "20/20 [==============================] - 0s 4ms/step - loss: 0.6197 - accuracy: 0.6515\n",
      "Epoch 3/5\n",
      "20/20 [==============================] - 0s 4ms/step - loss: 0.5958 - accuracy: 0.6580\n",
      "Epoch 4/5\n",
      "20/20 [==============================] - 0s 4ms/step - loss: 0.5750 - accuracy: 0.6743\n",
      "Epoch 5/5\n",
      "20/20 [==============================] - 0s 4ms/step - loss: 0.5554 - accuracy: 0.6987\n",
      "5/5 [==============================] - 0s 1ms/step - loss: 0.5708 - accuracy: 0.7143\n"
     ]
    }
   ],
   "source": [
    "# Tehtävän toteutus\n",
    "import tensorflow as tf\n",
    "tf.keras.backend.set_floatx('float64')\n",
    "from tensorflow import keras\n",
    "\n",
    "# muuta datasetti valvotun oppimisen muotoon, eli erottele data ominaisuuksiin ja ennustettaviin arvoihin\n",
    "X = df.drop('Outcome', axis=1) \n",
    "y = df['Outcome']\n",
    "\n",
    "# jaa datasetti koulutus- ja testidatasettiin, niin että koulutusdatasetissä on 80% datasetistä ja testidatasetissä 20%\n",
    "train_X, test_X, train_y, test_y = train_test_split(X, y, test_size=0.20, shuffle=True, stratify=y)\n",
    "train_X, test_X, train_y, test_y = train_test_split(df.drop('Outcome',axis=1).values, df['Outcome'].values,\n",
    "test_size=0.2,\n",
    "stratify=y)\n",
    "\n",
    "keras.backend.clear_session()\n",
    "\n",
    "# luo neuroverkko (käytä tf.keras.Sequential() funktiota)\n",
    "model = tf.keras.Sequential([\n",
    "    tf.keras.layers.Dense(6, activation='relu'),\n",
    "    tf.keras.layers.Dense(30, activation='relu'),\n",
    "    tf.keras.layers.Dense(1, activation='sigmoid'),\n",
    "])\n",
    "\n",
    "# määritä häviöfunktio ja optimisaattori (käytä model.compile() funktiota)\n",
    "model.compile(loss='binary_crossentropy',\n",
    "             optimizer='adam',\n",
    "             metrics=['accuracy'])\n",
    "\n",
    "# kouluta neuroverkko (käytä model.fit() funktiota)\n",
    "model.fit(train_X, train_y, epochs=5)\n",
    "\n",
    "# vertaa neuroverkon ennustuksia testidataan (käytä model.evaluate() funktiota)\n",
    "results = model.evaluate(test_X, test_y)"
   ]
  },
  {
   "cell_type": "code",
   "execution_count": 19,
   "metadata": {
    "scrolled": true,
    "tags": [
     "answers_1_3"
    ]
   },
   "outputs": [
    {
     "name": "stdout",
     "output_type": "stream",
     "text": [
      "Test Loss:0.5708365978358628 Test Accuracy:71.42857142857143%\n"
     ]
    }
   ],
   "source": [
    "# Tehtävän vastaukset. Huom! Älä muokkaa tätä solua, vaan aja se, kun olet suorittanut tehtävän. Sijoita results - muuttujaan funktion model.evaluate() tulos.\n",
    "# Muista määrittää model.compile() - funktioon seurattavaksi suureeksi metrics=['accuracy'], jotta näät, kuinka suuri osa neuroverkon ennustuksista on oikein.\n",
    "print(f\"Test Loss:{results[0]} Test Accuracy:{results[1]*100}%\")"
   ]
  }
 ],
 "metadata": {
  "kernelspec": {
   "display_name": "Python [conda env:AA5044]",
   "language": "python",
   "name": "conda-env-AA5044-py"
  },
  "language_info": {
   "codemirror_mode": {
    "name": "ipython",
    "version": 3
   },
   "file_extension": ".py",
   "mimetype": "text/x-python",
   "name": "python",
   "nbconvert_exporter": "python",
   "pygments_lexer": "ipython3",
   "version": "3.8.11"
  }
 },
 "nbformat": 4,
 "nbformat_minor": 4
}
