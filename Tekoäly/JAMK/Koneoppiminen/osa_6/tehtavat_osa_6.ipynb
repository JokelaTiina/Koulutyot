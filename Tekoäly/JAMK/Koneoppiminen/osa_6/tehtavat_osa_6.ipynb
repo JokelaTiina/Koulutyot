{
 "cells": [
  {
   "cell_type": "markdown",
   "metadata": {},
   "source": [
    "# Koneoppiminen: Osa 6: Satunnaismetsä"
   ]
  },
  {
   "cell_type": "code",
   "execution_count": null,
   "metadata": {
    "tags": [
     "student_info"
    ]
   },
   "outputs": [],
   "source": [
    "# Kirjoita tähän tietosi!\n",
    "student_name = 'Tiina Jokela'"
   ]
  },
  {
   "cell_type": "markdown",
   "metadata": {},
   "source": [
    "## Tehtävä 1\n",
    "### Aihe: Tekstiilityöntekijöiden tuottavuus\n",
    "\n",
    "4 pistettä\n",
    "\n",
    "1. Tutustu ja lataa aineisto osoitteesta https://archive.ics.uci.edu/ml/datasets/Productivity+Prediction+of+Garment+Employees# . Lataa aineisto DataFrameen. \n",
    "\n",
    "2. Jätä pois taustamuuttujat analysoitavasta datasta.\n",
    "\n",
    "3. Ratkaise mitä teet puuttuville arvoille.\n",
    "\n",
    "4. Normalisoi. \n",
    "\n",
    "5. Luo lisäksi luokkamuuttuja, joka on arvoltaa 0, jos tuottavuus on alle 0.5 ja arvoltaan 1, jos tuottavuus on yli 0.5. Tallenna tämä df-muuttujaan sarakkeeksi `class`."
   ]
  },
  {
   "cell_type": "code",
   "execution_count": 2,
   "metadata": {
    "scrolled": false
   },
   "outputs": [],
   "source": [
    "# Kirjoita toteutuksesi tähän soluun. \n",
    "import pandas as pd\n",
    "import numpy as np\n",
    "from sklearn.impute import SimpleImputer\n",
    "from sklearn.preprocessing import minmax_scale\n",
    " \n",
    "df = pd.read_csv('garments_worker_productivity.csv') \n",
    "df = df.drop(['date', 'quarter', 'day', 'department', 'team'], axis=1)\n",
    "\n",
    "imp = SimpleImputer(missing_values=np.nan, strategy='mean')\n",
    "imp = imp.fit(df).transform(df)\n",
    "\n",
    "scaled = minmax_scale(imp, feature_range=(0, 1))\n",
    "column_names = ('targeted_productivity', 'smv', 'wip', 'over_time', 'incentive', 'idle_time', 'idle_men', 'no_of_style_change', \n",
    "                'no_of_workers', 'actual_productivity')\n",
    "df = pd.DataFrame(scaled, columns=column_names)\n",
    "df.loc[df['actual_productivity'] < 0.5, 'class'] = 0\n",
    "df.loc[df['actual_productivity'] >= 0.5, 'class'] = 1"
   ]
  },
  {
   "cell_type": "code",
   "execution_count": 3,
   "metadata": {
    "tags": [
     "answer_6_1"
    ]
   },
   "outputs": [
    {
     "name": "stdout",
     "output_type": "stream",
     "text": [
      "Columns: Index(['targeted_productivity', 'smv', 'wip', 'over_time', 'incentive',\n",
      "       'idle_time', 'idle_men', 'no_of_style_change', 'no_of_workers',\n",
      "       'actual_productivity', 'class'],\n",
      "      dtype='object')\n",
      "First row by position: targeted_productivity    1.000000\n",
      "smv                      0.450252\n",
      "wip                      0.047631\n",
      "over_time                0.273148\n",
      "incentive                0.027222\n",
      "idle_time                0.000000\n",
      "idle_men                 0.000000\n",
      "no_of_style_change       0.000000\n",
      "no_of_workers            0.655172\n",
      "actual_productivity      0.797332\n",
      "class                    1.000000\n",
      "Name: 0, dtype: float64\n"
     ]
    }
   ],
   "source": [
    "# Tehtävän vastaukset. Huom! Älä muokkaa tätä solua, vaan aja se, kun olet suorittanut tehtävän. \n",
    "# Tallenna DataFrame df-muuttujaan ja koulutusaineisto.\n",
    "print(f'Columns: {df.columns}')\n",
    "print(f'First row by position: {df.iloc[0]}')"
   ]
  },
  {
   "cell_type": "markdown",
   "metadata": {},
   "source": [
    "## Tehtävä 2\n",
    "### Aihe: Regressio\n",
    "\n",
    "3 pistettä\n",
    "\n",
    "1. Jaa aineisto koulutus- (67%) ja testausaineistoksi (33%) tallentaen myös luokkamuuttujat omiksi vektoreiksi (`X_train`, `y_train`, `X_test`, `y_test`). Käytä satunnaissiementä `23`.\n",
    "\n",
    "Vinkki: älä laita sarakkeita `actual_productivity` tai `class` aineistoon `X`-muuttujiin.\n",
    "\n",
    "2. Käytä `scikit-learn`-kirjaston `ensemble`-moduulin [funktioita](https://scikit-learn.org/stable/modules/classes.html#module-sklearn.ensemble) ja luo regressiomalli satunnaismetsää hyödyntäen. Yritetään siis ennustaa `actual_productivity`-muuttujaa. \n",
    "\n",
    "Käytä satunnaissiementä `753`.\n",
    "\n",
    "3. Ennusta testausaineiston `actual_productivity`. Tallenna selitetty varianssi `exp_var` ja suurin virhe `max_err` kirjaston `metrics`-moduulin työkaluilla."
   ]
  },
  {
   "cell_type": "code",
   "execution_count": 5,
   "metadata": {},
   "outputs": [],
   "source": [
    "# Kirjoita toteutuksesi tähän soluun. \n",
    "from sklearn.model_selection import train_test_split\n",
    "from sklearn.ensemble import RandomForestRegressor\n",
    "from sklearn.metrics import explained_variance_score\n",
    "from sklearn.metrics import max_error\n",
    "\n",
    "X = df.drop(['actual_productivity', 'class'], axis=1)\n",
    "y = df['actual_productivity']\n",
    "X_train, X_test, y_train, y_test = train_test_split(X, y, test_size=0.33, random_state=23)\n",
    "\n",
    "regr = RandomForestRegressor(random_state=753)\n",
    "y_pred = regr.fit(X_train, y_train).predict(X_test)\n",
    "\n",
    "exp_var = explained_variance_score(y_test, y_pred)\n",
    "max_err = max_error(y_test, y_pred)"
   ]
  },
  {
   "cell_type": "code",
   "execution_count": 6,
   "metadata": {
    "tags": [
     "answer_6_2"
    ]
   },
   "outputs": [
    {
     "name": "stdout",
     "output_type": "stream",
     "text": [
      "Test length: 396\n",
      "Train length: 801\n",
      "Train columns: Index(['targeted_productivity', 'smv', 'wip', 'over_time', 'incentive',\n",
      "       'idle_time', 'idle_men', 'no_of_style_change', 'no_of_workers'],\n",
      "      dtype='object')\n",
      "Explained variance: 0.36585100868829734\n",
      "Maximum error: 0.6626927941429283\n"
     ]
    }
   ],
   "source": [
    "# Tehtävän vastaukset. Huom! Älä muokkaa tätä solua, vaan aja se, kun olet suorittanut tehtävän. \n",
    "# Tallenna vastaukset exp_var- ja max_err-muuttujiin.\n",
    "print(f'Test length: {len(X_test)}')\n",
    "print(f'Train length: {len(X_train)}')\n",
    "print(f'Train columns: {X_train.columns}')\n",
    "print(f'Explained variance: {exp_var}')\n",
    "print(f'Maximum error: {max_err}')"
   ]
  },
  {
   "cell_type": "markdown",
   "metadata": {},
   "source": [
    "## Tehtävä 3\n",
    "### Aihe: Luokittelu\n",
    "\n",
    "3 pistettä\n",
    "\n",
    "1. Muodosta koulutus- ja testausaineisto. Käytä satunnaissiementä `23`. Huomioi, että nyt ennustetaan `class`-muuttujaa.\n",
    "\n",
    "2. Käytä `scikit-learn`-kirjaston `ensemble`-moduulin [funktioita](https://scikit-learn.org/stable/modules/classes.html#module-sklearn.ensemble) ja luo luokittelumalli satunnaismetsää hyödyntäen. Käytä satunnaissiementä 753. Yritetään siis ennustaa luokkamuuttujaa `class`. \n",
    "\n",
    "3. Ennusta testausaineistosta `class`. Luo tarkkuusraportti `cr` ja sekaannusmatriisi `cm` kirjaston `metrics`-moduulin työkaluilla."
   ]
  },
  {
   "cell_type": "code",
   "execution_count": 9,
   "metadata": {},
   "outputs": [],
   "source": [
    "# Kirjoita toteutuksesi tähän soluun. \n",
    "from sklearn.ensemble import RandomForestClassifier\n",
    "from sklearn.metrics import classification_report\n",
    "from sklearn.metrics import confusion_matrix\n",
    "\n",
    "y = df['class']\n",
    "X_train, X_test, y_train, y_test = train_test_split(X, y, test_size=0.33, random_state=23)\n",
    "\n",
    "clf = RandomForestClassifier(random_state=753)\n",
    "y_pred = clf.fit(X_train, y_train).predict(X_test)\n",
    "\n",
    "cr = classification_report(y_test, y_pred)\n",
    "cm = confusion_matrix(y_test, y_pred)"
   ]
  },
  {
   "cell_type": "code",
   "execution_count": 10,
   "metadata": {
    "tags": [
     "answer_6_3"
    ]
   },
   "outputs": [
    {
     "name": "stdout",
     "output_type": "stream",
     "text": [
      "Test length: 396\n",
      "Train length: 801\n",
      "              precision    recall  f1-score   support\n",
      "\n",
      "         0.0       0.73      0.62      0.67       107\n",
      "         1.0       0.87      0.92      0.89       289\n",
      "\n",
      "    accuracy                           0.84       396\n",
      "   macro avg       0.80      0.77      0.78       396\n",
      "weighted avg       0.83      0.84      0.83       396\n",
      "\n",
      "[[ 66  41]\n",
      " [ 24 265]]\n"
     ]
    }
   ],
   "source": [
    "# Tehtävän vastaukset. Huom! Älä muokkaa tätä solua, vaan aja se, kun olet suorittanut tehtävän. \n",
    "# Tulokset ovat cm- ja cr-muuttujissa. \n",
    "print(f'Test length: {len(X_test)}')\n",
    "print(f'Train length: {len(X_train)}')\n",
    "print(cr)\n",
    "print(cm)"
   ]
  }
 ],
 "metadata": {
  "kernelspec": {
   "display_name": "Python 3",
   "language": "python",
   "name": "python3"
  },
  "language_info": {
   "codemirror_mode": {
    "name": "ipython",
    "version": 3
   },
   "file_extension": ".py",
   "mimetype": "text/x-python",
   "name": "python",
   "nbconvert_exporter": "python",
   "pygments_lexer": "ipython3",
   "version": "3.8.5"
  }
 },
 "nbformat": 4,
 "nbformat_minor": 4
}
